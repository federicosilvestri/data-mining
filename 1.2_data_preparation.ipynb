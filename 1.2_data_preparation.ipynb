{
 "cells": [
  {
   "cell_type": "markdown",
   "metadata": {
    "tags": []
   },
   "source": [
    "# DM - Data preparation [TASK 1.2]"
   ]
  },
  {
   "cell_type": "code",
   "execution_count": 1,
   "metadata": {},
   "outputs": [
    {
     "name": "stdout",
     "output_type": "stream",
     "text": [
      "INFO: Pandarallel will run on 5 workers.\n",
      "INFO: Pandarallel will use Memory file system to transfer data between the main process and workers.\n"
     ]
    }
   ],
   "source": [
    "import numpy as np\n",
    "import pandas as pd\n",
    "import matplotlib.pyplot as plt\n",
    "from pandarallel import pandarallel\n",
    "\n",
    "from utils import fetch_preprocessed_dataset, store_preprocessed_dataset\n",
    "from utils import build_grid_plot\n",
    "from utils.validators import check_int, MIN_DATE, MAX_DATE\n",
    "\n",
    "import os\n",
    "import sys\n",
    "import logging as lg\n",
    "import string\n",
    "\n",
    "root = lg.getLogger()\n",
    "root.setLevel(lg.INFO)\n",
    "\n",
    "handler = lg.StreamHandler(sys.stdout)\n",
    "handler.setLevel(lg.DEBUG)\n",
    "formatter = lg.Formatter(\"%(asctime)s - %(name)s - %(levelname)s - %(message)s\")\n",
    "handler.setFormatter(formatter)\n",
    "root.addHandler(handler)\n",
    "\n",
    "nb_workers = int(os.cpu_count() / 2 + 1)\n",
    "pandarallel.initialize(\n",
    "    progress_bar=True,\n",
    "    nb_workers=nb_workers,\n",
    ")"
   ]
  },
  {
   "cell_type": "markdown",
   "metadata": {},
   "source": [
    "Fetching the dataset using our native python functions."
   ]
  },
  {
   "cell_type": "code",
   "execution_count": 2,
   "metadata": {},
   "outputs": [],
   "source": [
    "# Load the pickles\n",
    "dataset = fetch_preprocessed_dataset(step_name=\"outlier_detection\")\n",
    "tweets = dataset['tweets.pickle']\n",
    "users = dataset['users.pickle']"
   ]
  },
  {
   "cell_type": "markdown",
   "metadata": {},
   "source": [
    "Before aggregating users and tweets dataset we should be clean user_id column from invalid values."
   ]
  },
  {
   "cell_type": "code",
   "execution_count": 3,
   "metadata": {},
   "outputs": [
    {
     "name": "stderr",
     "output_type": "stream",
     "text": [
      "/usr/local/lib/python3.10/dist-packages/pandarallel/data_types/series.py:42: FutureWarning: The behavior of `series[i:j]` with an integer-dtype index is deprecated. In a future version, this will be treated as *label-based* indexing, consistent with e.g. `series[i]` lookups. To retain the old behavior, use `series.iloc[i:j]`. To get the future behavior, use `series.loc[i:j]`.\n",
      "  yield data[chunk_]\n"
     ]
    },
    {
     "data": {
      "application/vnd.jupyter.widget-view+json": {
       "model_id": "649a822a38ad4a958c4680bdf9462676",
       "version_major": 2,
       "version_minor": 0
      },
      "text/plain": [
       "VBox(children=(HBox(children=(IntProgress(value=0, description='0.00%', max=2053356), Label(value='0 / 2053356…"
      ]
     },
     "metadata": {},
     "output_type": "display_data"
    },
    {
     "name": "stdout",
     "output_type": "stream",
     "text": [
      "<class 'pandas.core.frame.DataFrame'>\n",
      "Int64Index: 10052836 entries, 0 to 13664695\n",
      "Data columns (total 9 columns):\n",
      " #   Column          Dtype         \n",
      "---  ------          -----         \n",
      " 0   user_id         int64         \n",
      " 1   retweet_count   float64       \n",
      " 2   reply_count     float64       \n",
      " 3   favorite_count  float64       \n",
      " 4   num_hashtags    float64       \n",
      " 5   num_urls        float64       \n",
      " 6   num_mentions    float64       \n",
      " 7   created_at      datetime64[ns]\n",
      " 8   text            string        \n",
      "dtypes: datetime64[ns](1), float64(6), int64(1), string(1)\n",
      "memory usage: 767.0 MB\n"
     ]
    }
   ],
   "source": [
    "tweets = tweets[tweets['user_id'].parallel_map(check_int)]\n",
    "tweets = tweets.astype({'user_id': 'int64'})\n",
    "\n",
    "tweets.info()"
   ]
  },
  {
   "cell_type": "markdown",
   "metadata": {},
   "source": [
    "## Data aggregation"
   ]
  },
  {
   "cell_type": "markdown",
   "metadata": {},
   "source": [
    "Aggregation of `tweet_num`, so the number of tweets for each user."
   ]
  },
  {
   "cell_type": "code",
   "execution_count": 4,
   "metadata": {
    "pycharm": {
     "is_executing": true
    }
   },
   "outputs": [
    {
     "data": {
      "text/plain": [
       "count    11508.000000\n",
       "mean       873.516597\n",
       "std       1142.250366\n",
       "min          1.000000\n",
       "25%         59.750000\n",
       "50%        121.000000\n",
       "75%       1582.250000\n",
       "max       3926.000000\n",
       "Name: tweets_num, dtype: float64"
      ]
     },
     "execution_count": 4,
     "metadata": {},
     "output_type": "execute_result"
    }
   ],
   "source": [
    "column_name = 'tweets_num' \n",
    "tweets_grouped_by_users = tweets.groupby(['user_id']).size()\n",
    "\n",
    "users = users.merge(tweets_grouped_by_users.to_frame(column_name), left_on='id', right_index=True)\n",
    "\n",
    "users[column_name].describe()"
   ]
  },
  {
   "cell_type": "markdown",
   "metadata": {},
   "source": [
    "Now is created another attribute called `tweets_2020_num` that represents the number of tweets of each users pulished in the year 2020."
   ]
  },
  {
   "cell_type": "code",
   "execution_count": 5,
   "metadata": {},
   "outputs": [
    {
     "name": "stderr",
     "output_type": "stream",
     "text": [
      "/usr/local/lib/python3.10/dist-packages/pandarallel/data_types/series.py:42: FutureWarning: The behavior of `series[i:j]` with an integer-dtype index is deprecated. In a future version, this will be treated as *label-based* indexing, consistent with e.g. `series[i]` lookups. To retain the old behavior, use `series.iloc[i:j]`. To get the future behavior, use `series.loc[i:j]`.\n",
      "  yield data[chunk_]\n"
     ]
    },
    {
     "data": {
      "application/vnd.jupyter.widget-view+json": {
       "model_id": "452438e77f34433692f34dc96fb030d8",
       "version_major": 2,
       "version_minor": 0
      },
      "text/plain": [
       "VBox(children=(HBox(children=(IntProgress(value=0, description='0.00%', max=2010568), Label(value='0 / 2010568…"
      ]
     },
     "metadata": {},
     "output_type": "display_data"
    },
    {
     "data": {
      "text/plain": [
       "count    11508.000000\n",
       "mean       865.112096\n",
       "std       1128.659294\n",
       "min          1.000000\n",
       "25%         59.000000\n",
       "50%        121.000000\n",
       "75%       1567.000000\n",
       "max       3467.000000\n",
       "Name: tweets_2020_num, dtype: float64"
      ]
     },
     "execution_count": 5,
     "metadata": {},
     "output_type": "execute_result"
    }
   ],
   "source": [
    "column_name = 'tweets_2020_num'\n",
    "\n",
    "def filter_datetime_2020(datetime):\n",
    "    return MIN_DATE <= pd.Timestamp(datetime) < MAX_DATE\n",
    "\n",
    "tweets_filtered_2020 = tweets[tweets['created_at'].parallel_map(filter_datetime_2020)]\n",
    "tweets_grouped_2020 = tweets_filtered_2020.groupby(['user_id']).size()\n",
    "\n",
    "users = users.merge(tweets_grouped_2020.to_frame(column_name), left_on='id', right_index=True)\n",
    "\n",
    "users[column_name].describe()"
   ]
  },
  {
   "cell_type": "markdown",
   "metadata": {},
   "source": [
    "Total number of likes per user added in column `likes_num`."
   ]
  },
  {
   "cell_type": "code",
   "execution_count": 6,
   "metadata": {},
   "outputs": [
    {
     "data": {
      "text/plain": [
       "count     11508.000000\n",
       "mean       1234.076382\n",
       "std       21344.947342\n",
       "min           0.000000\n",
       "25%           3.000000\n",
       "50%           9.000000\n",
       "75%         365.000000\n",
       "max      868163.000000\n",
       "Name: likes_num, dtype: float64"
      ]
     },
     "execution_count": 6,
     "metadata": {},
     "output_type": "execute_result"
    }
   ],
   "source": [
    "column_name = 'likes_num'\n",
    "tweets_grouped_likes = tweets.groupby(['user_id'])['favorite_count'].sum()\n",
    "\n",
    "users = users.merge(tweets_grouped_likes.to_frame(column_name), left_on='id', right_index=True)\n",
    "\n",
    "users[column_name].describe()"
   ]
  },
  {
   "cell_type": "markdown",
   "metadata": {},
   "source": [
    "This new column `comments_num` represents for each user the total number of comments that he wrotes."
   ]
  },
  {
   "cell_type": "code",
   "execution_count": 7,
   "metadata": {},
   "outputs": [
    {
     "data": {
      "text/plain": [
       "count    11508.000000\n",
       "mean        56.104970\n",
       "std        521.967526\n",
       "min          0.000000\n",
       "25%          0.000000\n",
       "50%          0.000000\n",
       "75%          0.000000\n",
       "max      10273.000000\n",
       "Name: comments_num, dtype: float64"
      ]
     },
     "execution_count": 7,
     "metadata": {},
     "output_type": "execute_result"
    }
   ],
   "source": [
    "column_name = 'comments_num'\n",
    "tweets_grouped_comments = tweets.groupby(['user_id'])['reply_count'].sum()\n",
    "\n",
    "users = users.merge(tweets_grouped_comments.to_frame(column_name), left_on='id', right_index=True)\n",
    "\n",
    "users[column_name].describe()"
   ]
  },
  {
   "cell_type": "markdown",
   "metadata": {},
   "source": [
    "`ratio_likes_x_tweets` represent the number of likes for each tweet. "
   ]
  },
  {
   "cell_type": "code",
   "execution_count": 8,
   "metadata": {},
   "outputs": [
    {
     "data": {
      "text/plain": [
       "count    11508.000000\n",
       "mean         3.104821\n",
       "std         33.290367\n",
       "min          0.000000\n",
       "25%          0.024768\n",
       "50%          0.066146\n",
       "75%          0.268293\n",
       "max       1454.209380\n",
       "Name: ratio_likes_x_tweets, dtype: float64"
      ]
     },
     "execution_count": 8,
     "metadata": {},
     "output_type": "execute_result"
    }
   ],
   "source": [
    "column_name = 'ratio_likes_x_tweets'\n",
    "\n",
    "users[column_name] = users['likes_num'] / users['tweets_num']\n",
    "users[column_name].replace([np.nan, np.inf, -np.inf], 0, inplace=True)\n",
    "\n",
    "users[column_name].describe()"
   ]
  },
  {
   "cell_type": "markdown",
   "metadata": {},
   "source": [
    "The entropy of user is accounted by `entropy` column computed on number of tweets done a user on total number of tweets."
   ]
  },
  {
   "cell_type": "code",
   "execution_count": 9,
   "metadata": {},
   "outputs": [
    {
     "data": {
      "text/plain": [
       "count    11508.000000\n",
       "mean         0.001071\n",
       "std          0.001324\n",
       "min          0.000002\n",
       "25%          0.000103\n",
       "50%          0.000197\n",
       "75%          0.001988\n",
       "max          0.004422\n",
       "Name: entropy, dtype: float64"
      ]
     },
     "execution_count": 9,
     "metadata": {},
     "output_type": "execute_result"
    }
   ],
   "source": [
    "column_name = 'entropy'\n",
    "p_user_tweets = users['tweets_num'] / len(tweets)\n",
    "users[column_name] = - (p_user_tweets * np.log2(p_user_tweets))\n",
    "\n",
    "users[column_name].describe()"
   ]
  },
  {
   "cell_type": "markdown",
   "metadata": {},
   "source": [
    "Here is aggregated the mean of texts length for each user by the new column `texts_mean_length`."
   ]
  },
  {
   "cell_type": "code",
   "execution_count": 10,
   "metadata": {},
   "outputs": [
    {
     "name": "stderr",
     "output_type": "stream",
     "text": [
      "/usr/local/lib/python3.10/dist-packages/pandarallel/data_types/series.py:42: FutureWarning: The behavior of `series[i:j]` with an integer-dtype index is deprecated. In a future version, this will be treated as *label-based* indexing, consistent with e.g. `series[i]` lookups. To retain the old behavior, use `series.iloc[i:j]`. To get the future behavior, use `series.loc[i:j]`.\n",
      "  yield data[chunk_]\n"
     ]
    },
    {
     "data": {
      "application/vnd.jupyter.widget-view+json": {
       "model_id": "b41935f7ce0d4e7ca933b87829c412b5",
       "version_major": 2,
       "version_minor": 0
      },
      "text/plain": [
       "VBox(children=(HBox(children=(IntProgress(value=0, description='0.00%', max=2010568), Label(value='0 / 2010568…"
      ]
     },
     "metadata": {},
     "output_type": "display_data"
    },
    {
     "data": {
      "text/plain": [
       "count    11508.000000\n",
       "mean        70.273139\n",
       "std         16.636644\n",
       "min          3.000000\n",
       "25%         61.516377\n",
       "50%         67.494258\n",
       "75%         79.642466\n",
       "max        245.000000\n",
       "Name: texts_mean_length, dtype: float64"
      ]
     },
     "execution_count": 10,
     "metadata": {},
     "output_type": "execute_result"
    }
   ],
   "source": [
    "column_name = 'texts_mean_length'\n",
    "tweets[column_name] = tweets['text'].parallel_map(lambda t: len(t))\n",
    "tweets_grouped_text_length = tweets.groupby(['user_id'])[column_name].mean()\n",
    "\n",
    "users = users.merge(tweets_grouped_text_length.to_frame(column_name), left_on='id', right_index=True)\n",
    "\n",
    "users[column_name].describe()"
   ]
  },
  {
   "cell_type": "markdown",
   "metadata": {},
   "source": [
    "`texts_special_chars_length` represents the mean number of special character inside texts for each user."
   ]
  },
  {
   "cell_type": "code",
   "execution_count": 11,
   "metadata": {},
   "outputs": [
    {
     "name": "stderr",
     "output_type": "stream",
     "text": [
      "/usr/local/lib/python3.10/dist-packages/pandarallel/data_types/series.py:42: FutureWarning: The behavior of `series[i:j]` with an integer-dtype index is deprecated. In a future version, this will be treated as *label-based* indexing, consistent with e.g. `series[i]` lookups. To retain the old behavior, use `series.iloc[i:j]`. To get the future behavior, use `series.loc[i:j]`.\n",
      "  yield data[chunk_]\n"
     ]
    },
    {
     "data": {
      "application/vnd.jupyter.widget-view+json": {
       "model_id": "33b216ff34e84521a899d7c658303884",
       "version_major": 2,
       "version_minor": 0
      },
      "text/plain": [
       "VBox(children=(HBox(children=(IntProgress(value=0, description='0.00%', max=2010568), Label(value='0 / 2010568…"
      ]
     },
     "metadata": {},
     "output_type": "display_data"
    },
    {
     "data": {
      "text/plain": [
       "count    11508.000000\n",
       "mean         7.324552\n",
       "std         12.005750\n",
       "min          0.000000\n",
       "25%          3.829188\n",
       "50%          4.766878\n",
       "75%          6.489471\n",
       "max        215.000000\n",
       "Name: texts_special_chars_length, dtype: float64"
      ]
     },
     "execution_count": 11,
     "metadata": {},
     "output_type": "execute_result"
    }
   ],
   "source": [
    "column_name = 'texts_special_chars_length'\n",
    "VALID_CHARACTERS = string.ascii_letters + string.digits + \" \" + \"\\n\"\n",
    "\n",
    "def count_special_chars(text):\n",
    "    count = 0\n",
    "    for ch in text:\n",
    "        count += 0 if ch in VALID_CHARACTERS else 1\n",
    "    return count\n",
    "\n",
    "tweets[column_name] = tweets['text'].parallel_map(count_special_chars)\n",
    "tweets_grouped_text_sc_length = tweets.groupby(['user_id'])[column_name].mean()\n",
    "\n",
    "users = users.merge(tweets_grouped_text_sc_length.to_frame(column_name), left_on='id', right_index=True)\n",
    "\n",
    "users[column_name].describe()"
   ]
  },
  {
   "cell_type": "markdown",
   "metadata": {},
   "source": [
    "## Data description"
   ]
  },
  {
   "cell_type": "markdown",
   "metadata": {},
   "source": [
    "Description of users columns statistichs."
   ]
  },
  {
   "cell_type": "code",
   "execution_count": 12,
   "metadata": {},
   "outputs": [
    {
     "data": {
      "text/html": [
       "<div>\n",
       "<style scoped>\n",
       "    .dataframe tbody tr th:only-of-type {\n",
       "        vertical-align: middle;\n",
       "    }\n",
       "\n",
       "    .dataframe tbody tr th {\n",
       "        vertical-align: top;\n",
       "    }\n",
       "\n",
       "    .dataframe thead th {\n",
       "        text-align: right;\n",
       "    }\n",
       "</style>\n",
       "<table border=\"1\" class=\"dataframe\">\n",
       "  <thead>\n",
       "    <tr style=\"text-align: right;\">\n",
       "      <th></th>\n",
       "      <th>id</th>\n",
       "      <th>statuses_count</th>\n",
       "      <th>tweets_num</th>\n",
       "      <th>tweets_2020_num</th>\n",
       "      <th>likes_num</th>\n",
       "      <th>comments_num</th>\n",
       "      <th>ratio_likes_x_tweets</th>\n",
       "      <th>entropy</th>\n",
       "      <th>texts_mean_length</th>\n",
       "      <th>texts_special_chars_length</th>\n",
       "    </tr>\n",
       "  </thead>\n",
       "  <tbody>\n",
       "    <tr>\n",
       "      <th>count</th>\n",
       "      <td>1.150800e+04</td>\n",
       "      <td>11508.000000</td>\n",
       "      <td>11508.000000</td>\n",
       "      <td>11508.000000</td>\n",
       "      <td>11508.000000</td>\n",
       "      <td>11508.000000</td>\n",
       "      <td>11508.000000</td>\n",
       "      <td>11508.000000</td>\n",
       "      <td>11508.000000</td>\n",
       "      <td>11508.000000</td>\n",
       "    </tr>\n",
       "    <tr>\n",
       "      <th>mean</th>\n",
       "      <td>1.274517e+09</td>\n",
       "      <td>5681.686566</td>\n",
       "      <td>873.516597</td>\n",
       "      <td>865.112096</td>\n",
       "      <td>1234.076382</td>\n",
       "      <td>56.104970</td>\n",
       "      <td>3.104821</td>\n",
       "      <td>0.001071</td>\n",
       "      <td>70.273139</td>\n",
       "      <td>7.324552</td>\n",
       "    </tr>\n",
       "    <tr>\n",
       "      <th>std</th>\n",
       "      <td>9.354135e+08</td>\n",
       "      <td>18769.594489</td>\n",
       "      <td>1142.250366</td>\n",
       "      <td>1128.659294</td>\n",
       "      <td>21344.947342</td>\n",
       "      <td>521.967526</td>\n",
       "      <td>33.290367</td>\n",
       "      <td>0.001324</td>\n",
       "      <td>16.636644</td>\n",
       "      <td>12.005750</td>\n",
       "    </tr>\n",
       "    <tr>\n",
       "      <th>min</th>\n",
       "      <td>6.780330e+05</td>\n",
       "      <td>0.000000</td>\n",
       "      <td>1.000000</td>\n",
       "      <td>1.000000</td>\n",
       "      <td>0.000000</td>\n",
       "      <td>0.000000</td>\n",
       "      <td>0.000000</td>\n",
       "      <td>0.000002</td>\n",
       "      <td>3.000000</td>\n",
       "      <td>0.000000</td>\n",
       "    </tr>\n",
       "    <tr>\n",
       "      <th>25%</th>\n",
       "      <td>4.663594e+08</td>\n",
       "      <td>42.000000</td>\n",
       "      <td>59.750000</td>\n",
       "      <td>59.000000</td>\n",
       "      <td>3.000000</td>\n",
       "      <td>0.000000</td>\n",
       "      <td>0.024768</td>\n",
       "      <td>0.000103</td>\n",
       "      <td>61.516377</td>\n",
       "      <td>3.829188</td>\n",
       "    </tr>\n",
       "    <tr>\n",
       "      <th>50%</th>\n",
       "      <td>1.128643e+09</td>\n",
       "      <td>68.000000</td>\n",
       "      <td>121.000000</td>\n",
       "      <td>121.000000</td>\n",
       "      <td>9.000000</td>\n",
       "      <td>0.000000</td>\n",
       "      <td>0.066146</td>\n",
       "      <td>0.000197</td>\n",
       "      <td>67.494258</td>\n",
       "      <td>4.766878</td>\n",
       "    </tr>\n",
       "    <tr>\n",
       "      <th>75%</th>\n",
       "      <td>2.357148e+09</td>\n",
       "      <td>2520.250000</td>\n",
       "      <td>1582.250000</td>\n",
       "      <td>1567.000000</td>\n",
       "      <td>365.000000</td>\n",
       "      <td>0.000000</td>\n",
       "      <td>0.268293</td>\n",
       "      <td>0.001988</td>\n",
       "      <td>79.642466</td>\n",
       "      <td>6.489471</td>\n",
       "    </tr>\n",
       "    <tr>\n",
       "      <th>max</th>\n",
       "      <td>3.164942e+09</td>\n",
       "      <td>399555.000000</td>\n",
       "      <td>3926.000000</td>\n",
       "      <td>3467.000000</td>\n",
       "      <td>868163.000000</td>\n",
       "      <td>10273.000000</td>\n",
       "      <td>1454.209380</td>\n",
       "      <td>0.004422</td>\n",
       "      <td>245.000000</td>\n",
       "      <td>215.000000</td>\n",
       "    </tr>\n",
       "  </tbody>\n",
       "</table>\n",
       "</div>"
      ],
      "text/plain": [
       "                 id  statuses_count    tweets_num  tweets_2020_num  \\\n",
       "count  1.150800e+04    11508.000000  11508.000000     11508.000000   \n",
       "mean   1.274517e+09     5681.686566    873.516597       865.112096   \n",
       "std    9.354135e+08    18769.594489   1142.250366      1128.659294   \n",
       "min    6.780330e+05        0.000000      1.000000         1.000000   \n",
       "25%    4.663594e+08       42.000000     59.750000        59.000000   \n",
       "50%    1.128643e+09       68.000000    121.000000       121.000000   \n",
       "75%    2.357148e+09     2520.250000   1582.250000      1567.000000   \n",
       "max    3.164942e+09   399555.000000   3926.000000      3467.000000   \n",
       "\n",
       "           likes_num  comments_num  ratio_likes_x_tweets       entropy  \\\n",
       "count   11508.000000  11508.000000          11508.000000  11508.000000   \n",
       "mean     1234.076382     56.104970              3.104821      0.001071   \n",
       "std     21344.947342    521.967526             33.290367      0.001324   \n",
       "min         0.000000      0.000000              0.000000      0.000002   \n",
       "25%         3.000000      0.000000              0.024768      0.000103   \n",
       "50%         9.000000      0.000000              0.066146      0.000197   \n",
       "75%       365.000000      0.000000              0.268293      0.001988   \n",
       "max    868163.000000  10273.000000           1454.209380      0.004422   \n",
       "\n",
       "       texts_mean_length  texts_special_chars_length  \n",
       "count       11508.000000                11508.000000  \n",
       "mean           70.273139                    7.324552  \n",
       "std            16.636644                   12.005750  \n",
       "min             3.000000                    0.000000  \n",
       "25%            61.516377                    3.829188  \n",
       "50%            67.494258                    4.766878  \n",
       "75%            79.642466                    6.489471  \n",
       "max           245.000000                  215.000000  "
      ]
     },
     "execution_count": 12,
     "metadata": {},
     "output_type": "execute_result"
    }
   ],
   "source": [
    "users.describe()"
   ]
  },
  {
   "cell_type": "markdown",
   "metadata": {},
   "source": [
    "Following line of code shows first users dataset rows."
   ]
  },
  {
   "cell_type": "code",
   "execution_count": 13,
   "metadata": {},
   "outputs": [
    {
     "data": {
      "text/html": [
       "<div>\n",
       "<style scoped>\n",
       "    .dataframe tbody tr th:only-of-type {\n",
       "        vertical-align: middle;\n",
       "    }\n",
       "\n",
       "    .dataframe tbody tr th {\n",
       "        vertical-align: top;\n",
       "    }\n",
       "\n",
       "    .dataframe thead th {\n",
       "        text-align: right;\n",
       "    }\n",
       "</style>\n",
       "<table border=\"1\" class=\"dataframe\">\n",
       "  <thead>\n",
       "    <tr style=\"text-align: right;\">\n",
       "      <th></th>\n",
       "      <th>id</th>\n",
       "      <th>name</th>\n",
       "      <th>lang</th>\n",
       "      <th>bot</th>\n",
       "      <th>created_at</th>\n",
       "      <th>statuses_count</th>\n",
       "      <th>tweets_num</th>\n",
       "      <th>tweets_2020_num</th>\n",
       "      <th>likes_num</th>\n",
       "      <th>comments_num</th>\n",
       "      <th>ratio_likes_x_tweets</th>\n",
       "      <th>entropy</th>\n",
       "      <th>texts_mean_length</th>\n",
       "      <th>texts_special_chars_length</th>\n",
       "    </tr>\n",
       "  </thead>\n",
       "  <tbody>\n",
       "    <tr>\n",
       "      <th>0</th>\n",
       "      <td>2353593986</td>\n",
       "      <td>Lamonica Raborn</td>\n",
       "      <td>en</td>\n",
       "      <td>True</td>\n",
       "      <td>2019-02-22 18:00:42</td>\n",
       "      <td>76</td>\n",
       "      <td>118</td>\n",
       "      <td>118</td>\n",
       "      <td>5.0</td>\n",
       "      <td>0.0</td>\n",
       "      <td>0.042373</td>\n",
       "      <td>0.000192</td>\n",
       "      <td>63.423729</td>\n",
       "      <td>4.076271</td>\n",
       "    </tr>\n",
       "    <tr>\n",
       "      <th>1</th>\n",
       "      <td>2358850842</td>\n",
       "      <td>Lourie Botton</td>\n",
       "      <td>en</td>\n",
       "      <td>False</td>\n",
       "      <td>2019-02-26 03:02:32</td>\n",
       "      <td>54</td>\n",
       "      <td>104</td>\n",
       "      <td>104</td>\n",
       "      <td>6.0</td>\n",
       "      <td>0.0</td>\n",
       "      <td>0.057692</td>\n",
       "      <td>0.000171</td>\n",
       "      <td>69.961538</td>\n",
       "      <td>3.663462</td>\n",
       "    </tr>\n",
       "    <tr>\n",
       "      <th>2</th>\n",
       "      <td>137959629</td>\n",
       "      <td>Dadan Syarifudin</td>\n",
       "      <td>en</td>\n",
       "      <td>True</td>\n",
       "      <td>2015-04-30 07:09:56</td>\n",
       "      <td>3</td>\n",
       "      <td>3</td>\n",
       "      <td>3</td>\n",
       "      <td>0.0</td>\n",
       "      <td>0.0</td>\n",
       "      <td>0.000000</td>\n",
       "      <td>0.000006</td>\n",
       "      <td>17.333333</td>\n",
       "      <td>4.333333</td>\n",
       "    </tr>\n",
       "    <tr>\n",
       "      <th>3</th>\n",
       "      <td>466124818</td>\n",
       "      <td>Carletto Focia</td>\n",
       "      <td>it</td>\n",
       "      <td>True</td>\n",
       "      <td>2017-01-18 02:49:18</td>\n",
       "      <td>50</td>\n",
       "      <td>1253</td>\n",
       "      <td>1253</td>\n",
       "      <td>240.0</td>\n",
       "      <td>0.0</td>\n",
       "      <td>0.191540</td>\n",
       "      <td>0.001617</td>\n",
       "      <td>89.628891</td>\n",
       "      <td>5.734238</td>\n",
       "    </tr>\n",
       "    <tr>\n",
       "      <th>4</th>\n",
       "      <td>2571493866</td>\n",
       "      <td>MBK Ebook</td>\n",
       "      <td>en</td>\n",
       "      <td>False</td>\n",
       "      <td>2019-06-18 19:30:21</td>\n",
       "      <td>7085</td>\n",
       "      <td>3217</td>\n",
       "      <td>3217</td>\n",
       "      <td>207.0</td>\n",
       "      <td>0.0</td>\n",
       "      <td>0.064346</td>\n",
       "      <td>0.003715</td>\n",
       "      <td>74.583152</td>\n",
       "      <td>3.718993</td>\n",
       "    </tr>\n",
       "  </tbody>\n",
       "</table>\n",
       "</div>"
      ],
      "text/plain": [
       "           id              name lang    bot          created_at  \\\n",
       "0  2353593986   Lamonica Raborn   en   True 2019-02-22 18:00:42   \n",
       "1  2358850842     Lourie Botton   en  False 2019-02-26 03:02:32   \n",
       "2   137959629  Dadan Syarifudin   en   True 2015-04-30 07:09:56   \n",
       "3   466124818    Carletto Focia   it   True 2017-01-18 02:49:18   \n",
       "4  2571493866         MBK Ebook   en  False 2019-06-18 19:30:21   \n",
       "\n",
       "   statuses_count  tweets_num  tweets_2020_num  likes_num  comments_num  \\\n",
       "0              76         118              118        5.0           0.0   \n",
       "1              54         104              104        6.0           0.0   \n",
       "2               3           3                3        0.0           0.0   \n",
       "3              50        1253             1253      240.0           0.0   \n",
       "4            7085        3217             3217      207.0           0.0   \n",
       "\n",
       "   ratio_likes_x_tweets   entropy  texts_mean_length  \\\n",
       "0              0.042373  0.000192          63.423729   \n",
       "1              0.057692  0.000171          69.961538   \n",
       "2              0.000000  0.000006          17.333333   \n",
       "3              0.191540  0.001617          89.628891   \n",
       "4              0.064346  0.003715          74.583152   \n",
       "\n",
       "   texts_special_chars_length  \n",
       "0                    4.076271  \n",
       "1                    3.663462  \n",
       "2                    4.333333  \n",
       "3                    5.734238  \n",
       "4                    3.718993  "
      ]
     },
     "execution_count": 13,
     "metadata": {},
     "output_type": "execute_result"
    }
   ],
   "source": [
    "users.head()"
   ]
  },
  {
   "cell_type": "markdown",
   "metadata": {},
   "source": [
    "## Distribution analysis"
   ]
  },
  {
   "cell_type": "markdown",
   "metadata": {},
   "source": [
    "Users histograms of new values to show their distribution."
   ]
  },
  {
   "cell_type": "code",
   "execution_count": 14,
   "metadata": {},
   "outputs": [
    {
     "data": {
      "image/png": "[encoded data removed]",
      "text/plain": [
       "<Figure size 2000x1500 with 8 Axes>"
      ]
     },
     "metadata": {},
     "output_type": "display_data"
    }
   ],
   "source": [
    "configs = [\n",
    "    {\n",
    "        'type': 'hist',\n",
    "        'column': users['tweets_num'],\n",
    "        'title': 'Tweets num',\n",
    "        'yscale': 'log',\n",
    "    },\n",
    "    {\n",
    "        'type': 'hist',\n",
    "        'column': users['tweets_2020_num'],\n",
    "        'title': 'Tweets 2020 num',\n",
    "        'yscale': 'log',\n",
    "    },\n",
    "    {\n",
    "        'type': 'hist',\n",
    "        'column': users['likes_num'],\n",
    "        'title': 'Likes num',\n",
    "        'yscale': 'log',\n",
    "    },\n",
    "    {\n",
    "        'type': 'hist',\n",
    "        'column': users['comments_num'],\n",
    "        'title': 'Comments num',\n",
    "        'yscale': 'log',\n",
    "    },\n",
    "    {\n",
    "        'type': 'hist',\n",
    "        'column': users['ratio_likes_x_tweets'],\n",
    "        'title': 'Ratio tweets likes',\n",
    "        'yscale': 'log',\n",
    "    },\n",
    "    {\n",
    "        'type': 'hist',\n",
    "        'column': users['entropy'],\n",
    "        'title': 'Entropy',\n",
    "        'yscale': 'log',\n",
    "    },\n",
    "    {\n",
    "        'type': 'hist',\n",
    "        'column': users['texts_mean_length'],\n",
    "        'title': 'Texts mean length',\n",
    "        'yscale': 'log',\n",
    "    },\n",
    "    {\n",
    "        'type': 'hist',\n",
    "        'column': users['texts_special_chars_length'],\n",
    "        'title': 'Texts special chars mean length',\n",
    "        'yscale': 'log',\n",
    "    },\n",
    "]\n",
    "\n",
    "build_grid_plot(configs=configs)"
   ]
  },
  {
   "cell_type": "markdown",
   "metadata": {},
   "source": [
    "### Outliers detection"
   ]
  },
  {
   "cell_type": "markdown",
   "metadata": {},
   "source": [
    "Box-plots that shows new aggregated attributes outliers."
   ]
  },
  {
   "cell_type": "code",
   "execution_count": 15,
   "metadata": {},
   "outputs": [
    {
     "data": {
      "image/png": "[encoded data removed]",
      "text/plain": [
       "<Figure size 2000x1500 with 8 Axes>"
      ]
     },
     "metadata": {},
     "output_type": "display_data"
    }
   ],
   "source": [
    "def boxplot_tweets_newfeatures_show():\n",
    "    configs = [\n",
    "        {\n",
    "            'type': 'boxplot',\n",
    "            'df': users,\n",
    "            'columns': ['tweets_num']\n",
    "        },\n",
    "        {\n",
    "            'type': 'boxplot',\n",
    "            'df': users,\n",
    "            'columns': ['tweets_2020_num']\n",
    "        },\n",
    "        {\n",
    "            'type': 'boxplot',\n",
    "            'df': users,\n",
    "            'columns': ['likes_num']\n",
    "        },\n",
    "        {\n",
    "            'type': 'boxplot',\n",
    "            'df': users,\n",
    "            'columns': ['comments_num']\n",
    "        },\n",
    "        {\n",
    "            'type': 'boxplot',\n",
    "            'df': users,\n",
    "            'columns': ['ratio_likes_x_tweets']\n",
    "        },\n",
    "        {\n",
    "            'type': 'boxplot',\n",
    "            'df': users,\n",
    "            'columns': ['entropy']\n",
    "        },\n",
    "        {\n",
    "            'type': 'boxplot',\n",
    "            'df': users,\n",
    "            'columns': ['texts_mean_length']\n",
    "        },\n",
    "        {\n",
    "            'type': 'boxplot',\n",
    "            'df': users,\n",
    "            'columns': ['texts_special_chars_length']\n",
    "        },\n",
    "    ]\n",
    "\n",
    "    build_grid_plot(configs=configs)\n",
    "\n",
    "boxplot_tweets_newfeatures_show()"
   ]
  },
  {
   "cell_type": "markdown",
   "metadata": {},
   "source": [
    "Here are printed the percentage of outliers over and below the two box-plot whiskers for each new numerical attribute of users dataset."
   ]
  },
  {
   "cell_type": "code",
   "execution_count": 16,
   "metadata": {},
   "outputs": [
    {
     "name": "stdout",
     "output_type": "stream",
     "text": [
      "2022-11-05 11:00:03,056 - root - INFO - 0.13903371567605144 % of column tweets_num are over superior whisker (3866.0) and below inferior one (-2224.0)\n",
      "2022-11-05 11:00:03,060 - root - INFO - 0.0 % of column tweets_2020_num are over superior whisker (3829.0) and below inferior one (-2203.0)\n",
      "2022-11-05 11:00:03,063 - root - INFO - 14.16405978449774 % of column likes_num are over superior whisker (908.0) and below inferior one (-540.0)\n",
      "2022-11-05 11:00:03,067 - root - INFO - 18.68265554396941 % of column comments_num are over superior whisker (0.0) and below inferior one (0.0)\n",
      "2022-11-05 11:00:03,070 - root - INFO - 13.755648244699339 % of column ratio_likes_x_tweets are over superior whisker (0.6335798860743429) and below inferior one (-0.3405193223190267)\n",
      "2022-11-05 11:00:03,073 - root - INFO - 0.0 % of column entropy are over superior whisker (0.004816236680844571) and below inferior one (-0.0027246508256134143)\n",
      "2022-11-05 11:00:03,076 - root - INFO - 3.684393465415363 % of column texts_mean_length are over superior whisker (106.83159919374643) and below inferior one (34.327243850567946)\n",
      "2022-11-05 11:00:03,080 - root - INFO - 10.974973931178312 % of column texts_special_chars_length are over superior whisker (10.479896534771857) and below inferior one (-0.1612370222751811)\n"
     ]
    }
   ],
   "source": [
    "for col in ['tweets_num', 'tweets_2020_num', 'likes_num', 'comments_num', 'ratio_likes_x_tweets', 'entropy', 'texts_mean_length', 'texts_special_chars_length']:\n",
    "    Q1 = np.quantile(users[col], 0.25)\n",
    "    Q3 = np.quantile(users[col], 0.75)\n",
    "    IQR = Q3 - Q1\n",
    "    superior_whisker = Q3 + 1.5 * IQR\n",
    "    outliers_perc_sup = len(users[users[col] > superior_whisker]) / len(users) * 100\n",
    "    inferior_whisker = Q1 - 1.5 * IQR\n",
    "    outliers_perc_inf = len(users[users[col] < inferior_whisker]) / len(users) * 100\n",
    "    outliers_perc = outliers_perc_sup + outliers_perc_inf\n",
    "    lg.info(f'{outliers_perc} % of column {col} are over superior whisker ({superior_whisker}) and below inferior one ({inferior_whisker})')"
   ]
  },
  {
   "cell_type": "markdown",
   "metadata": {},
   "source": [
    "### Correlation"
   ]
  },
  {
   "cell_type": "markdown",
   "metadata": {},
   "source": [
    "Correlation matrix according old and new numerical values of users dataset."
   ]
  },
  {
   "cell_type": "code",
   "execution_count": 17,
   "metadata": {},
   "outputs": [
    {
     "data": {
      "text/html": [
       "<style type=\"text/css\">\n",
       "#T_d64e6_row0_col0, #T_d64e6_row1_col1, #T_d64e6_row2_col2, #T_d64e6_row2_col3, #T_d64e6_row2_col6, #T_d64e6_row3_col2, #T_d64e6_row3_col3, #T_d64e6_row3_col6, #T_d64e6_row4_col4, #T_d64e6_row5_col5, #T_d64e6_row6_col2, #T_d64e6_row6_col3, #T_d64e6_row6_col6, #T_d64e6_row7_col7, #T_d64e6_row8_col8, #T_d64e6_row9_col9 {\n",
       "  background-color: #b40426;\n",
       "  color: #f1f1f1;\n",
       "}\n",
       "#T_d64e6_row0_col1 {\n",
       "  background-color: #4257c9;\n",
       "  color: #f1f1f1;\n",
       "}\n",
       "#T_d64e6_row0_col2 {\n",
       "  background-color: #f4c6af;\n",
       "  color: #000000;\n",
       "}\n",
       "#T_d64e6_row0_col3, #T_d64e6_row0_col6, #T_d64e6_row2_col0 {\n",
       "  background-color: #f3c7b1;\n",
       "  color: #000000;\n",
       "}\n",
       "#T_d64e6_row0_col4, #T_d64e6_row0_col8, #T_d64e6_row1_col0, #T_d64e6_row1_col2, #T_d64e6_row1_col3, #T_d64e6_row1_col4, #T_d64e6_row1_col5, #T_d64e6_row1_col6, #T_d64e6_row2_col7, #T_d64e6_row2_col9, #T_d64e6_row3_col7, #T_d64e6_row3_col9, #T_d64e6_row6_col1, #T_d64e6_row6_col7, #T_d64e6_row6_col9 {\n",
       "  background-color: #3b4cc0;\n",
       "  color: #f1f1f1;\n",
       "}\n",
       "#T_d64e6_row0_col5, #T_d64e6_row1_col7 {\n",
       "  background-color: #4e68d8;\n",
       "  color: #f1f1f1;\n",
       "}\n",
       "#T_d64e6_row0_col7, #T_d64e6_row5_col4 {\n",
       "  background-color: #3f53c6;\n",
       "  color: #f1f1f1;\n",
       "}\n",
       "#T_d64e6_row0_col9 {\n",
       "  background-color: #4a63d3;\n",
       "  color: #f1f1f1;\n",
       "}\n",
       "#T_d64e6_row1_col8, #T_d64e6_row7_col8 {\n",
       "  background-color: #516ddb;\n",
       "  color: #f1f1f1;\n",
       "}\n",
       "#T_d64e6_row1_col9 {\n",
       "  background-color: #5a78e4;\n",
       "  color: #f1f1f1;\n",
       "}\n",
       "#T_d64e6_row2_col1 {\n",
       "  background-color: #3c4ec2;\n",
       "  color: #f1f1f1;\n",
       "}\n",
       "#T_d64e6_row2_col4, #T_d64e6_row3_col4, #T_d64e6_row5_col8, #T_d64e6_row6_col4 {\n",
       "  background-color: #4358cb;\n",
       "  color: #f1f1f1;\n",
       "}\n",
       "#T_d64e6_row2_col5, #T_d64e6_row3_col5, #T_d64e6_row6_col5 {\n",
       "  background-color: #6485ec;\n",
       "  color: #f1f1f1;\n",
       "}\n",
       "#T_d64e6_row2_col8, #T_d64e6_row3_col8, #T_d64e6_row9_col2 {\n",
       "  background-color: #6b8df0;\n",
       "  color: #f1f1f1;\n",
       "}\n",
       "#T_d64e6_row3_col0 {\n",
       "  background-color: #f3c8b2;\n",
       "  color: #000000;\n",
       "}\n",
       "#T_d64e6_row3_col1, #T_d64e6_row9_col4 {\n",
       "  background-color: #3d50c3;\n",
       "  color: #f1f1f1;\n",
       "}\n",
       "#T_d64e6_row4_col0, #T_d64e6_row8_col0 {\n",
       "  background-color: #7ea1fa;\n",
       "  color: #f1f1f1;\n",
       "}\n",
       "#T_d64e6_row4_col1 {\n",
       "  background-color: #85a8fc;\n",
       "  color: #f1f1f1;\n",
       "}\n",
       "#T_d64e6_row4_col2, #T_d64e6_row7_col1, #T_d64e6_row9_col1 {\n",
       "  background-color: #8badfd;\n",
       "  color: #000000;\n",
       "}\n",
       "#T_d64e6_row4_col3 {\n",
       "  background-color: #89acfd;\n",
       "  color: #000000;\n",
       "}\n",
       "#T_d64e6_row4_col5, #T_d64e6_row7_col5 {\n",
       "  background-color: #4961d2;\n",
       "  color: #f1f1f1;\n",
       "}\n",
       "#T_d64e6_row4_col6 {\n",
       "  background-color: #8caffe;\n",
       "  color: #000000;\n",
       "}\n",
       "#T_d64e6_row4_col7 {\n",
       "  background-color: #ec8165;\n",
       "  color: #f1f1f1;\n",
       "}\n",
       "#T_d64e6_row4_col8, #T_d64e6_row8_col4 {\n",
       "  background-color: #506bda;\n",
       "  color: #f1f1f1;\n",
       "}\n",
       "#T_d64e6_row4_col9 {\n",
       "  background-color: #5673e0;\n",
       "  color: #f1f1f1;\n",
       "}\n",
       "#T_d64e6_row5_col0 {\n",
       "  background-color: #88abfd;\n",
       "  color: #000000;\n",
       "}\n",
       "#T_d64e6_row5_col1 {\n",
       "  background-color: #7da0f9;\n",
       "  color: #f1f1f1;\n",
       "}\n",
       "#T_d64e6_row5_col2, #T_d64e6_row5_col3 {\n",
       "  background-color: #a1c0ff;\n",
       "  color: #000000;\n",
       "}\n",
       "#T_d64e6_row5_col6 {\n",
       "  background-color: #a2c1ff;\n",
       "  color: #000000;\n",
       "}\n",
       "#T_d64e6_row5_col7 {\n",
       "  background-color: #4c66d6;\n",
       "  color: #f1f1f1;\n",
       "}\n",
       "#T_d64e6_row5_col9 {\n",
       "  background-color: #5875e1;\n",
       "  color: #f1f1f1;\n",
       "}\n",
       "#T_d64e6_row6_col0 {\n",
       "  background-color: #f2c9b4;\n",
       "  color: #000000;\n",
       "}\n",
       "#T_d64e6_row6_col8 {\n",
       "  background-color: #6e90f2;\n",
       "  color: #f1f1f1;\n",
       "}\n",
       "#T_d64e6_row7_col0, #T_d64e6_row7_col3 {\n",
       "  background-color: #7699f6;\n",
       "  color: #f1f1f1;\n",
       "}\n",
       "#T_d64e6_row7_col2 {\n",
       "  background-color: #779af7;\n",
       "  color: #f1f1f1;\n",
       "}\n",
       "#T_d64e6_row7_col4 {\n",
       "  background-color: #ee8669;\n",
       "  color: #f1f1f1;\n",
       "}\n",
       "#T_d64e6_row7_col6 {\n",
       "  background-color: #799cf8;\n",
       "  color: #f1f1f1;\n",
       "}\n",
       "#T_d64e6_row7_col9 {\n",
       "  background-color: #6687ed;\n",
       "  color: #f1f1f1;\n",
       "}\n",
       "#T_d64e6_row8_col1 {\n",
       "  background-color: #9abbff;\n",
       "  color: #000000;\n",
       "}\n",
       "#T_d64e6_row8_col2 {\n",
       "  background-color: #aec9fc;\n",
       "  color: #000000;\n",
       "}\n",
       "#T_d64e6_row8_col3 {\n",
       "  background-color: #adc9fd;\n",
       "  color: #000000;\n",
       "}\n",
       "#T_d64e6_row8_col5 {\n",
       "  background-color: #4b64d5;\n",
       "  color: #f1f1f1;\n",
       "}\n",
       "#T_d64e6_row8_col6 {\n",
       "  background-color: #b1cbfc;\n",
       "  color: #000000;\n",
       "}\n",
       "#T_d64e6_row8_col7 {\n",
       "  background-color: #5f7fe8;\n",
       "  color: #f1f1f1;\n",
       "}\n",
       "#T_d64e6_row8_col9 {\n",
       "  background-color: #e2dad5;\n",
       "  color: #000000;\n",
       "}\n",
       "#T_d64e6_row9_col0 {\n",
       "  background-color: #7597f6;\n",
       "  color: #f1f1f1;\n",
       "}\n",
       "#T_d64e6_row9_col3 {\n",
       "  background-color: #6a8bef;\n",
       "  color: #f1f1f1;\n",
       "}\n",
       "#T_d64e6_row9_col5 {\n",
       "  background-color: #485fd1;\n",
       "  color: #f1f1f1;\n",
       "}\n",
       "#T_d64e6_row9_col6 {\n",
       "  background-color: #6c8ff1;\n",
       "  color: #f1f1f1;\n",
       "}\n",
       "#T_d64e6_row9_col7 {\n",
       "  background-color: #5977e3;\n",
       "  color: #f1f1f1;\n",
       "}\n",
       "#T_d64e6_row9_col8 {\n",
       "  background-color: #d6dce4;\n",
       "  color: #000000;\n",
       "}\n",
       "</style>\n",
       "<table id=\"T_d64e6\">\n",
       "  <thead>\n",
       "    <tr>\n",
       "      <th class=\"blank level0\" >&nbsp;</th>\n",
       "      <th id=\"T_d64e6_level0_col0\" class=\"col_heading level0 col0\" >statuses_count</th>\n",
       "      <th id=\"T_d64e6_level0_col1\" class=\"col_heading level0 col1\" >bot</th>\n",
       "      <th id=\"T_d64e6_level0_col2\" class=\"col_heading level0 col2\" >tweets_num</th>\n",
       "      <th id=\"T_d64e6_level0_col3\" class=\"col_heading level0 col3\" >tweets_2020_num</th>\n",
       "      <th id=\"T_d64e6_level0_col4\" class=\"col_heading level0 col4\" >likes_num</th>\n",
       "      <th id=\"T_d64e6_level0_col5\" class=\"col_heading level0 col5\" >comments_num</th>\n",
       "      <th id=\"T_d64e6_level0_col6\" class=\"col_heading level0 col6\" >entropy</th>\n",
       "      <th id=\"T_d64e6_level0_col7\" class=\"col_heading level0 col7\" >ratio_likes_x_tweets</th>\n",
       "      <th id=\"T_d64e6_level0_col8\" class=\"col_heading level0 col8\" >texts_mean_length</th>\n",
       "      <th id=\"T_d64e6_level0_col9\" class=\"col_heading level0 col9\" >texts_special_chars_length</th>\n",
       "    </tr>\n",
       "  </thead>\n",
       "  <tbody>\n",
       "    <tr>\n",
       "      <th id=\"T_d64e6_level0_row0\" class=\"row_heading level0 row0\" >statuses_count</th>\n",
       "      <td id=\"T_d64e6_row0_col0\" class=\"data row0 col0\" >1.000000</td>\n",
       "      <td id=\"T_d64e6_row0_col1\" class=\"data row0 col1\" >-0.255156</td>\n",
       "      <td id=\"T_d64e6_row0_col2\" class=\"data row0 col2\" >0.514993</td>\n",
       "      <td id=\"T_d64e6_row0_col3\" class=\"data row0 col3\" >0.510962</td>\n",
       "      <td id=\"T_d64e6_row0_col4\" class=\"data row0 col4\" >0.008561</td>\n",
       "      <td id=\"T_d64e6_row0_col5\" class=\"data row0 col5\" >0.042398</td>\n",
       "      <td id=\"T_d64e6_row0_col6\" class=\"data row0 col6\" >0.506627</td>\n",
       "      <td id=\"T_d64e6_row0_col7\" class=\"data row0 col7\" >-0.021654</td>\n",
       "      <td id=\"T_d64e6_row0_col8\" class=\"data row0 col8\" >0.007745</td>\n",
       "      <td id=\"T_d64e6_row0_col9\" class=\"data row0 col9\" >-0.026969</td>\n",
       "    </tr>\n",
       "    <tr>\n",
       "      <th id=\"T_d64e6_level0_row1\" class=\"row_heading level0 row1\" >bot</th>\n",
       "      <td id=\"T_d64e6_row1_col0\" class=\"data row1 col0\" >-0.255156</td>\n",
       "      <td id=\"T_d64e6_row1_col1\" class=\"data row1 col1\" >1.000000</td>\n",
       "      <td id=\"T_d64e6_row1_col2\" class=\"data row1 col2\" >-0.278936</td>\n",
       "      <td id=\"T_d64e6_row1_col3\" class=\"data row1 col3\" >-0.274364</td>\n",
       "      <td id=\"T_d64e6_row1_col4\" class=\"data row1 col4\" >0.006216</td>\n",
       "      <td id=\"T_d64e6_row1_col5\" class=\"data row1 col5\" >-0.024049</td>\n",
       "      <td id=\"T_d64e6_row1_col6\" class=\"data row1 col6\" >-0.285436</td>\n",
       "      <td id=\"T_d64e6_row1_col7\" class=\"data row1 col7\" >0.027789</td>\n",
       "      <td id=\"T_d64e6_row1_col8\" class=\"data row1 col8\" >0.081917</td>\n",
       "      <td id=\"T_d64e6_row1_col9\" class=\"data row1 col9\" >0.027101</td>\n",
       "    </tr>\n",
       "    <tr>\n",
       "      <th id=\"T_d64e6_level0_row2\" class=\"row_heading level0 row2\" >tweets_num</th>\n",
       "      <td id=\"T_d64e6_row2_col0\" class=\"data row2 col0\" >0.514993</td>\n",
       "      <td id=\"T_d64e6_row2_col1\" class=\"data row2 col1\" >-0.278936</td>\n",
       "      <td id=\"T_d64e6_row2_col2\" class=\"data row2 col2\" >1.000000</td>\n",
       "      <td id=\"T_d64e6_row2_col3\" class=\"data row2 col3\" >0.998513</td>\n",
       "      <td id=\"T_d64e6_row2_col4\" class=\"data row2 col4\" >0.033435</td>\n",
       "      <td id=\"T_d64e6_row2_col5\" class=\"data row2 col5\" >0.112941</td>\n",
       "      <td id=\"T_d64e6_row2_col6\" class=\"data row2 col6\" >0.999022</td>\n",
       "      <td id=\"T_d64e6_row2_col7\" class=\"data row2 col7\" >-0.038873</td>\n",
       "      <td id=\"T_d64e6_row2_col8\" class=\"data row2 col8\" >0.161705</td>\n",
       "      <td id=\"T_d64e6_row2_col9\" class=\"data row2 col9\" >-0.080862</td>\n",
       "    </tr>\n",
       "    <tr>\n",
       "      <th id=\"T_d64e6_level0_row3\" class=\"row_heading level0 row3\" >tweets_2020_num</th>\n",
       "      <td id=\"T_d64e6_row3_col0\" class=\"data row3 col0\" >0.510962</td>\n",
       "      <td id=\"T_d64e6_row3_col1\" class=\"data row3 col1\" >-0.274364</td>\n",
       "      <td id=\"T_d64e6_row3_col2\" class=\"data row3 col2\" >0.998513</td>\n",
       "      <td id=\"T_d64e6_row3_col3\" class=\"data row3 col3\" >1.000000</td>\n",
       "      <td id=\"T_d64e6_row3_col4\" class=\"data row3 col4\" >0.033835</td>\n",
       "      <td id=\"T_d64e6_row3_col5\" class=\"data row3 col5\" >0.115102</td>\n",
       "      <td id=\"T_d64e6_row3_col6\" class=\"data row3 col6\" >0.997837</td>\n",
       "      <td id=\"T_d64e6_row3_col7\" class=\"data row3 col7\" >-0.038735</td>\n",
       "      <td id=\"T_d64e6_row3_col8\" class=\"data row3 col8\" >0.161604</td>\n",
       "      <td id=\"T_d64e6_row3_col9\" class=\"data row3 col9\" >-0.081330</td>\n",
       "    </tr>\n",
       "    <tr>\n",
       "      <th id=\"T_d64e6_level0_row4\" class=\"row_heading level0 row4\" >likes_num</th>\n",
       "      <td id=\"T_d64e6_row4_col0\" class=\"data row4 col0\" >0.008561</td>\n",
       "      <td id=\"T_d64e6_row4_col1\" class=\"data row4 col1\" >0.006216</td>\n",
       "      <td id=\"T_d64e6_row4_col2\" class=\"data row4 col2\" >0.033435</td>\n",
       "      <td id=\"T_d64e6_row4_col3\" class=\"data row4 col3\" >0.033835</td>\n",
       "      <td id=\"T_d64e6_row4_col4\" class=\"data row4 col4\" >1.000000</td>\n",
       "      <td id=\"T_d64e6_row4_col5\" class=\"data row4 col5\" >0.023964</td>\n",
       "      <td id=\"T_d64e6_row4_col6\" class=\"data row4 col6\" >0.035544</td>\n",
       "      <td id=\"T_d64e6_row4_col7\" class=\"data row4 col7\" >0.797510</td>\n",
       "      <td id=\"T_d64e6_row4_col8\" class=\"data row4 col8\" >0.079549</td>\n",
       "      <td id=\"T_d64e6_row4_col9\" class=\"data row4 col9\" >0.014484</td>\n",
       "    </tr>\n",
       "    <tr>\n",
       "      <th id=\"T_d64e6_level0_row5\" class=\"row_heading level0 row5\" >comments_num</th>\n",
       "      <td id=\"T_d64e6_row5_col0\" class=\"data row5 col0\" >0.042398</td>\n",
       "      <td id=\"T_d64e6_row5_col1\" class=\"data row5 col1\" >-0.024049</td>\n",
       "      <td id=\"T_d64e6_row5_col2\" class=\"data row5 col2\" >0.112941</td>\n",
       "      <td id=\"T_d64e6_row5_col3\" class=\"data row5 col3\" >0.115102</td>\n",
       "      <td id=\"T_d64e6_row5_col4\" class=\"data row5 col4\" >0.023964</td>\n",
       "      <td id=\"T_d64e6_row5_col5\" class=\"data row5 col5\" >1.000000</td>\n",
       "      <td id=\"T_d64e6_row5_col6\" class=\"data row5 col6\" >0.112937</td>\n",
       "      <td id=\"T_d64e6_row5_col7\" class=\"data row5 col7\" >0.025358</td>\n",
       "      <td id=\"T_d64e6_row5_col8\" class=\"data row5 col8\" >0.035409</td>\n",
       "      <td id=\"T_d64e6_row5_col9\" class=\"data row5 col9\" >0.021064</td>\n",
       "    </tr>\n",
       "    <tr>\n",
       "      <th id=\"T_d64e6_level0_row6\" class=\"row_heading level0 row6\" >entropy</th>\n",
       "      <td id=\"T_d64e6_row6_col0\" class=\"data row6 col0\" >0.506627</td>\n",
       "      <td id=\"T_d64e6_row6_col1\" class=\"data row6 col1\" >-0.285436</td>\n",
       "      <td id=\"T_d64e6_row6_col2\" class=\"data row6 col2\" >0.999022</td>\n",
       "      <td id=\"T_d64e6_row6_col3\" class=\"data row6 col3\" >0.997837</td>\n",
       "      <td id=\"T_d64e6_row6_col4\" class=\"data row6 col4\" >0.035544</td>\n",
       "      <td id=\"T_d64e6_row6_col5\" class=\"data row6 col5\" >0.112937</td>\n",
       "      <td id=\"T_d64e6_row6_col6\" class=\"data row6 col6\" >1.000000</td>\n",
       "      <td id=\"T_d64e6_row6_col7\" class=\"data row6 col7\" >-0.038837</td>\n",
       "      <td id=\"T_d64e6_row6_col8\" class=\"data row6 col8\" >0.170198</td>\n",
       "      <td id=\"T_d64e6_row6_col9\" class=\"data row6 col9\" >-0.083000</td>\n",
       "    </tr>\n",
       "    <tr>\n",
       "      <th id=\"T_d64e6_level0_row7\" class=\"row_heading level0 row7\" >ratio_likes_x_tweets</th>\n",
       "      <td id=\"T_d64e6_row7_col0\" class=\"data row7 col0\" >-0.021654</td>\n",
       "      <td id=\"T_d64e6_row7_col1\" class=\"data row7 col1\" >0.027789</td>\n",
       "      <td id=\"T_d64e6_row7_col2\" class=\"data row7 col2\" >-0.038873</td>\n",
       "      <td id=\"T_d64e6_row7_col3\" class=\"data row7 col3\" >-0.038735</td>\n",
       "      <td id=\"T_d64e6_row7_col4\" class=\"data row7 col4\" >0.797510</td>\n",
       "      <td id=\"T_d64e6_row7_col5\" class=\"data row7 col5\" >0.025358</td>\n",
       "      <td id=\"T_d64e6_row7_col6\" class=\"data row7 col6\" >-0.038837</td>\n",
       "      <td id=\"T_d64e6_row7_col7\" class=\"data row7 col7\" >1.000000</td>\n",
       "      <td id=\"T_d64e6_row7_col8\" class=\"data row7 col8\" >0.084748</td>\n",
       "      <td id=\"T_d64e6_row7_col9\" class=\"data row7 col9\" >0.066087</td>\n",
       "    </tr>\n",
       "    <tr>\n",
       "      <th id=\"T_d64e6_level0_row8\" class=\"row_heading level0 row8\" >texts_mean_length</th>\n",
       "      <td id=\"T_d64e6_row8_col0\" class=\"data row8 col0\" >0.007745</td>\n",
       "      <td id=\"T_d64e6_row8_col1\" class=\"data row8 col1\" >0.081917</td>\n",
       "      <td id=\"T_d64e6_row8_col2\" class=\"data row8 col2\" >0.161705</td>\n",
       "      <td id=\"T_d64e6_row8_col3\" class=\"data row8 col3\" >0.161604</td>\n",
       "      <td id=\"T_d64e6_row8_col4\" class=\"data row8 col4\" >0.079549</td>\n",
       "      <td id=\"T_d64e6_row8_col5\" class=\"data row8 col5\" >0.035409</td>\n",
       "      <td id=\"T_d64e6_row8_col6\" class=\"data row8 col6\" >0.170198</td>\n",
       "      <td id=\"T_d64e6_row8_col7\" class=\"data row8 col7\" >0.084748</td>\n",
       "      <td id=\"T_d64e6_row8_col8\" class=\"data row8 col8\" >1.000000</td>\n",
       "      <td id=\"T_d64e6_row8_col9\" class=\"data row8 col9\" >0.480417</td>\n",
       "    </tr>\n",
       "    <tr>\n",
       "      <th id=\"T_d64e6_level0_row9\" class=\"row_heading level0 row9\" >texts_special_chars_length</th>\n",
       "      <td id=\"T_d64e6_row9_col0\" class=\"data row9 col0\" >-0.026969</td>\n",
       "      <td id=\"T_d64e6_row9_col1\" class=\"data row9 col1\" >0.027101</td>\n",
       "      <td id=\"T_d64e6_row9_col2\" class=\"data row9 col2\" >-0.080862</td>\n",
       "      <td id=\"T_d64e6_row9_col3\" class=\"data row9 col3\" >-0.081330</td>\n",
       "      <td id=\"T_d64e6_row9_col4\" class=\"data row9 col4\" >0.014484</td>\n",
       "      <td id=\"T_d64e6_row9_col5\" class=\"data row9 col5\" >0.021064</td>\n",
       "      <td id=\"T_d64e6_row9_col6\" class=\"data row9 col6\" >-0.083000</td>\n",
       "      <td id=\"T_d64e6_row9_col7\" class=\"data row9 col7\" >0.066087</td>\n",
       "      <td id=\"T_d64e6_row9_col8\" class=\"data row9 col8\" >0.480417</td>\n",
       "      <td id=\"T_d64e6_row9_col9\" class=\"data row9 col9\" >1.000000</td>\n",
       "    </tr>\n",
       "  </tbody>\n",
       "</table>\n"
      ],
      "text/plain": [
       "<pandas.io.formats.style.Styler at 0x7fc1a0928be0>"
      ]
     },
     "execution_count": 17,
     "metadata": {},
     "output_type": "execute_result"
    }
   ],
   "source": [
    "users_num_cols = ['statuses_count', 'bot', 'tweets_num', 'tweets_2020_num', 'likes_num', 'comments_num', 'entropy', 'ratio_likes_x_tweets', 'texts_mean_length', 'texts_special_chars_length']\n",
    "corr = users.corr(method='pearson', numeric_only=True).loc[users_num_cols, users_num_cols]\n",
    "corr.style.background_gradient(cmap='coolwarm')"
   ]
  },
  {
   "cell_type": "code",
   "execution_count": 18,
   "metadata": {},
   "outputs": [],
   "source": [
    "# save users_total as pickle\n",
    "store_preprocessed_dataset(step_name=\"users_total\", file_name=\"users.pickle\", df=users)"
   ]
  }
 ],
 "metadata": {
  "kernelspec": {
   "display_name": "Python 3 (ipykernel)",
   "language": "python",
   "name": "python3"
  },
  "language_info": {
   "codemirror_mode": {
    "name": "ipython",
    "version": 3
   },
   "file_extension": ".py",
   "mimetype": "text/x-python",
   "name": "python",
   "nbconvert_exporter": "python",
   "pygments_lexer": "ipython3",
   "version": "3.10.6"
  },
  "toc-showmarkdowntxt": false
 },
 "nbformat": 4,
 "nbformat_minor": 4
}
