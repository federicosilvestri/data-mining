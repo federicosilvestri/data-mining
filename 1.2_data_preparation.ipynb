{
 "cells": [
  {
   "cell_type": "markdown",
   "metadata": {
    "tags": []
   },
   "source": [
    "# DM - Data preparation [TASK 1.2]\n",
    "\n",
    "Improve the quality of data and prepare it by extracting new features."
   ]
  },
  {
   "cell_type": "markdown",
   "metadata": {},
   "source": [
    "Library imports and initial settings."
   ]
  },
  {
   "cell_type": "code",
   "execution_count": 1,
   "metadata": {},
   "outputs": [
    {
     "name": "stdout",
     "output_type": "stream",
     "text": [
      "INFO: Pandarallel will run on 5 workers.\n",
      "INFO: Pandarallel will use Memory file system to transfer data between the main process and workers.\n"
     ]
    }
   ],
   "source": [
    "import numpy as np\n",
    "import pandas as pd\n",
    "import matplotlib.pyplot as plt\n",
    "from pandarallel import pandarallel\n",
    "from sklearn.feature_extraction.text import TfidfVectorizer\n",
    "from sklearn.metrics.pairwise import cosine_similarity\n",
    "\n",
    "from utils import fetch_preprocessed_dataset, store_preprocessed_dataset\n",
    "from utils import build_grid_plot\n",
    "from utils.validators import check_int, MIN_DATE, MAX_DATE\n",
    "\n",
    "import os\n",
    "import sys\n",
    "import logging as lg\n",
    "import string\n",
    "\n",
    "root = lg.getLogger()\n",
    "root.setLevel(lg.INFO)\n",
    "\n",
    "handler = lg.StreamHandler(sys.stdout)\n",
    "handler.setLevel(lg.DEBUG)\n",
    "formatter = lg.Formatter(\"%(asctime)s - %(name)s - %(levelname)s - %(message)s\")\n",
    "handler.setFormatter(formatter)\n",
    "root.addHandler(handler)\n",
    "\n",
    "nb_workers = int(os.cpu_count() / 2 + 1)\n",
    "\n",
    "pandarallel.initialize(\n",
    "    progress_bar=True,\n",
    "    nb_workers=nb_workers,\n",
    ")"
   ]
  },
  {
   "cell_type": "markdown",
   "metadata": {},
   "source": [
    "Fetching the dataset using our native python functions."
   ]
  },
  {
   "cell_type": "code",
   "execution_count": 2,
   "metadata": {},
   "outputs": [],
   "source": [
    "# Load the pickles\n",
    "dataset = fetch_preprocessed_dataset(step_name=\"outlier_detection\")\n",
    "tweets = dataset['tweets.pickle']\n",
    "users = dataset['users.pickle']"
   ]
  },
  {
   "cell_type": "markdown",
   "metadata": {},
   "source": [
    "Before aggregating users and tweets dataset we should be clean user_id column from invalid values."
   ]
  },
  {
   "cell_type": "code",
   "execution_count": 3,
   "metadata": {},
   "outputs": [
    {
     "name": "stderr",
     "output_type": "stream",
     "text": [
      "/usr/local/lib/python3.10/dist-packages/pandarallel/data_types/series.py:42: FutureWarning: The behavior of `series[i:j]` with an integer-dtype index is deprecated. In a future version, this will be treated as *label-based* indexing, consistent with e.g. `series[i]` lookups. To retain the old behavior, use `series.iloc[i:j]`. To get the future behavior, use `series.loc[i:j]`.\n",
      "  yield data[chunk_]\n"
     ]
    },
    {
     "data": {
      "application/vnd.jupyter.widget-view+json": {
       "model_id": "271e9f7481a246d6b4c32e60bd22105f",
       "version_major": 2,
       "version_minor": 0
      },
      "text/plain": [
       "VBox(children=(HBox(children=(IntProgress(value=0, description='0.00%', max=2053356), Label(value='0 / 2053356…"
      ]
     },
     "metadata": {},
     "output_type": "display_data"
    },
    {
     "name": "stdout",
     "output_type": "stream",
     "text": [
      "<class 'pandas.core.frame.DataFrame'>\n",
      "Int64Index: 10052836 entries, 0 to 13664695\n",
      "Data columns (total 9 columns):\n",
      " #   Column          Dtype         \n",
      "---  ------          -----         \n",
      " 0   user_id         int64         \n",
      " 1   retweet_count   float64       \n",
      " 2   reply_count     float64       \n",
      " 3   favorite_count  float64       \n",
      " 4   num_hashtags    float64       \n",
      " 5   num_urls        float64       \n",
      " 6   num_mentions    float64       \n",
      " 7   created_at      datetime64[ns]\n",
      " 8   text            string        \n",
      "dtypes: datetime64[ns](1), float64(6), int64(1), string(1)\n",
      "memory usage: 767.0 MB\n"
     ]
    }
   ],
   "source": [
    "tweets = tweets[tweets['user_id'].parallel_map(check_int)]\n",
    "tweets = tweets.astype({'user_id': 'int64'})\n",
    "\n",
    "tweets.info()"
   ]
  },
  {
   "cell_type": "markdown",
   "metadata": {},
   "source": [
    "## Data aggregation"
   ]
  },
  {
   "cell_type": "markdown",
   "metadata": {},
   "source": [
    "Aggregation of `tweet_num`, so the number of tweets for each user."
   ]
  },
  {
   "cell_type": "code",
   "execution_count": 4,
   "metadata": {
    "pycharm": {
     "is_executing": true
    }
   },
   "outputs": [
    {
     "data": {
      "text/plain": [
       "count    11508.000000\n",
       "mean       873.516597\n",
       "std       1142.250366\n",
       "min          1.000000\n",
       "25%         59.750000\n",
       "50%        121.000000\n",
       "75%       1582.250000\n",
       "max       3926.000000\n",
       "Name: tweets_num, dtype: float64"
      ]
     },
     "execution_count": 4,
     "metadata": {},
     "output_type": "execute_result"
    }
   ],
   "source": [
    "column_name = 'tweets_num' \n",
    "tweets_grouped_by_users = tweets.groupby(['user_id']).size()\n",
    "\n",
    "users = users.merge(tweets_grouped_by_users.to_frame(column_name), left_on='id', right_index=True)\n",
    "\n",
    "users[column_name].describe()"
   ]
  },
  {
   "cell_type": "markdown",
   "metadata": {},
   "source": [
    "Now is created another attribute called `tweets_2020_num` that represents the number of tweets of each users pulished in the year 2020."
   ]
  },
  {
   "cell_type": "code",
   "execution_count": 5,
   "metadata": {},
   "outputs": [
    {
     "name": "stderr",
     "output_type": "stream",
     "text": [
      "/usr/local/lib/python3.10/dist-packages/pandarallel/data_types/series.py:42: FutureWarning: The behavior of `series[i:j]` with an integer-dtype index is deprecated. In a future version, this will be treated as *label-based* indexing, consistent with e.g. `series[i]` lookups. To retain the old behavior, use `series.iloc[i:j]`. To get the future behavior, use `series.loc[i:j]`.\n",
      "  yield data[chunk_]\n"
     ]
    },
    {
     "data": {
      "application/vnd.jupyter.widget-view+json": {
       "model_id": "f5d7f3efaff3495787e042056f7401ac",
       "version_major": 2,
       "version_minor": 0
      },
      "text/plain": [
       "VBox(children=(HBox(children=(IntProgress(value=0, description='0.00%', max=2010568), Label(value='0 / 2010568…"
      ]
     },
     "metadata": {},
     "output_type": "display_data"
    },
    {
     "data": {
      "text/plain": [
       "count    11508.000000\n",
       "mean       865.112096\n",
       "std       1128.659294\n",
       "min          1.000000\n",
       "25%         59.000000\n",
       "50%        121.000000\n",
       "75%       1567.000000\n",
       "max       3467.000000\n",
       "Name: tweets_2020_num, dtype: float64"
      ]
     },
     "execution_count": 5,
     "metadata": {},
     "output_type": "execute_result"
    }
   ],
   "source": [
    "column_name = 'tweets_2020_num'\n",
    "\n",
    "def filter_datetime_2020(datetime):\n",
    "    return MIN_DATE <= pd.Timestamp(datetime) < MAX_DATE\n",
    "\n",
    "tweets_filtered_2020 = tweets[tweets['created_at'].parallel_map(filter_datetime_2020)]\n",
    "tweets_grouped_2020 = tweets_filtered_2020.groupby(['user_id']).size()\n",
    "\n",
    "users = users.merge(tweets_grouped_2020.to_frame(column_name), left_on='id', right_index=True)\n",
    "\n",
    "users[column_name].describe()"
   ]
  },
  {
   "cell_type": "markdown",
   "metadata": {},
   "source": [
    "Total number of likes per user added in column `likes_num`."
   ]
  },
  {
   "cell_type": "code",
   "execution_count": 6,
   "metadata": {},
   "outputs": [
    {
     "data": {
      "text/plain": [
       "count     11508.000000\n",
       "mean       1234.076382\n",
       "std       21344.947342\n",
       "min           0.000000\n",
       "25%           3.000000\n",
       "50%           9.000000\n",
       "75%         365.000000\n",
       "max      868163.000000\n",
       "Name: likes_num, dtype: float64"
      ]
     },
     "execution_count": 6,
     "metadata": {},
     "output_type": "execute_result"
    }
   ],
   "source": [
    "column_name = 'likes_num'\n",
    "tweets_grouped_likes = tweets.groupby(['user_id'])['favorite_count'].sum()\n",
    "\n",
    "users = users.merge(tweets_grouped_likes.to_frame(column_name), left_on='id', right_index=True)\n",
    "\n",
    "users[column_name].describe()"
   ]
  },
  {
   "cell_type": "markdown",
   "metadata": {},
   "source": [
    "This new column `comments_num` represents for each user the total number of comments that he wrotes."
   ]
  },
  {
   "cell_type": "code",
   "execution_count": 7,
   "metadata": {},
   "outputs": [
    {
     "data": {
      "text/plain": [
       "count    11508.000000\n",
       "mean        56.104970\n",
       "std        521.967526\n",
       "min          0.000000\n",
       "25%          0.000000\n",
       "50%          0.000000\n",
       "75%          0.000000\n",
       "max      10273.000000\n",
       "Name: comments_num, dtype: float64"
      ]
     },
     "execution_count": 7,
     "metadata": {},
     "output_type": "execute_result"
    }
   ],
   "source": [
    "column_name = 'comments_num'\n",
    "tweets_grouped_comments = tweets.groupby(['user_id'])['reply_count'].sum()\n",
    "\n",
    "users = users.merge(tweets_grouped_comments.to_frame(column_name), left_on='id', right_index=True)\n",
    "\n",
    "users[column_name].describe()"
   ]
  },
  {
   "cell_type": "markdown",
   "metadata": {},
   "source": [
    "`ratio_likes_x_tweets` represent the number of likes for each tweet. "
   ]
  },
  {
   "cell_type": "code",
   "execution_count": 8,
   "metadata": {},
   "outputs": [
    {
     "data": {
      "text/plain": [
       "count    11508.000000\n",
       "mean         3.104821\n",
       "std         33.290367\n",
       "min          0.000000\n",
       "25%          0.024768\n",
       "50%          0.066146\n",
       "75%          0.268293\n",
       "max       1454.209380\n",
       "Name: ratio_likes_x_tweets, dtype: float64"
      ]
     },
     "execution_count": 8,
     "metadata": {},
     "output_type": "execute_result"
    }
   ],
   "source": [
    "column_name = 'ratio_likes_x_tweets'\n",
    "\n",
    "users[column_name] = users['likes_num'] / users['tweets_num']\n",
    "users[column_name].replace([np.nan, np.inf, -np.inf], 0, inplace=True)\n",
    "\n",
    "users[column_name].describe()"
   ]
  },
  {
   "cell_type": "markdown",
   "metadata": {},
   "source": [
    "The entropy of user is accounted by `entropy` column computed on number of tweets done a user on total number of tweets."
   ]
  },
  {
   "cell_type": "code",
   "execution_count": 9,
   "metadata": {},
   "outputs": [
    {
     "data": {
      "text/plain": [
       "count    11508.000000\n",
       "mean         0.001071\n",
       "std          0.001324\n",
       "min          0.000002\n",
       "25%          0.000103\n",
       "50%          0.000197\n",
       "75%          0.001988\n",
       "max          0.004422\n",
       "Name: entropy, dtype: float64"
      ]
     },
     "execution_count": 9,
     "metadata": {},
     "output_type": "execute_result"
    }
   ],
   "source": [
    "column_name = 'entropy'\n",
    "p_user_tweets = users['tweets_num'] / len(tweets)\n",
    "users[column_name] = - (p_user_tweets * np.log2(p_user_tweets))\n",
    "\n",
    "users[column_name].describe()"
   ]
  },
  {
   "cell_type": "markdown",
   "metadata": {},
   "source": [
    "Here is aggregated the mean of texts length for each user by the new column `texts_mean_length`."
   ]
  },
  {
   "cell_type": "code",
   "execution_count": 10,
   "metadata": {},
   "outputs": [
    {
     "name": "stderr",
     "output_type": "stream",
     "text": [
      "/usr/local/lib/python3.10/dist-packages/pandarallel/data_types/series.py:42: FutureWarning: The behavior of `series[i:j]` with an integer-dtype index is deprecated. In a future version, this will be treated as *label-based* indexing, consistent with e.g. `series[i]` lookups. To retain the old behavior, use `series.iloc[i:j]`. To get the future behavior, use `series.loc[i:j]`.\n",
      "  yield data[chunk_]\n"
     ]
    },
    {
     "data": {
      "application/vnd.jupyter.widget-view+json": {
       "model_id": "44079c740d51402881d9c62487b2b21f",
       "version_major": 2,
       "version_minor": 0
      },
      "text/plain": [
       "VBox(children=(HBox(children=(IntProgress(value=0, description='0.00%', max=2010568), Label(value='0 / 2010568…"
      ]
     },
     "metadata": {},
     "output_type": "display_data"
    },
    {
     "data": {
      "text/plain": [
       "count    11508.000000\n",
       "mean        70.273139\n",
       "std         16.636644\n",
       "min          3.000000\n",
       "25%         61.516377\n",
       "50%         67.494258\n",
       "75%         79.642466\n",
       "max        245.000000\n",
       "Name: texts_mean_length, dtype: float64"
      ]
     },
     "execution_count": 10,
     "metadata": {},
     "output_type": "execute_result"
    }
   ],
   "source": [
    "column_name = 'texts_mean_length'\n",
    "tweets[column_name] = tweets['text'].parallel_map(lambda t: len(t))\n",
    "tweets_grouped_text_length = tweets.groupby(['user_id'])[column_name].mean()\n",
    "\n",
    "users = users.merge(tweets_grouped_text_length.to_frame(column_name), left_on='id', right_index=True)\n",
    "\n",
    "users[column_name].describe()"
   ]
  },
  {
   "cell_type": "markdown",
   "metadata": {},
   "source": [
    "`texts_special_chars_length` represents the mean number of special character inside texts for each user."
   ]
  },
  {
   "cell_type": "code",
   "execution_count": 11,
   "metadata": {},
   "outputs": [
    {
     "name": "stderr",
     "output_type": "stream",
     "text": [
      "/usr/local/lib/python3.10/dist-packages/pandarallel/data_types/series.py:42: FutureWarning: The behavior of `series[i:j]` with an integer-dtype index is deprecated. In a future version, this will be treated as *label-based* indexing, consistent with e.g. `series[i]` lookups. To retain the old behavior, use `series.iloc[i:j]`. To get the future behavior, use `series.loc[i:j]`.\n",
      "  yield data[chunk_]\n"
     ]
    },
    {
     "data": {
      "application/vnd.jupyter.widget-view+json": {
       "model_id": "a395dee467514e1da74d07ef60573e1c",
       "version_major": 2,
       "version_minor": 0
      },
      "text/plain": [
       "VBox(children=(HBox(children=(IntProgress(value=0, description='0.00%', max=2010568), Label(value='0 / 2010568…"
      ]
     },
     "metadata": {},
     "output_type": "display_data"
    },
    {
     "data": {
      "text/plain": [
       "count    11508.000000\n",
       "mean         7.324552\n",
       "std         12.005750\n",
       "min          0.000000\n",
       "25%          3.829188\n",
       "50%          4.766878\n",
       "75%          6.489471\n",
       "max        215.000000\n",
       "Name: texts_special_chars_length, dtype: float64"
      ]
     },
     "execution_count": 11,
     "metadata": {},
     "output_type": "execute_result"
    }
   ],
   "source": [
    "column_name = 'texts_special_chars_length'\n",
    "VALID_CHARACTERS = string.ascii_letters + string.digits + \" \" + \"\\n\"\n",
    "\n",
    "def count_special_chars(text):\n",
    "    count = 0\n",
    "    for ch in text:\n",
    "        count += 0 if ch in VALID_CHARACTERS else 1\n",
    "    return count\n",
    "\n",
    "tweets[column_name] = tweets['text'].parallel_map(count_special_chars)\n",
    "tweets_grouped_text_sc_length = tweets.groupby(['user_id'])[column_name].mean()\n",
    "\n",
    "users = users.merge(tweets_grouped_text_sc_length.to_frame(column_name), left_on='id', right_index=True)\n",
    "\n",
    "users[column_name].describe()"
   ]
  },
  {
   "cell_type": "markdown",
   "metadata": {},
   "source": [
    "Here we aggregate the mean of time between two contiguous publications for each user."
   ]
  },
  {
   "cell_type": "code",
   "execution_count": 12,
   "metadata": {},
   "outputs": [
    {
     "data": {
      "text/plain": [
       "count    1.150800e+04\n",
       "mean     5.773337e+05\n",
       "std      7.173285e+06\n",
       "min      0.000000e+00\n",
       "25%      1.588349e+04\n",
       "50%      9.728591e+04\n",
       "75%      3.178114e+05\n",
       "max      6.319793e+08\n",
       "Name: mean_pub_range, dtype: float64"
      ]
     },
     "execution_count": 12,
     "metadata": {},
     "output_type": "execute_result"
    }
   ],
   "source": [
    "column_name = 'mean_pub_range'\n",
    "\n",
    "# sortig by publication datetime\n",
    "mean_pub_range = tweets.sort_values(by=['created_at'], ascending=True)\n",
    "# group by user_id\n",
    "mean_pub_range = mean_pub_range.groupby('user_id')['created_at']\n",
    "# apply a mapping function that average 'created_at' attribute for each user\n",
    "mean_pub_range = mean_pub_range.apply(lambda x: 0 if len(x) <= 1 else x.diff().mean().total_seconds())\n",
    "    \n",
    "users = users.merge(mean_pub_range.to_frame(column_name), left_on='id', right_index=True)\n",
    "\n",
    "users[column_name].describe()"
   ]
  },
  {
   "cell_type": "markdown",
   "metadata": {},
   "source": [
    "Now we want to copute an index that express the similarity among tweets of the same user according TF-IDF and cosine similarity techniques. At the beginning we create a dataframe with all the texts not empty."
   ]
  },
  {
   "cell_type": "code",
   "execution_count": 13,
   "metadata": {},
   "outputs": [
    {
     "data": {
      "text/html": [
       "<div>\n",
       "<style scoped>\n",
       "    .dataframe tbody tr th:only-of-type {\n",
       "        vertical-align: middle;\n",
       "    }\n",
       "\n",
       "    .dataframe tbody tr th {\n",
       "        vertical-align: top;\n",
       "    }\n",
       "\n",
       "    .dataframe thead th {\n",
       "        text-align: right;\n",
       "    }\n",
       "</style>\n",
       "<table border=\"1\" class=\"dataframe\">\n",
       "  <thead>\n",
       "    <tr style=\"text-align: right;\">\n",
       "      <th></th>\n",
       "      <th>user_id</th>\n",
       "      <th>text</th>\n",
       "    </tr>\n",
       "  </thead>\n",
       "  <tbody>\n",
       "    <tr>\n",
       "      <th>0</th>\n",
       "      <td>327746321</td>\n",
       "      <td>If man is a little lower than angels, then ang...</td>\n",
       "    </tr>\n",
       "    <tr>\n",
       "      <th>1</th>\n",
       "      <td>333722906</td>\n",
       "      <td>\"@BestWSHHVids: how do you say these words wit...</td>\n",
       "    </tr>\n",
       "    <tr>\n",
       "      <th>2</th>\n",
       "      <td>2379755827</td>\n",
       "      <td>@LOLatComedy awsome</td>\n",
       "    </tr>\n",
       "    <tr>\n",
       "      <th>3</th>\n",
       "      <td>466226882</td>\n",
       "      <td>Stephen Hawkins: i buchi neri non esistono se ...</td>\n",
       "    </tr>\n",
       "    <tr>\n",
       "      <th>4</th>\n",
       "      <td>1355537995</td>\n",
       "      <td>RT @tibbs_montris: So ready for Wednesday!</td>\n",
       "    </tr>\n",
       "    <tr>\n",
       "      <th>...</th>\n",
       "      <td>...</td>\n",
       "      <td>...</td>\n",
       "    </tr>\n",
       "    <tr>\n",
       "      <th>13664687</th>\n",
       "      <td>2272611686</td>\n",
       "      <td>C'Ã¨ un momento in cui sentire ed ascoltare si...</td>\n",
       "    </tr>\n",
       "    <tr>\n",
       "      <th>13664689</th>\n",
       "      <td>8657052</td>\n",
       "      <td>@_victoriamm twoot.</td>\n",
       "    </tr>\n",
       "    <tr>\n",
       "      <th>13664691</th>\n",
       "      <td>587491046</td>\n",
       "      <td>@warriors Congrats, maybe I'll be able to get ...</td>\n",
       "    </tr>\n",
       "    <tr>\n",
       "      <th>13664694</th>\n",
       "      <td>127895572</td>\n",
       "      <td>Shooting crew of porn movies. #TheWorstJobToHave</td>\n",
       "    </tr>\n",
       "    <tr>\n",
       "      <th>13664695</th>\n",
       "      <td>465421036</td>\n",
       "      <td>Qualcuno dovrÃ  pur dire a quelli che \"Twitter...</td>\n",
       "    </tr>\n",
       "  </tbody>\n",
       "</table>\n",
       "<p>10014236 rows × 2 columns</p>\n",
       "</div>"
      ],
      "text/plain": [
       "             user_id                                               text\n",
       "0          327746321  If man is a little lower than angels, then ang...\n",
       "1          333722906  \"@BestWSHHVids: how do you say these words wit...\n",
       "2         2379755827                                @LOLatComedy awsome\n",
       "3          466226882  Stephen Hawkins: i buchi neri non esistono se ...\n",
       "4         1355537995        RT @tibbs_montris: So ready for Wednesday! \n",
       "...              ...                                                ...\n",
       "13664687  2272611686  C'Ã¨ un momento in cui sentire ed ascoltare si...\n",
       "13664689     8657052                                @_victoriamm twoot.\n",
       "13664691   587491046  @warriors Congrats, maybe I'll be able to get ...\n",
       "13664694   127895572   Shooting crew of porn movies. #TheWorstJobToHave\n",
       "13664695   465421036  Qualcuno dovrÃ  pur dire a quelli che \"Twitter...\n",
       "\n",
       "[10014236 rows x 2 columns]"
      ]
     },
     "execution_count": 13,
     "metadata": {},
     "output_type": "execute_result"
    }
   ],
   "source": [
    "tweets_text_filled = tweets[tweets['text'] != ''][['user_id', 'text']]\n",
    "\n",
    "tweets_text_filled"
   ]
  },
  {
   "cell_type": "markdown",
   "metadata": {},
   "source": [
    "Now we fit the `TfidfVectorizer` object on the entire dataset of tweets texts."
   ]
  },
  {
   "cell_type": "code",
   "execution_count": 14,
   "metadata": {},
   "outputs": [
    {
     "data": {
      "text/plain": [
       "(10014236, 3984720)"
      ]
     },
     "execution_count": 14,
     "metadata": {},
     "output_type": "execute_result"
    }
   ],
   "source": [
    "vectorizer = TfidfVectorizer()\n",
    "docs = vectorizer.fit_transform(tweets_text_filled['text'])\n",
    "\n",
    "docs.shape"
   ]
  },
  {
   "cell_type": "markdown",
   "metadata": {},
   "source": [
    "Then we group by users id and apply the cosine similarity of their texts transformed in list of tf-idf of tokens that are inside `docs` matrix."
   ]
  },
  {
   "cell_type": "code",
   "execution_count": 15,
   "metadata": {},
   "outputs": [
    {
     "data": {
      "application/vnd.jupyter.widget-view+json": {
       "model_id": "d27a0f71e525474b8987bf269784b145",
       "version_major": 2,
       "version_minor": 0
      },
      "text/plain": [
       "VBox(children=(HBox(children=(IntProgress(value=0, description='0.00%', max=2375), Label(value='0 / 2375'))), …"
      ]
     },
     "metadata": {},
     "output_type": "display_data"
    },
    {
     "data": {
      "text/plain": [
       "count    11508.000000\n",
       "mean         0.009903\n",
       "std          0.108406\n",
       "min         -1.000000\n",
       "25%          0.009897\n",
       "50%          0.013568\n",
       "75%          0.019440\n",
       "max          1.000000\n",
       "Name: mean_texts_similarity, dtype: float64"
      ]
     },
     "execution_count": 15,
     "metadata": {},
     "output_type": "execute_result"
    }
   ],
   "source": [
    "# definition of function to compute different texts cosine similarity\n",
    "def texts_similarity(x):\n",
    "    if len(x) <= 1:\n",
    "        # outlier placeholder used when we can't compute cosine similarity because we have less then one element\n",
    "        return -1\n",
    "    else:\n",
    "        # we compute the tweets position inside tweets_text_filled to retrieve from docs the corresponding tf-idf encoding\n",
    "        positions = np.argwhere(tweets_text_filled.index.isin(x.index)).flatten()\n",
    "        similarity_matrix = cosine_similarity(docs[positions])\n",
    "        return similarity_matrix[np.triu_indices(similarity_matrix.shape[0], 1)].mean()\n",
    "\n",
    "column_name = 'mean_texts_similarity'\n",
    "mean_texts_similarity = tweets_text_filled.groupby('user_id')\n",
    "mean_texts_similarity = mean_texts_similarity.parallel_apply(texts_similarity)\n",
    "users = users.merge(mean_texts_similarity.to_frame(column_name), left_on='id', right_index=True)\n",
    "\n",
    "users[column_name].describe()"
   ]
  },
  {
   "cell_type": "markdown",
   "metadata": {},
   "source": [
    "## Data description"
   ]
  },
  {
   "cell_type": "markdown",
   "metadata": {},
   "source": [
    "Description of users columns statistichs."
   ]
  },
  {
   "cell_type": "code",
   "execution_count": 16,
   "metadata": {},
   "outputs": [
    {
     "data": {
      "text/html": [
       "<div>\n",
       "<style scoped>\n",
       "    .dataframe tbody tr th:only-of-type {\n",
       "        vertical-align: middle;\n",
       "    }\n",
       "\n",
       "    .dataframe tbody tr th {\n",
       "        vertical-align: top;\n",
       "    }\n",
       "\n",
       "    .dataframe thead th {\n",
       "        text-align: right;\n",
       "    }\n",
       "</style>\n",
       "<table border=\"1\" class=\"dataframe\">\n",
       "  <thead>\n",
       "    <tr style=\"text-align: right;\">\n",
       "      <th></th>\n",
       "      <th>id</th>\n",
       "      <th>statuses_count</th>\n",
       "      <th>tweets_num</th>\n",
       "      <th>tweets_2020_num</th>\n",
       "      <th>likes_num</th>\n",
       "      <th>comments_num</th>\n",
       "      <th>ratio_likes_x_tweets</th>\n",
       "      <th>entropy</th>\n",
       "      <th>texts_mean_length</th>\n",
       "      <th>texts_special_chars_length</th>\n",
       "      <th>mean_pub_range</th>\n",
       "      <th>mean_texts_similarity</th>\n",
       "    </tr>\n",
       "  </thead>\n",
       "  <tbody>\n",
       "    <tr>\n",
       "      <th>count</th>\n",
       "      <td>1.150800e+04</td>\n",
       "      <td>11508.000000</td>\n",
       "      <td>11508.000000</td>\n",
       "      <td>11508.000000</td>\n",
       "      <td>11508.000000</td>\n",
       "      <td>11508.000000</td>\n",
       "      <td>11508.000000</td>\n",
       "      <td>11508.000000</td>\n",
       "      <td>11508.000000</td>\n",
       "      <td>11508.000000</td>\n",
       "      <td>1.150800e+04</td>\n",
       "      <td>11508.000000</td>\n",
       "    </tr>\n",
       "    <tr>\n",
       "      <th>mean</th>\n",
       "      <td>1.274517e+09</td>\n",
       "      <td>5681.686566</td>\n",
       "      <td>873.516597</td>\n",
       "      <td>865.112096</td>\n",
       "      <td>1234.076382</td>\n",
       "      <td>56.104970</td>\n",
       "      <td>3.104821</td>\n",
       "      <td>0.001071</td>\n",
       "      <td>70.273139</td>\n",
       "      <td>7.324552</td>\n",
       "      <td>5.773337e+05</td>\n",
       "      <td>0.009903</td>\n",
       "    </tr>\n",
       "    <tr>\n",
       "      <th>std</th>\n",
       "      <td>9.354135e+08</td>\n",
       "      <td>18769.594489</td>\n",
       "      <td>1142.250366</td>\n",
       "      <td>1128.659294</td>\n",
       "      <td>21344.947342</td>\n",
       "      <td>521.967526</td>\n",
       "      <td>33.290367</td>\n",
       "      <td>0.001324</td>\n",
       "      <td>16.636644</td>\n",
       "      <td>12.005750</td>\n",
       "      <td>7.173285e+06</td>\n",
       "      <td>0.108406</td>\n",
       "    </tr>\n",
       "    <tr>\n",
       "      <th>min</th>\n",
       "      <td>6.780330e+05</td>\n",
       "      <td>0.000000</td>\n",
       "      <td>1.000000</td>\n",
       "      <td>1.000000</td>\n",
       "      <td>0.000000</td>\n",
       "      <td>0.000000</td>\n",
       "      <td>0.000000</td>\n",
       "      <td>0.000002</td>\n",
       "      <td>3.000000</td>\n",
       "      <td>0.000000</td>\n",
       "      <td>0.000000e+00</td>\n",
       "      <td>-1.000000</td>\n",
       "    </tr>\n",
       "    <tr>\n",
       "      <th>25%</th>\n",
       "      <td>4.663594e+08</td>\n",
       "      <td>42.000000</td>\n",
       "      <td>59.750000</td>\n",
       "      <td>59.000000</td>\n",
       "      <td>3.000000</td>\n",
       "      <td>0.000000</td>\n",
       "      <td>0.024768</td>\n",
       "      <td>0.000103</td>\n",
       "      <td>61.516377</td>\n",
       "      <td>3.829188</td>\n",
       "      <td>1.588349e+04</td>\n",
       "      <td>0.009897</td>\n",
       "    </tr>\n",
       "    <tr>\n",
       "      <th>50%</th>\n",
       "      <td>1.128643e+09</td>\n",
       "      <td>68.000000</td>\n",
       "      <td>121.000000</td>\n",
       "      <td>121.000000</td>\n",
       "      <td>9.000000</td>\n",
       "      <td>0.000000</td>\n",
       "      <td>0.066146</td>\n",
       "      <td>0.000197</td>\n",
       "      <td>67.494258</td>\n",
       "      <td>4.766878</td>\n",
       "      <td>9.728591e+04</td>\n",
       "      <td>0.013568</td>\n",
       "    </tr>\n",
       "    <tr>\n",
       "      <th>75%</th>\n",
       "      <td>2.357148e+09</td>\n",
       "      <td>2520.250000</td>\n",
       "      <td>1582.250000</td>\n",
       "      <td>1567.000000</td>\n",
       "      <td>365.000000</td>\n",
       "      <td>0.000000</td>\n",
       "      <td>0.268293</td>\n",
       "      <td>0.001988</td>\n",
       "      <td>79.642466</td>\n",
       "      <td>6.489471</td>\n",
       "      <td>3.178114e+05</td>\n",
       "      <td>0.019440</td>\n",
       "    </tr>\n",
       "    <tr>\n",
       "      <th>max</th>\n",
       "      <td>3.164942e+09</td>\n",
       "      <td>399555.000000</td>\n",
       "      <td>3926.000000</td>\n",
       "      <td>3467.000000</td>\n",
       "      <td>868163.000000</td>\n",
       "      <td>10273.000000</td>\n",
       "      <td>1454.209380</td>\n",
       "      <td>0.004422</td>\n",
       "      <td>245.000000</td>\n",
       "      <td>215.000000</td>\n",
       "      <td>6.319793e+08</td>\n",
       "      <td>1.000000</td>\n",
       "    </tr>\n",
       "  </tbody>\n",
       "</table>\n",
       "</div>"
      ],
      "text/plain": [
       "                 id  statuses_count    tweets_num  tweets_2020_num  \\\n",
       "count  1.150800e+04    11508.000000  11508.000000     11508.000000   \n",
       "mean   1.274517e+09     5681.686566    873.516597       865.112096   \n",
       "std    9.354135e+08    18769.594489   1142.250366      1128.659294   \n",
       "min    6.780330e+05        0.000000      1.000000         1.000000   \n",
       "25%    4.663594e+08       42.000000     59.750000        59.000000   \n",
       "50%    1.128643e+09       68.000000    121.000000       121.000000   \n",
       "75%    2.357148e+09     2520.250000   1582.250000      1567.000000   \n",
       "max    3.164942e+09   399555.000000   3926.000000      3467.000000   \n",
       "\n",
       "           likes_num  comments_num  ratio_likes_x_tweets       entropy  \\\n",
       "count   11508.000000  11508.000000          11508.000000  11508.000000   \n",
       "mean     1234.076382     56.104970              3.104821      0.001071   \n",
       "std     21344.947342    521.967526             33.290367      0.001324   \n",
       "min         0.000000      0.000000              0.000000      0.000002   \n",
       "25%         3.000000      0.000000              0.024768      0.000103   \n",
       "50%         9.000000      0.000000              0.066146      0.000197   \n",
       "75%       365.000000      0.000000              0.268293      0.001988   \n",
       "max    868163.000000  10273.000000           1454.209380      0.004422   \n",
       "\n",
       "       texts_mean_length  texts_special_chars_length  mean_pub_range  \\\n",
       "count       11508.000000                11508.000000    1.150800e+04   \n",
       "mean           70.273139                    7.324552    5.773337e+05   \n",
       "std            16.636644                   12.005750    7.173285e+06   \n",
       "min             3.000000                    0.000000    0.000000e+00   \n",
       "25%            61.516377                    3.829188    1.588349e+04   \n",
       "50%            67.494258                    4.766878    9.728591e+04   \n",
       "75%            79.642466                    6.489471    3.178114e+05   \n",
       "max           245.000000                  215.000000    6.319793e+08   \n",
       "\n",
       "       mean_texts_similarity  \n",
       "count           11508.000000  \n",
       "mean                0.009903  \n",
       "std                 0.108406  \n",
       "min                -1.000000  \n",
       "25%                 0.009897  \n",
       "50%                 0.013568  \n",
       "75%                 0.019440  \n",
       "max                 1.000000  "
      ]
     },
     "execution_count": 16,
     "metadata": {},
     "output_type": "execute_result"
    }
   ],
   "source": [
    "users.describe()"
   ]
  },
  {
   "cell_type": "markdown",
   "metadata": {},
   "source": [
    "Following line of code shows first users dataset rows."
   ]
  },
  {
   "cell_type": "code",
   "execution_count": 17,
   "metadata": {},
   "outputs": [
    {
     "data": {
      "text/html": [
       "<div>\n",
       "<style scoped>\n",
       "    .dataframe tbody tr th:only-of-type {\n",
       "        vertical-align: middle;\n",
       "    }\n",
       "\n",
       "    .dataframe tbody tr th {\n",
       "        vertical-align: top;\n",
       "    }\n",
       "\n",
       "    .dataframe thead th {\n",
       "        text-align: right;\n",
       "    }\n",
       "</style>\n",
       "<table border=\"1\" class=\"dataframe\">\n",
       "  <thead>\n",
       "    <tr style=\"text-align: right;\">\n",
       "      <th></th>\n",
       "      <th>id</th>\n",
       "      <th>name</th>\n",
       "      <th>lang</th>\n",
       "      <th>bot</th>\n",
       "      <th>created_at</th>\n",
       "      <th>statuses_count</th>\n",
       "      <th>tweets_num</th>\n",
       "      <th>tweets_2020_num</th>\n",
       "      <th>likes_num</th>\n",
       "      <th>comments_num</th>\n",
       "      <th>ratio_likes_x_tweets</th>\n",
       "      <th>entropy</th>\n",
       "      <th>texts_mean_length</th>\n",
       "      <th>texts_special_chars_length</th>\n",
       "      <th>mean_pub_range</th>\n",
       "      <th>mean_texts_similarity</th>\n",
       "    </tr>\n",
       "  </thead>\n",
       "  <tbody>\n",
       "    <tr>\n",
       "      <th>0</th>\n",
       "      <td>2353593986</td>\n",
       "      <td>Lamonica Raborn</td>\n",
       "      <td>en</td>\n",
       "      <td>True</td>\n",
       "      <td>2019-02-22 18:00:42</td>\n",
       "      <td>76</td>\n",
       "      <td>118</td>\n",
       "      <td>118</td>\n",
       "      <td>5.0</td>\n",
       "      <td>0.0</td>\n",
       "      <td>0.042373</td>\n",
       "      <td>0.000192</td>\n",
       "      <td>63.423729</td>\n",
       "      <td>4.076271</td>\n",
       "      <td>91920.076923</td>\n",
       "      <td>0.010965</td>\n",
       "    </tr>\n",
       "    <tr>\n",
       "      <th>1</th>\n",
       "      <td>2358850842</td>\n",
       "      <td>Lourie Botton</td>\n",
       "      <td>en</td>\n",
       "      <td>False</td>\n",
       "      <td>2019-02-26 03:02:32</td>\n",
       "      <td>54</td>\n",
       "      <td>104</td>\n",
       "      <td>104</td>\n",
       "      <td>6.0</td>\n",
       "      <td>0.0</td>\n",
       "      <td>0.057692</td>\n",
       "      <td>0.000171</td>\n",
       "      <td>69.961538</td>\n",
       "      <td>3.663462</td>\n",
       "      <td>104308.291262</td>\n",
       "      <td>0.015519</td>\n",
       "    </tr>\n",
       "    <tr>\n",
       "      <th>2</th>\n",
       "      <td>137959629</td>\n",
       "      <td>Dadan Syarifudin</td>\n",
       "      <td>en</td>\n",
       "      <td>True</td>\n",
       "      <td>2015-04-30 07:09:56</td>\n",
       "      <td>3</td>\n",
       "      <td>3</td>\n",
       "      <td>3</td>\n",
       "      <td>0.0</td>\n",
       "      <td>0.0</td>\n",
       "      <td>0.000000</td>\n",
       "      <td>0.000006</td>\n",
       "      <td>17.333333</td>\n",
       "      <td>4.333333</td>\n",
       "      <td>32322.000000</td>\n",
       "      <td>0.333333</td>\n",
       "    </tr>\n",
       "    <tr>\n",
       "      <th>3</th>\n",
       "      <td>466124818</td>\n",
       "      <td>Carletto Focia</td>\n",
       "      <td>it</td>\n",
       "      <td>True</td>\n",
       "      <td>2017-01-18 02:49:18</td>\n",
       "      <td>50</td>\n",
       "      <td>1253</td>\n",
       "      <td>1253</td>\n",
       "      <td>240.0</td>\n",
       "      <td>0.0</td>\n",
       "      <td>0.191540</td>\n",
       "      <td>0.001617</td>\n",
       "      <td>89.628891</td>\n",
       "      <td>5.734238</td>\n",
       "      <td>62427.395367</td>\n",
       "      <td>0.021998</td>\n",
       "    </tr>\n",
       "    <tr>\n",
       "      <th>4</th>\n",
       "      <td>2571493866</td>\n",
       "      <td>MBK Ebook</td>\n",
       "      <td>en</td>\n",
       "      <td>False</td>\n",
       "      <td>2019-06-18 19:30:21</td>\n",
       "      <td>7085</td>\n",
       "      <td>3217</td>\n",
       "      <td>3217</td>\n",
       "      <td>207.0</td>\n",
       "      <td>0.0</td>\n",
       "      <td>0.064346</td>\n",
       "      <td>0.003715</td>\n",
       "      <td>74.583152</td>\n",
       "      <td>3.718993</td>\n",
       "      <td>3238.683457</td>\n",
       "      <td>0.014382</td>\n",
       "    </tr>\n",
       "  </tbody>\n",
       "</table>\n",
       "</div>"
      ],
      "text/plain": [
       "           id              name lang    bot          created_at  \\\n",
       "0  2353593986   Lamonica Raborn   en   True 2019-02-22 18:00:42   \n",
       "1  2358850842     Lourie Botton   en  False 2019-02-26 03:02:32   \n",
       "2   137959629  Dadan Syarifudin   en   True 2015-04-30 07:09:56   \n",
       "3   466124818    Carletto Focia   it   True 2017-01-18 02:49:18   \n",
       "4  2571493866         MBK Ebook   en  False 2019-06-18 19:30:21   \n",
       "\n",
       "   statuses_count  tweets_num  tweets_2020_num  likes_num  comments_num  \\\n",
       "0              76         118              118        5.0           0.0   \n",
       "1              54         104              104        6.0           0.0   \n",
       "2               3           3                3        0.0           0.0   \n",
       "3              50        1253             1253      240.0           0.0   \n",
       "4            7085        3217             3217      207.0           0.0   \n",
       "\n",
       "   ratio_likes_x_tweets   entropy  texts_mean_length  \\\n",
       "0              0.042373  0.000192          63.423729   \n",
       "1              0.057692  0.000171          69.961538   \n",
       "2              0.000000  0.000006          17.333333   \n",
       "3              0.191540  0.001617          89.628891   \n",
       "4              0.064346  0.003715          74.583152   \n",
       "\n",
       "   texts_special_chars_length  mean_pub_range  mean_texts_similarity  \n",
       "0                    4.076271    91920.076923               0.010965  \n",
       "1                    3.663462   104308.291262               0.015519  \n",
       "2                    4.333333    32322.000000               0.333333  \n",
       "3                    5.734238    62427.395367               0.021998  \n",
       "4                    3.718993     3238.683457               0.014382  "
      ]
     },
     "execution_count": 17,
     "metadata": {},
     "output_type": "execute_result"
    }
   ],
   "source": [
    "users.head()"
   ]
  },
  {
   "cell_type": "markdown",
   "metadata": {},
   "source": [
    "## Distribution analysis"
   ]
  },
  {
   "cell_type": "markdown",
   "metadata": {},
   "source": [
    "Users histograms of new values to show their distribution."
   ]
  },
  {
   "cell_type": "code",
   "execution_count": 18,
   "metadata": {},
   "outputs": [
    {
     "data": {
      "image/png": "[encoded data removed]",
      "text/plain": [
       "<Figure size 2000x2000 with 10 Axes>"
      ]
     },
     "metadata": {},
     "output_type": "display_data"
    }
   ],
   "source": [
    "users_to_plot = users[users['mean_texts_similarity'] >= 0]\n",
    "\n",
    "users_num_cols = ['tweets_num', 'tweets_2020_num', 'likes_num', 'comments_num', 'ratio_likes_x_tweets', 'entropy', 'texts_mean_length', 'texts_special_chars_length', 'mean_pub_range', 'mean_texts_similarity']\n",
    "\n",
    "configs = [\n",
    "    {\n",
    "        'type': 'hist',\n",
    "        'column': users_to_plot[col],\n",
    "        'title': col,\n",
    "        'yscale': 'log',\n",
    "    } for col in users_num_cols\n",
    "]\n",
    "\n",
    "build_grid_plot(configs=configs)"
   ]
  },
  {
   "cell_type": "markdown",
   "metadata": {},
   "source": [
    "### Outliers detection"
   ]
  },
  {
   "cell_type": "markdown",
   "metadata": {},
   "source": [
    "Box-plots that shows new aggregated attributes outliers."
   ]
  },
  {
   "cell_type": "code",
   "execution_count": 19,
   "metadata": {},
   "outputs": [
    {
     "data": {
      "image/png": "[encoded data removed]",
      "text/plain": [
       "<Figure size 2000x2000 with 10 Axes>"
      ]
     },
     "metadata": {},
     "output_type": "display_data"
    }
   ],
   "source": [
    "def boxplot_tweets_newfeatures_show():\n",
    "    configs = [\n",
    "        {\n",
    "            'type': 'boxplot',\n",
    "            'df': users_to_plot,\n",
    "            'columns': [col]\n",
    "        } for col in users_num_cols\n",
    "    ]\n",
    "\n",
    "    build_grid_plot(configs=configs)\n",
    "\n",
    "boxplot_tweets_newfeatures_show()"
   ]
  },
  {
   "cell_type": "markdown",
   "metadata": {},
   "source": [
    "Here are printed the percentage of outliers over and below the two box-plot whiskers for each new numerical attribute of users dataset."
   ]
  },
  {
   "cell_type": "code",
   "execution_count": 20,
   "metadata": {},
   "outputs": [
    {
     "name": "stdout",
     "output_type": "stream",
     "text": [
      "2022-11-07 03:45:54,544 - root - INFO - 0.026325026325026327 % of column tweets_num are over superior whisker (3899.0) and below inferior one (2)\n",
      "2022-11-07 03:45:54,550 - root - INFO - 0.0 % of column tweets_2020_num are over superior whisker (3859.625) and below inferior one (2)\n",
      "2022-11-07 03:45:54,555 - root - INFO - 14.136539136539136 % of column likes_num are over superior whisker (925.5) and below inferior one (0.0)\n",
      "2022-11-07 03:45:54,559 - root - INFO - 18.813618813618813 % of column comments_num are over superior whisker (0.0) and below inferior one (0.0)\n",
      "2022-11-07 03:45:54,563 - root - INFO - 13.697788697788699 % of column ratio_likes_x_tweets are over superior whisker (0.6403031123327225) and below inferior one (0.0)\n",
      "2022-11-07 03:45:54,568 - root - INFO - 0.0 % of column entropy are over superior whisker (0.004849977593305844) and below inferior one (4.428819732249687e-06)\n",
      "2022-11-07 03:45:54,572 - root - INFO - 3.264303264303264 % of column texts_mean_length are over superior whisker (106.49144297166436) and below inferior one (34.67556899961008)\n",
      "2022-11-07 03:45:54,576 - root - INFO - 11.021411021411023 % of column texts_special_chars_length are over superior whisker (10.422458269646768) and below inferior one (0.0)\n",
      "2022-11-07 03:45:54,580 - root - INFO - 10.740610740610741 % of column mean_pub_range are over superior whisker (774514.788559125) and below inferior one (0.0)\n",
      "2022-11-07 03:45:54,584 - root - INFO - 6.0723060723060724 % of column mean_texts_similarity are over superior whisker (0.033796093291619506) and below inferior one (0.0)\n"
     ]
    }
   ],
   "source": [
    "for col in users_num_cols:\n",
    "    Q1 = np.quantile(users_to_plot[col], 0.25)\n",
    "    Q3 = np.quantile(users_to_plot[col], 0.75)\n",
    "    IQR = Q3 - Q1\n",
    "    superior_whisker = Q3 + 1.5 * IQR\n",
    "    inferior_whisker = min(superior_whisker, max(users_to_plot[col]))\n",
    "    outliers_perc_sup = len(users_to_plot[users_to_plot[col] > superior_whisker]) / len(users_to_plot) * 100\n",
    "    inferior_whisker = Q1 - 1.5 * IQR\n",
    "    inferior_whisker = max(inferior_whisker, min(users_to_plot[col]))\n",
    "    outliers_perc_inf = len(users_to_plot[users_to_plot[col] < inferior_whisker]) / len(users_to_plot) * 100\n",
    "    outliers_perc = outliers_perc_sup + outliers_perc_inf\n",
    "    lg.info(f'{outliers_perc} % of column {col} are over superior whisker ({superior_whisker}) and below inferior one ({inferior_whisker})')"
   ]
  },
  {
   "cell_type": "markdown",
   "metadata": {},
   "source": [
    "### Correlation"
   ]
  },
  {
   "cell_type": "markdown",
   "metadata": {},
   "source": [
    "Correlation matrix according old and new numerical values of users dataset."
   ]
  },
  {
   "cell_type": "code",
   "execution_count": 21,
   "metadata": {},
   "outputs": [
    {
     "data": {
      "text/html": [
       "<style type=\"text/css\">\n",
       "#T_84648_row0_col0, #T_84648_row0_col1, #T_84648_row0_col5, #T_84648_row1_col0, #T_84648_row1_col1, #T_84648_row1_col5, #T_84648_row2_col2, #T_84648_row3_col3, #T_84648_row4_col4, #T_84648_row5_col0, #T_84648_row5_col1, #T_84648_row5_col5, #T_84648_row6_col6, #T_84648_row7_col7, #T_84648_row8_col8, #T_84648_row9_col9 {\n",
       "  background-color: #b40426;\n",
       "  color: #f1f1f1;\n",
       "}\n",
       "#T_84648_row0_col2, #T_84648_row1_col2, #T_84648_row3_col8, #T_84648_row4_col0, #T_84648_row4_col1, #T_84648_row4_col5, #T_84648_row5_col2, #T_84648_row8_col4 {\n",
       "  background-color: #455cce;\n",
       "  color: #f1f1f1;\n",
       "}\n",
       "#T_84648_row0_col3, #T_84648_row1_col3, #T_84648_row5_col3 {\n",
       "  background-color: #5f7fe8;\n",
       "  color: #f1f1f1;\n",
       "}\n",
       "#T_84648_row0_col4, #T_84648_row0_col7, #T_84648_row0_col8, #T_84648_row1_col4, #T_84648_row1_col7, #T_84648_row1_col8, #T_84648_row2_col9, #T_84648_row5_col4, #T_84648_row5_col7, #T_84648_row5_col8, #T_84648_row7_col0, #T_84648_row7_col1, #T_84648_row7_col5, #T_84648_row8_col2, #T_84648_row8_col3, #T_84648_row8_col6 {\n",
       "  background-color: #3b4cc0;\n",
       "  color: #f1f1f1;\n",
       "}\n",
       "#T_84648_row0_col6, #T_84648_row1_col6, #T_84648_row3_col0, #T_84648_row3_col5 {\n",
       "  background-color: #7396f5;\n",
       "  color: #f1f1f1;\n",
       "}\n",
       "#T_84648_row0_col9, #T_84648_row1_col9, #T_84648_row5_col9, #T_84648_row9_col2 {\n",
       "  background-color: #3c4ec2;\n",
       "  color: #f1f1f1;\n",
       "}\n",
       "#T_84648_row2_col0, #T_84648_row2_col1, #T_84648_row7_col4 {\n",
       "  background-color: #5a78e4;\n",
       "  color: #f1f1f1;\n",
       "}\n",
       "#T_84648_row2_col3, #T_84648_row3_col2, #T_84648_row7_col3 {\n",
       "  background-color: #4358cb;\n",
       "  color: #f1f1f1;\n",
       "}\n",
       "#T_84648_row2_col4 {\n",
       "  background-color: #ec8165;\n",
       "  color: #f1f1f1;\n",
       "}\n",
       "#T_84648_row2_col5 {\n",
       "  background-color: #5b7ae5;\n",
       "  color: #f1f1f1;\n",
       "}\n",
       "#T_84648_row2_col6, #T_84648_row3_col7 {\n",
       "  background-color: #5875e1;\n",
       "  color: #f1f1f1;\n",
       "}\n",
       "#T_84648_row2_col7 {\n",
       "  background-color: #5572df;\n",
       "  color: #f1f1f1;\n",
       "}\n",
       "#T_84648_row2_col8, #T_84648_row4_col8, #T_84648_row6_col3 {\n",
       "  background-color: #465ecf;\n",
       "  color: #f1f1f1;\n",
       "}\n",
       "#T_84648_row3_col1 {\n",
       "  background-color: #7597f6;\n",
       "  color: #f1f1f1;\n",
       "}\n",
       "#T_84648_row3_col4 {\n",
       "  background-color: #4c66d6;\n",
       "  color: #f1f1f1;\n",
       "}\n",
       "#T_84648_row3_col6, #T_84648_row9_col4 {\n",
       "  background-color: #4a63d3;\n",
       "  color: #f1f1f1;\n",
       "}\n",
       "#T_84648_row3_col9, #T_84648_row7_col2 {\n",
       "  background-color: #3f53c6;\n",
       "  color: #f1f1f1;\n",
       "}\n",
       "#T_84648_row4_col2 {\n",
       "  background-color: #ee8468;\n",
       "  color: #f1f1f1;\n",
       "}\n",
       "#T_84648_row4_col3, #T_84648_row8_col0, #T_84648_row8_col1, #T_84648_row8_col5 {\n",
       "  background-color: #445acc;\n",
       "  color: #f1f1f1;\n",
       "}\n",
       "#T_84648_row4_col6 {\n",
       "  background-color: #5977e3;\n",
       "  color: #f1f1f1;\n",
       "}\n",
       "#T_84648_row4_col7 {\n",
       "  background-color: #6687ed;\n",
       "  color: #f1f1f1;\n",
       "}\n",
       "#T_84648_row4_col9 {\n",
       "  background-color: #3e51c5;\n",
       "  color: #f1f1f1;\n",
       "}\n",
       "#T_84648_row5_col6 {\n",
       "  background-color: #7699f6;\n",
       "  color: #f1f1f1;\n",
       "}\n",
       "#T_84648_row6_col0, #T_84648_row6_col1 {\n",
       "  background-color: #84a7fc;\n",
       "  color: #f1f1f1;\n",
       "}\n",
       "#T_84648_row6_col2, #T_84648_row8_col7 {\n",
       "  background-color: #5470de;\n",
       "  color: #f1f1f1;\n",
       "}\n",
       "#T_84648_row6_col4 {\n",
       "  background-color: #6180e9;\n",
       "  color: #f1f1f1;\n",
       "}\n",
       "#T_84648_row6_col5 {\n",
       "  background-color: #86a9fc;\n",
       "  color: #f1f1f1;\n",
       "}\n",
       "#T_84648_row6_col7 {\n",
       "  background-color: #e2dad5;\n",
       "  color: #000000;\n",
       "}\n",
       "#T_84648_row6_col8, #T_84648_row9_col3 {\n",
       "  background-color: #4257c9;\n",
       "  color: #f1f1f1;\n",
       "}\n",
       "#T_84648_row6_col9 {\n",
       "  background-color: #9dbdff;\n",
       "  color: #000000;\n",
       "}\n",
       "#T_84648_row7_col6 {\n",
       "  background-color: #dadce0;\n",
       "  color: #000000;\n",
       "}\n",
       "#T_84648_row7_col8 {\n",
       "  background-color: #4961d2;\n",
       "  color: #f1f1f1;\n",
       "}\n",
       "#T_84648_row7_col9 {\n",
       "  background-color: #e0dbd8;\n",
       "  color: #000000;\n",
       "}\n",
       "#T_84648_row8_col9 {\n",
       "  background-color: #506bda;\n",
       "  color: #f1f1f1;\n",
       "}\n",
       "#T_84648_row9_col0, #T_84648_row9_col1, #T_84648_row9_col5 {\n",
       "  background-color: #536edd;\n",
       "  color: #f1f1f1;\n",
       "}\n",
       "#T_84648_row9_col6 {\n",
       "  background-color: #a2c1ff;\n",
       "  color: #000000;\n",
       "}\n",
       "#T_84648_row9_col7 {\n",
       "  background-color: #ead5c9;\n",
       "  color: #000000;\n",
       "}\n",
       "#T_84648_row9_col8 {\n",
       "  background-color: #5e7de7;\n",
       "  color: #f1f1f1;\n",
       "}\n",
       "</style>\n",
       "<table id=\"T_84648\">\n",
       "  <thead>\n",
       "    <tr>\n",
       "      <th class=\"blank level0\" >&nbsp;</th>\n",
       "      <th id=\"T_84648_level0_col0\" class=\"col_heading level0 col0\" >tweets_num</th>\n",
       "      <th id=\"T_84648_level0_col1\" class=\"col_heading level0 col1\" >tweets_2020_num</th>\n",
       "      <th id=\"T_84648_level0_col2\" class=\"col_heading level0 col2\" >likes_num</th>\n",
       "      <th id=\"T_84648_level0_col3\" class=\"col_heading level0 col3\" >comments_num</th>\n",
       "      <th id=\"T_84648_level0_col4\" class=\"col_heading level0 col4\" >ratio_likes_x_tweets</th>\n",
       "      <th id=\"T_84648_level0_col5\" class=\"col_heading level0 col5\" >entropy</th>\n",
       "      <th id=\"T_84648_level0_col6\" class=\"col_heading level0 col6\" >texts_mean_length</th>\n",
       "      <th id=\"T_84648_level0_col7\" class=\"col_heading level0 col7\" >texts_special_chars_length</th>\n",
       "      <th id=\"T_84648_level0_col8\" class=\"col_heading level0 col8\" >mean_pub_range</th>\n",
       "      <th id=\"T_84648_level0_col9\" class=\"col_heading level0 col9\" >mean_texts_similarity</th>\n",
       "    </tr>\n",
       "  </thead>\n",
       "  <tbody>\n",
       "    <tr>\n",
       "      <th id=\"T_84648_level0_row0\" class=\"row_heading level0 row0\" >tweets_num</th>\n",
       "      <td id=\"T_84648_row0_col0\" class=\"data row0 col0\" >1.000000</td>\n",
       "      <td id=\"T_84648_row0_col1\" class=\"data row0 col1\" >0.998504</td>\n",
       "      <td id=\"T_84648_row0_col2\" class=\"data row0 col2\" >0.033096</td>\n",
       "      <td id=\"T_84648_row0_col3\" class=\"data row0 col3\" >0.112468</td>\n",
       "      <td id=\"T_84648_row0_col4\" class=\"data row0 col4\" >-0.039560</td>\n",
       "      <td id=\"T_84648_row0_col5\" class=\"data row0 col5\" >0.999026</td>\n",
       "      <td id=\"T_84648_row0_col6\" class=\"data row0 col6\" >0.162692</td>\n",
       "      <td id=\"T_84648_row0_col7\" class=\"data row0 col7\" >-0.079789</td>\n",
       "      <td id=\"T_84648_row0_col8\" class=\"data row0 col8\" >-0.041937</td>\n",
       "      <td id=\"T_84648_row0_col9\" class=\"data row0 col9\" >0.006609</td>\n",
       "    </tr>\n",
       "    <tr>\n",
       "      <th id=\"T_84648_level0_row1\" class=\"row_heading level0 row1\" >tweets_2020_num</th>\n",
       "      <td id=\"T_84648_row1_col0\" class=\"data row1 col0\" >0.998504</td>\n",
       "      <td id=\"T_84648_row1_col1\" class=\"data row1 col1\" >1.000000</td>\n",
       "      <td id=\"T_84648_row1_col2\" class=\"data row1 col2\" >0.033497</td>\n",
       "      <td id=\"T_84648_row1_col3\" class=\"data row1 col3\" >0.114635</td>\n",
       "      <td id=\"T_84648_row1_col4\" class=\"data row1 col4\" >-0.039424</td>\n",
       "      <td id=\"T_84648_row1_col5\" class=\"data row1 col5\" >0.997833</td>\n",
       "      <td id=\"T_84648_row1_col6\" class=\"data row1 col6\" >0.162578</td>\n",
       "      <td id=\"T_84648_row1_col7\" class=\"data row1 col7\" >-0.080263</td>\n",
       "      <td id=\"T_84648_row1_col8\" class=\"data row1 col8\" >-0.044757</td>\n",
       "      <td id=\"T_84648_row1_col9\" class=\"data row1 col9\" >0.007305</td>\n",
       "    </tr>\n",
       "    <tr>\n",
       "      <th id=\"T_84648_level0_row2\" class=\"row_heading level0 row2\" >likes_num</th>\n",
       "      <td id=\"T_84648_row2_col0\" class=\"data row2 col0\" >0.033096</td>\n",
       "      <td id=\"T_84648_row2_col1\" class=\"data row2 col1\" >0.033497</td>\n",
       "      <td id=\"T_84648_row2_col2\" class=\"data row2 col2\" >1.000000</td>\n",
       "      <td id=\"T_84648_row2_col3\" class=\"data row2 col3\" >0.023905</td>\n",
       "      <td id=\"T_84648_row2_col4\" class=\"data row2 col4\" >0.797530</td>\n",
       "      <td id=\"T_84648_row2_col5\" class=\"data row2 col5\" >0.035199</td>\n",
       "      <td id=\"T_84648_row2_col6\" class=\"data row2 col6\" >0.081995</td>\n",
       "      <td id=\"T_84648_row2_col7\" class=\"data row2 col7\" >0.015129</td>\n",
       "      <td id=\"T_84648_row2_col8\" class=\"data row2 col8\" >-0.003862</td>\n",
       "      <td id=\"T_84648_row2_col9\" class=\"data row2 col9\" >0.002403</td>\n",
       "    </tr>\n",
       "    <tr>\n",
       "      <th id=\"T_84648_level0_row3\" class=\"row_heading level0 row3\" >comments_num</th>\n",
       "      <td id=\"T_84648_row3_col0\" class=\"data row3 col0\" >0.112468</td>\n",
       "      <td id=\"T_84648_row3_col1\" class=\"data row3 col1\" >0.114635</td>\n",
       "      <td id=\"T_84648_row3_col2\" class=\"data row3 col2\" >0.023905</td>\n",
       "      <td id=\"T_84648_row3_col3\" class=\"data row3 col3\" >1.000000</td>\n",
       "      <td id=\"T_84648_row3_col4\" class=\"data row3 col4\" >0.025278</td>\n",
       "      <td id=\"T_84648_row3_col5\" class=\"data row3 col5\" >0.112457</td>\n",
       "      <td id=\"T_84648_row3_col6\" class=\"data row3 col6\" >0.035930</td>\n",
       "      <td id=\"T_84648_row3_col7\" class=\"data row3 col7\" >0.022097</td>\n",
       "      <td id=\"T_84648_row3_col8\" class=\"data row3 col8\" >-0.007083</td>\n",
       "      <td id=\"T_84648_row3_col9\" class=\"data row3 col9\" >0.019073</td>\n",
       "    </tr>\n",
       "    <tr>\n",
       "      <th id=\"T_84648_level0_row4\" class=\"row_heading level0 row4\" >ratio_likes_x_tweets</th>\n",
       "      <td id=\"T_84648_row4_col0\" class=\"data row4 col0\" >-0.039560</td>\n",
       "      <td id=\"T_84648_row4_col1\" class=\"data row4 col1\" >-0.039424</td>\n",
       "      <td id=\"T_84648_row4_col2\" class=\"data row4 col2\" >0.797530</td>\n",
       "      <td id=\"T_84648_row4_col3\" class=\"data row4 col3\" >0.025278</td>\n",
       "      <td id=\"T_84648_row4_col4\" class=\"data row4 col4\" >1.000000</td>\n",
       "      <td id=\"T_84648_row4_col5\" class=\"data row4 col5\" >-0.039570</td>\n",
       "      <td id=\"T_84648_row4_col6\" class=\"data row4 col6\" >0.086710</td>\n",
       "      <td id=\"T_84648_row4_col7\" class=\"data row4 col7\" >0.067915</td>\n",
       "      <td id=\"T_84648_row4_col8\" class=\"data row4 col8\" >-0.002181</td>\n",
       "      <td id=\"T_84648_row4_col9\" class=\"data row4 col9\" >0.014834</td>\n",
       "    </tr>\n",
       "    <tr>\n",
       "      <th id=\"T_84648_level0_row5\" class=\"row_heading level0 row5\" >entropy</th>\n",
       "      <td id=\"T_84648_row5_col0\" class=\"data row5 col0\" >0.999026</td>\n",
       "      <td id=\"T_84648_row5_col1\" class=\"data row5 col1\" >0.997833</td>\n",
       "      <td id=\"T_84648_row5_col2\" class=\"data row5 col2\" >0.035199</td>\n",
       "      <td id=\"T_84648_row5_col3\" class=\"data row5 col3\" >0.112457</td>\n",
       "      <td id=\"T_84648_row5_col4\" class=\"data row5 col4\" >-0.039570</td>\n",
       "      <td id=\"T_84648_row5_col5\" class=\"data row5 col5\" >1.000000</td>\n",
       "      <td id=\"T_84648_row5_col6\" class=\"data row5 col6\" >0.171274</td>\n",
       "      <td id=\"T_84648_row5_col7\" class=\"data row5 col7\" >-0.081822</td>\n",
       "      <td id=\"T_84648_row5_col8\" class=\"data row5 col8\" >-0.043848</td>\n",
       "      <td id=\"T_84648_row5_col9\" class=\"data row5 col9\" >0.006866</td>\n",
       "    </tr>\n",
       "    <tr>\n",
       "      <th id=\"T_84648_level0_row6\" class=\"row_heading level0 row6\" >texts_mean_length</th>\n",
       "      <td id=\"T_84648_row6_col0\" class=\"data row6 col0\" >0.162692</td>\n",
       "      <td id=\"T_84648_row6_col1\" class=\"data row6 col1\" >0.162578</td>\n",
       "      <td id=\"T_84648_row6_col2\" class=\"data row6 col2\" >0.081995</td>\n",
       "      <td id=\"T_84648_row6_col3\" class=\"data row6 col3\" >0.035930</td>\n",
       "      <td id=\"T_84648_row6_col4\" class=\"data row6 col4\" >0.086710</td>\n",
       "      <td id=\"T_84648_row6_col5\" class=\"data row6 col5\" >0.171274</td>\n",
       "      <td id=\"T_84648_row6_col6\" class=\"data row6 col6\" >1.000000</td>\n",
       "      <td id=\"T_84648_row6_col7\" class=\"data row6 col7\" >0.481231</td>\n",
       "      <td id=\"T_84648_row6_col8\" class=\"data row6 col8\" >-0.016238</td>\n",
       "      <td id=\"T_84648_row6_col9\" class=\"data row6 col9\" >0.298438</td>\n",
       "    </tr>\n",
       "    <tr>\n",
       "      <th id=\"T_84648_level0_row7\" class=\"row_heading level0 row7\" >texts_special_chars_length</th>\n",
       "      <td id=\"T_84648_row7_col0\" class=\"data row7 col0\" >-0.079789</td>\n",
       "      <td id=\"T_84648_row7_col1\" class=\"data row7 col1\" >-0.080263</td>\n",
       "      <td id=\"T_84648_row7_col2\" class=\"data row7 col2\" >0.015129</td>\n",
       "      <td id=\"T_84648_row7_col3\" class=\"data row7 col3\" >0.022097</td>\n",
       "      <td id=\"T_84648_row7_col4\" class=\"data row7 col4\" >0.067915</td>\n",
       "      <td id=\"T_84648_row7_col5\" class=\"data row7 col5\" >-0.081822</td>\n",
       "      <td id=\"T_84648_row7_col6\" class=\"data row7 col6\" >0.481231</td>\n",
       "      <td id=\"T_84648_row7_col7\" class=\"data row7 col7\" >1.000000</td>\n",
       "      <td id=\"T_84648_row7_col8\" class=\"data row7 col8\" >0.008123</td>\n",
       "      <td id=\"T_84648_row7_col9\" class=\"data row7 col9\" >0.516287</td>\n",
       "    </tr>\n",
       "    <tr>\n",
       "      <th id=\"T_84648_level0_row8\" class=\"row_heading level0 row8\" >mean_pub_range</th>\n",
       "      <td id=\"T_84648_row8_col0\" class=\"data row8 col0\" >-0.041937</td>\n",
       "      <td id=\"T_84648_row8_col1\" class=\"data row8 col1\" >-0.044757</td>\n",
       "      <td id=\"T_84648_row8_col2\" class=\"data row8 col2\" >-0.003862</td>\n",
       "      <td id=\"T_84648_row8_col3\" class=\"data row8 col3\" >-0.007083</td>\n",
       "      <td id=\"T_84648_row8_col4\" class=\"data row8 col4\" >-0.002181</td>\n",
       "      <td id=\"T_84648_row8_col5\" class=\"data row8 col5\" >-0.043848</td>\n",
       "      <td id=\"T_84648_row8_col6\" class=\"data row8 col6\" >-0.016238</td>\n",
       "      <td id=\"T_84648_row8_col7\" class=\"data row8 col7\" >0.008123</td>\n",
       "      <td id=\"T_84648_row8_col8\" class=\"data row8 col8\" >1.000000</td>\n",
       "      <td id=\"T_84648_row8_col9\" class=\"data row8 col9\" >0.074480</td>\n",
       "    </tr>\n",
       "    <tr>\n",
       "      <th id=\"T_84648_level0_row9\" class=\"row_heading level0 row9\" >mean_texts_similarity</th>\n",
       "      <td id=\"T_84648_row9_col0\" class=\"data row9 col0\" >0.006609</td>\n",
       "      <td id=\"T_84648_row9_col1\" class=\"data row9 col1\" >0.007305</td>\n",
       "      <td id=\"T_84648_row9_col2\" class=\"data row9 col2\" >0.002403</td>\n",
       "      <td id=\"T_84648_row9_col3\" class=\"data row9 col3\" >0.019073</td>\n",
       "      <td id=\"T_84648_row9_col4\" class=\"data row9 col4\" >0.014834</td>\n",
       "      <td id=\"T_84648_row9_col5\" class=\"data row9 col5\" >0.006866</td>\n",
       "      <td id=\"T_84648_row9_col6\" class=\"data row9 col6\" >0.298438</td>\n",
       "      <td id=\"T_84648_row9_col7\" class=\"data row9 col7\" >0.516287</td>\n",
       "      <td id=\"T_84648_row9_col8\" class=\"data row9 col8\" >0.074480</td>\n",
       "      <td id=\"T_84648_row9_col9\" class=\"data row9 col9\" >1.000000</td>\n",
       "    </tr>\n",
       "  </tbody>\n",
       "</table>\n"
      ],
      "text/plain": [
       "<pandas.io.formats.style.Styler at 0x7fa18a9f7f40>"
      ]
     },
     "execution_count": 21,
     "metadata": {},
     "output_type": "execute_result"
    }
   ],
   "source": [
    "corr = users_to_plot.corr(method='pearson', numeric_only=True).loc[users_num_cols, users_num_cols]\n",
    "corr.style.background_gradient(cmap='coolwarm')"
   ]
  },
  {
   "cell_type": "code",
   "execution_count": 22,
   "metadata": {},
   "outputs": [],
   "source": [
    "# save users_total as pickle\n",
    "store_preprocessed_dataset(step_name=\"users_total\", file_name=\"users.pickle\", df=users)"
   ]
  }
 ],
 "metadata": {
  "kernelspec": {
   "display_name": "Python 3 (ipykernel)",
   "language": "python",
   "name": "python3"
  },
  "language_info": {
   "codemirror_mode": {
    "name": "ipython",
    "version": 3
   },
   "file_extension": ".py",
   "mimetype": "text/x-python",
   "name": "python",
   "nbconvert_exporter": "python",
   "pygments_lexer": "ipython3",
   "version": "3.10.6"
  },
  "toc-showmarkdowntxt": false
 },
 "nbformat": 4,
 "nbformat_minor": 4
}
