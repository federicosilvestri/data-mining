{
 "cells": [
  {
   "cell_type": "markdown",
   "id": "9786ed2f-62e4-41ba-a51b-bbb30bee5034",
   "metadata": {},
   "source": [
    "# DM - Clustering analysis [TASK 2]"
   ]
  },
  {
   "cell_type": "code",
   "execution_count": 2,
   "id": "fdb1cf20-6a7a-4078-9a1e-c2075fd2dfad",
   "metadata": {},
   "outputs": [
    {
     "name": "stderr",
     "output_type": "stream",
     "text": [
      "/tmp/ipykernel_5781/2243393596.py:10: DeprecationWarning: Please use `pearsonr` from the `scipy.stats` namespace, the `scipy.stats.stats` namespace is deprecated.\n",
      "  from scipy.stats.stats import pearsonr\n"
     ]
    }
   ],
   "source": [
    "import json\n",
    "import math\n",
    "import re\n",
    "import numpy as np\n",
    "import pandas as pd\n",
    "import scipy.stats as stats\n",
    "import matplotlib.pyplot as plt\n",
    "\n",
    "from collections import defaultdict\n",
    "from scipy.stats.stats import pearsonr\n",
    "from sklearn.preprocessing import StandardScaler, MinMaxScaler\n",
    "from utils import fetch_preprocessed_dataset, store_preprocessed_dataset\n",
    "\n",
    "import sys\n",
    "import logging as lg\n",
    "\n",
    "root = lg.getLogger()\n",
    "root.setLevel(lg.INFO)\n",
    "\n",
    "handler = lg.StreamHandler(sys.stdout)\n",
    "handler.setLevel(lg.DEBUG)\n",
    "formatter = lg.Formatter(\"%(asctime)s - %(name)s - %(levelname)s - %(message)s\")\n",
    "handler.setFormatter(formatter)\n",
    "root.addHandler(handler)"
   ]
  },
  {
   "cell_type": "code",
   "execution_count": null,
   "id": "2bc5f254-6872-46ea-9785-7c64cc281b26",
   "metadata": {},
   "outputs": [],
   "source": [
    "from utils import fetch_dataset\n",
    "\n",
    "dataset = fetch_dataset()"
   ]
  },
  {
   "cell_type": "code",
   "execution_count": null,
   "id": "1f1d417d-bd0e-4f48-9a55-c2efea9c241e",
   "metadata": {},
   "outputs": [],
   "source": [
    "users = dataset['users.csv']\n",
    "\n",
    "users.info()"
   ]
  },
  {
   "cell_type": "code",
   "execution_count": null,
   "id": "20f44733-e949-4cc4-9ea6-cee198b8958c",
   "metadata": {},
   "outputs": [],
   "source": [
    "user_num = users[['statuses_count', 'bot']] # to replace"
   ]
  },
  {
   "cell_type": "code",
   "execution_count": null,
   "id": "fa53b726-71ce-4f34-bb24-9392e1460fc0",
   "metadata": {},
   "outputs": [],
   "source": [
    "scaler = StandardScaler()\n",
    "scaler.fit(user_num.values)"
   ]
  },
  {
   "cell_type": "code",
   "execution_count": null,
   "id": "bcf6db0c-855e-4975-aef0-f59fbe09bfca",
   "metadata": {},
   "outputs": [],
   "source": [
    "user_num.head().values # first values"
   ]
  },
  {
   "cell_type": "code",
   "execution_count": null,
   "id": "4157e3a5-36c3-4e75-a4d0-20253eb33cc8",
   "metadata": {},
   "outputs": [],
   "source": [
    "scaled_values = scaler.transform(user_num.head().values) # first values scaled\n",
    "scaled_values"
   ]
  },
  {
   "cell_type": "code",
   "execution_count": null,
   "id": "d0d6ab00-8573-4b1d-a9b9-5187d6296095",
   "metadata": {},
   "outputs": [],
   "source": [
    "scaler.inverse_transform(scaled_values) # first values scaled"
   ]
  }
 ],
 "metadata": {
  "kernelspec": {
   "display_name": "Python 3 (ipykernel)",
   "language": "python",
   "name": "python3"
  },
  "language_info": {
   "codemirror_mode": {
    "name": "ipython",
    "version": 3
   },
   "file_extension": ".py",
   "mimetype": "text/x-python",
   "name": "python",
   "nbconvert_exporter": "python",
   "pygments_lexer": "ipython3",
   "version": "3.10.6"
  }
 },
 "nbformat": 4,
 "nbformat_minor": 5
}
