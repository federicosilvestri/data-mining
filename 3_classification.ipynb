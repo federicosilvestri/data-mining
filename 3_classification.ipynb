{
 "cells": [
  {
   "cell_type": "markdown",
   "source": [
    "# DM - Classification [TASK 3]"
   ],
   "metadata": {
    "collapsed": false
   }
  },
  {
   "cell_type": "markdown",
   "source": [
    "Library imports and initial settings."
   ],
   "metadata": {
    "collapsed": false
   }
  },
  {
   "cell_type": "code",
   "execution_count": 104,
   "outputs": [],
   "source": [
    "import numpy as np\n",
    "import pandas as pd\n",
    "import matplotlib.pyplot as plt\n",
    "from tqdm import tqdm_notebook\n",
    "\n",
    "import pydotplus\n",
    "from IPython.display import Image\n",
    "from sklearn.model_selection import train_test_split\n",
    "from sklearn import tree\n",
    "from sklearn import metrics\n",
    "from sklearn.model_selection import cross_validate\n",
    "import statistics\n",
    "import itertools\n",
    "\n",
    "from utils import fetch_preprocessed_dataset, store_preprocessed_dataset, build_grid_plot\n",
    "\n",
    "import sys\n",
    "import logging as lg\n",
    "\n",
    "root = lg.getLogger()\n",
    "root.setLevel(lg.INFO)\n",
    "\n",
    "handler = lg.StreamHandler(sys.stdout)\n",
    "handler.setLevel(lg.DEBUG)\n",
    "formatter = lg.Formatter(\"%(asctime)s - %(name)s - %(levelname)s - %(message)s\")\n",
    "handler.setFormatter(formatter)\n",
    "root.addHandler(handler)"
   ],
   "metadata": {
    "collapsed": false
   }
  },
  {
   "cell_type": "markdown",
   "source": [
    "Fetching users dataset saved in data preparation phase."
   ],
   "metadata": {
    "collapsed": false
   }
  },
  {
   "cell_type": "code",
   "execution_count": 2,
   "outputs": [],
   "source": [
    "# Load the users dataset from pickle\n",
    "dataset = fetch_preprocessed_dataset(step_name=\"users_total\")\n",
    "users = dataset['users.pickle']"
   ],
   "metadata": {
    "collapsed": false
   }
  },
  {
   "cell_type": "markdown",
   "source": [
    "`users_num` is a dataset composed by numerical attributes of `users`."
   ],
   "metadata": {
    "collapsed": false
   }
  },
  {
   "cell_type": "code",
   "execution_count": 3,
   "outputs": [
    {
     "data": {
      "text/plain": "<bound method DataFrame.info of        statuses_count  bot  tweets_num  tweets_2020_num  likes_num  \\\n0                  76    1         118              118        5.0   \n1                  54    0         104              104        6.0   \n2                   3    1           3                3        0.0   \n3                  50    1        1253             1253      240.0   \n4                7085    0        3217             3217      207.0   \n...               ...  ...         ...              ...        ...   \n11503            1126    0         991              991       61.0   \n11504            3024    0        1853             1853      426.0   \n11505               6    0           6                6        0.0   \n11506              42    1          91               91        8.0   \n11507            5279    0        3301             3301      439.0   \n\n       comments_num  ratio_likes_x_tweets   entropy  texts_mean_length  \\\n0               0.0              0.042373  0.000192          63.423729   \n1               0.0              0.057692  0.000171          69.961538   \n2               0.0              0.000000  0.000006          17.333333   \n3               0.0              0.191540  0.001617          89.628891   \n4               0.0              0.064346  0.003715          74.583152   \n...             ...                   ...       ...                ...   \n11503           0.0              0.061554  0.001312          54.560040   \n11504           0.0              0.229897  0.002287          61.516460   \n11505           0.0              0.000000  0.000012          67.666667   \n11506           0.0              0.087912  0.000152          65.318681   \n11507           0.0              0.132990  0.003800          54.091487   \n\n       texts_special_chars_length  mean_pub_range  mean_texts_similarity  \\\n0                        4.076271    9.192008e+04               0.010965   \n1                        3.663462    1.043083e+05               0.015519   \n2                        4.333333    3.232200e+04               0.333333   \n3                        5.734238    6.242740e+04               0.021998   \n4                        3.718993    3.238683e+03               0.014382   \n...                           ...             ...                    ...   \n11503                    5.062563    1.008119e+04               0.019215   \n11504                    4.359417    3.420918e+04               0.012821   \n11505                    6.666667    1.657711e+07               0.073544   \n11506                    4.098901    1.194095e+05               0.012804   \n11507                    3.101181    1.935039e+03               0.015797   \n\n       lang_num  \n0             4  \n1             4  \n2             4  \n3            11  \n4             4  \n...         ...  \n11503         4  \n11504         4  \n11505         7  \n11506         4  \n11507         4  \n\n[11508 rows x 13 columns]>"
     },
     "execution_count": 3,
     "metadata": {},
     "output_type": "execute_result"
    }
   ],
   "source": [
    "users_num_cols = ['statuses_count', 'bot', 'tweets_num', 'tweets_2020_num', 'likes_num', 'comments_num', 'ratio_likes_x_tweets', 'entropy', 'texts_mean_length', 'texts_special_chars_length', 'mean_pub_range', 'mean_texts_similarity']\n",
    "\n",
    "users_num = users[users_num_cols].astype({'bot': 'int64'})\n",
    "langs_map = {lang: i for i, lang in enumerate(sorted(users['lang'].unique()))}\n",
    "users_num['lang_num'] = users['lang'].map(langs_map).astype('int64')\n",
    "\n",
    "users_num.info"
   ],
   "metadata": {
    "collapsed": false
   }
  },
  {
   "cell_type": "markdown",
   "source": [
    "## Dataset preparation"
   ],
   "metadata": {
    "collapsed": false
   }
  },
  {
   "cell_type": "markdown",
   "source": [
    "Splitting dataset in training and test set. Each of the two part is a couple of input values and labels."
   ],
   "metadata": {
    "collapsed": false
   }
  },
  {
   "cell_type": "code",
   "execution_count": 4,
   "outputs": [
    {
     "name": "stdout",
     "output_type": "stream",
     "text": [
      "train_set: (9206, 12)\n",
      "train_label: (9206,)\n",
      "test_set: (2302, 12)\n",
      "test_label: (2302,)\n"
     ]
    }
   ],
   "source": [
    "dataset = users_num.copy()\n",
    "label = dataset.pop('bot')\n",
    "train_set, test_set, train_label, test_label = train_test_split(dataset, label, stratify =label, test_size=0.20)\n",
    "\n",
    "print(\"train_set:\", train_set.shape)\n",
    "print(\"train_label:\", train_label.shape)\n",
    "print(\"test_set:\", test_set.shape)\n",
    "print(\"test_label:\", test_label.shape)"
   ],
   "metadata": {
    "collapsed": false
   }
  },
  {
   "cell_type": "markdown",
   "source": [
    "## Classification models"
   ],
   "metadata": {
    "collapsed": false
   }
  },
  {
   "cell_type": "markdown",
   "source": [
    "### Decision tree"
   ],
   "metadata": {
    "collapsed": false
   }
  },
  {
   "cell_type": "code",
   "execution_count": 105,
   "outputs": [],
   "source": [
    "def create_dt(max_depth, min_samples_leaf):\n",
    "    return tree.DecisionTreeClassifier(criterion='gini', splitter='best', max_depth=max_depth, min_samples_leaf=min_samples_leaf)"
   ],
   "metadata": {
    "collapsed": false
   }
  },
  {
   "cell_type": "code",
   "execution_count": 109,
   "outputs": [],
   "source": [
    "def dt_gridsearch(train_set, train_label, params):\n",
    "    best_test_score = None\n",
    "    best_params = {}\n",
    "    for max_depth, min_samples_leaf in params:\n",
    "        dt = create_dt(max_depth=max_depth, min_samples_leaf=min_samples_leaf)\n",
    "        dt = dt.fit(train_set, train_label)\n",
    "\n",
    "        scores = cross_validate(dt, train_set, train_label, cv=4)\n",
    "        new_test_score = statistics.mean(scores['test_score'])\n",
    "        if best_test_score is None or new_test_score > best_test_score:\n",
    "            best_test_score = new_test_score\n",
    "            best_params = {\n",
    "                \"max_depth\": max_depth,\n",
    "                \"min_samples_leaf\": min_samples_leaf\n",
    "            }\n",
    "    return best_test_score, best_params"
   ],
   "metadata": {
    "collapsed": false
   }
  },
  {
   "cell_type": "code",
   "execution_count": 113,
   "outputs": [
    {
     "data": {
      "text/plain": "(0.8210962275684919, {'max_depth': 10, 'min_samples_leaf': 3})"
     },
     "execution_count": 113,
     "metadata": {},
     "output_type": "execute_result"
    }
   ],
   "source": [
    "max_depths = [5, 10, 20, 30, 40, 50]\n",
    "min_samples_leafs = [1, 2, 3, 4, 5]\n",
    "\n",
    "params = itertools.product(max_depths, min_samples_leafs)\n",
    "\n",
    "best_test_score, best_params = dt_gridsearch(train_set, train_label, params=params)\n",
    "\n",
    "best_test_score, best_params"
   ],
   "metadata": {
    "collapsed": false
   }
  },
  {
   "cell_type": "code",
   "execution_count": 114,
   "outputs": [
    {
     "data": {
      "text/plain": "DecisionTreeClassifier(max_depth=10, min_samples_leaf=3)",
      "text/html": "<style>#sk-container-id-1 {color: black;background-color: white;}#sk-container-id-1 pre{padding: 0;}#sk-container-id-1 div.sk-toggleable {background-color: white;}#sk-container-id-1 label.sk-toggleable__label {cursor: pointer;display: block;width: 100%;margin-bottom: 0;padding: 0.3em;box-sizing: border-box;text-align: center;}#sk-container-id-1 label.sk-toggleable__label-arrow:before {content: \"▸\";float: left;margin-right: 0.25em;color: #696969;}#sk-container-id-1 label.sk-toggleable__label-arrow:hover:before {color: black;}#sk-container-id-1 div.sk-estimator:hover label.sk-toggleable__label-arrow:before {color: black;}#sk-container-id-1 div.sk-toggleable__content {max-height: 0;max-width: 0;overflow: hidden;text-align: left;background-color: #f0f8ff;}#sk-container-id-1 div.sk-toggleable__content pre {margin: 0.2em;color: black;border-radius: 0.25em;background-color: #f0f8ff;}#sk-container-id-1 input.sk-toggleable__control:checked~div.sk-toggleable__content {max-height: 200px;max-width: 100%;overflow: auto;}#sk-container-id-1 input.sk-toggleable__control:checked~label.sk-toggleable__label-arrow:before {content: \"▾\";}#sk-container-id-1 div.sk-estimator input.sk-toggleable__control:checked~label.sk-toggleable__label {background-color: #d4ebff;}#sk-container-id-1 div.sk-label input.sk-toggleable__control:checked~label.sk-toggleable__label {background-color: #d4ebff;}#sk-container-id-1 input.sk-hidden--visually {border: 0;clip: rect(1px 1px 1px 1px);clip: rect(1px, 1px, 1px, 1px);height: 1px;margin: -1px;overflow: hidden;padding: 0;position: absolute;width: 1px;}#sk-container-id-1 div.sk-estimator {font-family: monospace;background-color: #f0f8ff;border: 1px dotted black;border-radius: 0.25em;box-sizing: border-box;margin-bottom: 0.5em;}#sk-container-id-1 div.sk-estimator:hover {background-color: #d4ebff;}#sk-container-id-1 div.sk-parallel-item::after {content: \"\";width: 100%;border-bottom: 1px solid gray;flex-grow: 1;}#sk-container-id-1 div.sk-label:hover label.sk-toggleable__label {background-color: #d4ebff;}#sk-container-id-1 div.sk-serial::before {content: \"\";position: absolute;border-left: 1px solid gray;box-sizing: border-box;top: 0;bottom: 0;left: 50%;z-index: 0;}#sk-container-id-1 div.sk-serial {display: flex;flex-direction: column;align-items: center;background-color: white;padding-right: 0.2em;padding-left: 0.2em;position: relative;}#sk-container-id-1 div.sk-item {position: relative;z-index: 1;}#sk-container-id-1 div.sk-parallel {display: flex;align-items: stretch;justify-content: center;background-color: white;position: relative;}#sk-container-id-1 div.sk-item::before, #sk-container-id-1 div.sk-parallel-item::before {content: \"\";position: absolute;border-left: 1px solid gray;box-sizing: border-box;top: 0;bottom: 0;left: 50%;z-index: -1;}#sk-container-id-1 div.sk-parallel-item {display: flex;flex-direction: column;z-index: 1;position: relative;background-color: white;}#sk-container-id-1 div.sk-parallel-item:first-child::after {align-self: flex-end;width: 50%;}#sk-container-id-1 div.sk-parallel-item:last-child::after {align-self: flex-start;width: 50%;}#sk-container-id-1 div.sk-parallel-item:only-child::after {width: 0;}#sk-container-id-1 div.sk-dashed-wrapped {border: 1px dashed gray;margin: 0 0.4em 0.5em 0.4em;box-sizing: border-box;padding-bottom: 0.4em;background-color: white;}#sk-container-id-1 div.sk-label label {font-family: monospace;font-weight: bold;display: inline-block;line-height: 1.2em;}#sk-container-id-1 div.sk-label-container {text-align: center;}#sk-container-id-1 div.sk-container {/* jupyter's `normalize.less` sets `[hidden] { display: none; }` but bootstrap.min.css set `[hidden] { display: none !important; }` so we also need the `!important` here to be able to override the default hidden behavior on the sphinx rendered scikit-learn.org. See: https://github.com/scikit-learn/scikit-learn/issues/21755 */display: inline-block !important;position: relative;}#sk-container-id-1 div.sk-text-repr-fallback {display: none;}</style><div id=\"sk-container-id-1\" class=\"sk-top-container\"><div class=\"sk-text-repr-fallback\"><pre>DecisionTreeClassifier(max_depth=10, min_samples_leaf=3)</pre><b>In a Jupyter environment, please rerun this cell to show the HTML representation or trust the notebook. <br />On GitHub, the HTML representation is unable to render, please try loading this page with nbviewer.org.</b></div><div class=\"sk-container\" hidden><div class=\"sk-item\"><div class=\"sk-estimator sk-toggleable\"><input class=\"sk-toggleable__control sk-hidden--visually\" id=\"sk-estimator-id-1\" type=\"checkbox\" checked><label for=\"sk-estimator-id-1\" class=\"sk-toggleable__label sk-toggleable__label-arrow\">DecisionTreeClassifier</label><div class=\"sk-toggleable__content\"><pre>DecisionTreeClassifier(max_depth=10, min_samples_leaf=3)</pre></div></div></div></div></div>"
     },
     "execution_count": 114,
     "metadata": {},
     "output_type": "execute_result"
    }
   ],
   "source": [
    "dt = create_dt(best_params['max_depth'], best_params['min_samples_leaf'])\n",
    "dt.fit(train_set, train_label)"
   ],
   "metadata": {
    "collapsed": false
   }
  },
  {
   "cell_type": "code",
   "execution_count": 121,
   "outputs": [],
   "source": [
    "train_pred_dt = dt.predict(train_set)\n",
    "test_pred_dt = dt.predict(test_set)"
   ],
   "metadata": {
    "collapsed": false
   }
  },
  {
   "cell_type": "code",
   "execution_count": 126,
   "outputs": [],
   "source": [
    "def report_scores(train_pred, test_pred, tr_label=train_label, ts_label=test_label):\n",
    "    print(\"TRAIN\")\n",
    "    print(metrics.classification_report(tr_label,\n",
    "                            train_pred,\n",
    "                            target_names=['user', 'bot']))\n",
    "    print(\"TEST\")\n",
    "    print(metrics.classification_report(ts_label,\n",
    "                            test_pred,\n",
    "                            target_names=['user', 'bot']))"
   ],
   "metadata": {
    "collapsed": false
   }
  },
  {
   "cell_type": "code",
   "execution_count": 141,
   "outputs": [
    {
     "name": "stdout",
     "output_type": "stream",
     "text": [
      "TRAIN\n",
      "              precision    recall  f1-score   support\n",
      "\n",
      "        user       0.96      0.73      0.83      4313\n",
      "         bot       0.81      0.98      0.88      4893\n",
      "\n",
      "    accuracy                           0.86      9206\n",
      "   macro avg       0.89      0.86      0.86      9206\n",
      "weighted avg       0.88      0.86      0.86      9206\n",
      "\n",
      "TEST\n",
      "              precision    recall  f1-score   support\n",
      "\n",
      "        user       0.92      0.71      0.80      1079\n",
      "         bot       0.79      0.95      0.86      1223\n",
      "\n",
      "    accuracy                           0.83      2302\n",
      "   macro avg       0.85      0.83      0.83      2302\n",
      "weighted avg       0.85      0.83      0.83      2302\n",
      "\n"
     ]
    }
   ],
   "source": [
    "report_scores(train_pred_dt, test_pred_dt)"
   ],
   "metadata": {
    "collapsed": false
   }
  },
  {
   "cell_type": "code",
   "execution_count": 140,
   "outputs": [
    {
     "data": {
      "text/plain": "<Figure size 640x480 with 2 Axes>",
      "image/png": "[encoded data removed]"
     },
     "metadata": {},
     "output_type": "display_data"
    },
    {
     "data": {
      "text/plain": "<Figure size 640x480 with 2 Axes>",
      "image/png": "[encoded data removed]"
     },
     "metadata": {},
     "output_type": "display_data"
    }
   ],
   "source": [
    "def plot_cms(train_pred, test_pred, tr_label=train_label, ts_label=test_label):\n",
    "    def plot_cm(title, label, pred):\n",
    "        cm = metrics.confusion_matrix(label, pred)\n",
    "        disp = metrics.ConfusionMatrixDisplay(confusion_matrix=cm, display_labels=['user', 'bot'])\n",
    "        disp.plot()\n",
    "        disp.ax_.set_title(title)\n",
    "\n",
    "    plot_cm(\"TRAIN\", tr_label, train_pred)\n",
    "    plot_cm(\"TEST\", ts_label, test_pred)\n",
    "\n",
    "plot_cms(train_pred_dt, test_pred_dt)"
   ],
   "metadata": {
    "collapsed": false
   }
  }
 ],
 "metadata": {
  "kernelspec": {
   "display_name": "Python 3",
   "language": "python",
   "name": "python3"
  },
  "language_info": {
   "codemirror_mode": {
    "name": "ipython",
    "version": 2
   },
   "file_extension": ".py",
   "mimetype": "text/x-python",
   "name": "python",
   "nbconvert_exporter": "python",
   "pygments_lexer": "ipython2",
   "version": "2.7.6"
  }
 },
 "nbformat": 4,
 "nbformat_minor": 0
}
