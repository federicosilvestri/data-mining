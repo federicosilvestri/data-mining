{
 "cells": [
  {
   "cell_type": "markdown",
   "id": "9786ed2f-62e4-41ba-a51b-bbb30bee5034",
   "metadata": {},
   "source": [
    "# DM - Clustering analysis [TASK 2]\n",
    "\n",
    "Explore the dataset using various clustering techniques."
   ]
  },
  {
   "cell_type": "markdown",
   "id": "837b68c2-979a-481b-ae0a-a0bf81f4b2c5",
   "metadata": {},
   "source": [
    "Library imports and initial settings."
   ]
  },
  {
   "cell_type": "code",
   "execution_count": null,
   "id": "fdb1cf20-6a7a-4078-9a1e-c2075fd2dfad",
   "metadata": {},
   "outputs": [],
   "source": [
    "import numpy as np\n",
    "import pandas as pd\n",
    "import matplotlib.pyplot as plt\n",
    "from tqdm import tqdm_notebook\n",
    "\n",
    "from sklearn import metrics\n",
    "from sklearn.cluster import KMeans, DBSCAN\n",
    "from sklearn.metrics import silhouette_score\n",
    "from sklearn.preprocessing import MinMaxScaler\n",
    "\n",
    "from scipy.stats import mode\n",
    "from scipy.cluster.hierarchy import linkage, dendrogram\n",
    "from scipy.spatial.distance import pdist, squareform\n",
    "\n",
    "from pyclustering.cluster import cluster_visualizer, cluster_visualizer_multidim\n",
    "from pyclustering.cluster.xmeans import xmeans\n",
    "from pyclustering.cluster.center_initializer import kmeans_plusplus_initializer\n",
    "from pyclustering.cluster.silhouette import silhouette\n",
    "\n",
    "\n",
    "from utils import fetch_preprocessed_dataset, store_preprocessed_dataset, build_grid_plot\n",
    "\n",
    "import sys\n",
    "import logging as lg\n",
    "\n",
    "root = lg.getLogger()\n",
    "root.setLevel(lg.INFO)\n",
    "\n",
    "handler = lg.StreamHandler(sys.stdout)\n",
    "handler.setLevel(lg.DEBUG)\n",
    "formatter = lg.Formatter(\"%(asctime)s - %(name)s - %(levelname)s - %(message)s\")\n",
    "handler.setFormatter(formatter)\n",
    "root.addHandler(handler)"
   ]
  },
  {
   "cell_type": "markdown",
   "id": "64309e6c-f6df-420f-97f7-a43e3105f63a",
   "metadata": {},
   "source": [
    "Fetching users dataset saved in data preparation phase."
   ]
  },
  {
   "cell_type": "code",
   "execution_count": null,
   "id": "6f600c45-81e1-4541-b64b-9211798d6874",
   "metadata": {},
   "outputs": [],
   "source": [
    "# Load the users dataset from pickle\n",
    "dataset = fetch_preprocessed_dataset(step_name=\"users_total\")\n",
    "users = dataset['users.pickle']"
   ]
  },
  {
   "cell_type": "markdown",
   "id": "345587ef-7653-480c-a94c-efd458405d15",
   "metadata": {},
   "source": [
    "`users_num` is a dataset composed by numerical attributes of `users`."
   ]
  },
  {
   "cell_type": "code",
   "execution_count": null,
   "id": "20f44733-e949-4cc4-9ea6-cee198b8958c",
   "metadata": {},
   "outputs": [],
   "source": [
    "users_num_cols = ['statuses_count', 'bot', 'tweets_num', 'tweets_2020_num', 'likes_num', 'comments_num', 'ratio_likes_x_tweets', 'entropy', 'texts_mean_length', 'texts_special_chars_length', 'mean_pub_range', 'mean_texts_similarity']\n",
    "users_num = users[users_num_cols].astype({'bot': 'int64'})\n",
    "\n",
    "users_num.info()"
   ]
  },
  {
   "cell_type": "markdown",
   "id": "f878f23e-aa19-4009-8af0-8ccffa21f416",
   "metadata": {},
   "source": [
    "## Scaling phase"
   ]
  },
  {
   "cell_type": "markdown",
   "id": "831b9829-ce3e-463a-be88-a7e3bfe5fd3b",
   "metadata": {},
   "source": [
    "It's used `MinMaxScaler` to rescale all numerical numbers between 0 and 1"
   ]
  },
  {
   "cell_type": "code",
   "execution_count": null,
   "id": "fa53b726-71ce-4f34-bb24-9392e1460fc0",
   "metadata": {},
   "outputs": [],
   "source": [
    "scaler = MinMaxScaler()\n",
    "scaler.fit(users_num.values)"
   ]
  },
  {
   "cell_type": "markdown",
   "id": "a96f9966-36c3-4128-a234-7ce86b308dfd",
   "metadata": {},
   "source": [
    "Using transform function we are able to scale our values. Scaler is useful also for the inverse transformation."
   ]
  },
  {
   "cell_type": "code",
   "execution_count": null,
   "id": "4157e3a5-36c3-4e75-a4d0-20253eb33cc8",
   "metadata": {},
   "outputs": [],
   "source": [
    "users_num_scaled = scaler.transform(users_num.values)\n",
    "\n",
    "users_num_scaled"
   ]
  },
  {
   "cell_type": "markdown",
   "id": "fcf79fda-8683-4c06-b150-f0b41567d98d",
   "metadata": {},
   "source": [
    "## Base clustering\n",
    "\n",
    "We use base clustering methods to analyze the `users` dataset."
   ]
  },
  {
   "cell_type": "markdown",
   "id": "7b57c97e-6bea-48c9-8d57-f296eb3fe6ac",
   "metadata": {},
   "source": [
    "### KMeans"
   ]
  },
  {
   "cell_type": "markdown",
   "id": "8d9f6190-586e-44eb-a872-e331dcd3aabe",
   "metadata": {},
   "source": [
    "Firstly we run kmeans algorithms several times and we create a list of SSE measures to understand which is the proper number to asign to k."
   ]
  },
  {
   "cell_type": "code",
   "execution_count": null,
   "id": "3f0c4936-4955-42f1-adb6-74e85fc471c8",
   "metadata": {},
   "outputs": [],
   "source": [
    "sse_list = []\n",
    "max_k = 30\n",
    "for k in range(2, max_k + 1):\n",
    "    kmeans = KMeans(n_clusters=k, n_init=10, max_iter=100)\n",
    "    kmeans.fit(users_num_scaled)\n",
    "\n",
    "    sse = kmeans.inertia_\n",
    "    sse_list.append(sse)"
   ]
  },
  {
   "cell_type": "markdown",
   "id": "3d7ce984-d1ae-454c-b7ab-bd9d39b6ff5d",
   "metadata": {},
   "source": [
    "We plot results below."
   ]
  },
  {
   "cell_type": "code",
   "execution_count": null,
   "id": "5be1edc3-3e72-4bd8-95e6-aca83f13c98a",
   "metadata": {},
   "outputs": [],
   "source": [
    "plt.plot(range(2, len(sse_list) + 2), sse_list)\n",
    "plt.ylabel('SSE')\n",
    "plt.xlabel('K')\n",
    "plt.grid(True)\n",
    "plt.show()"
   ]
  },
  {
   "cell_type": "markdown",
   "id": "7af5c7f5-6905-47df-916e-bb30adb97140",
   "metadata": {},
   "source": [
    "Now we build our model with the proper k and print different metrics to understand the goodness of our model."
   ]
  },
  {
   "cell_type": "code",
   "execution_count": null,
   "id": "6288edd4-83a8-45d8-a7e0-6fa5f411845c",
   "metadata": {},
   "outputs": [],
   "source": [
    "kmeans = KMeans(n_clusters=6, n_init=10, max_iter=100)\n",
    "kmeans.fit(users_num_scaled)\n",
    "\n",
    "lg.info(f'SSE: {kmeans.inertia_}')\n",
    "lg.info(f'Silhouette: {silhouette_score(users_num_scaled, kmeans.labels_)}')\n",
    "lg.info(f'Separation {metrics.davies_bouldin_score(users_num_scaled, kmeans.labels_)}')"
   ]
  },
  {
   "cell_type": "markdown",
   "id": "40e36243-b688-4991-8870-22d18dfb92bb",
   "metadata": {},
   "source": [
    "Here we plot the distribution of labels among different clusters."
   ]
  },
  {
   "cell_type": "code",
   "execution_count": null,
   "id": "4972c64c-2907-4911-85b0-5ab5358be452",
   "metadata": {},
   "outputs": [],
   "source": [
    "labels_distribution = np.unique(kmeans.labels_, return_counts=True)\n",
    "plt.bar(labels_distribution[0], labels_distribution[1])\n",
    "plt.show()"
   ]
  },
  {
   "cell_type": "markdown",
   "id": "6c88badb-139b-4518-8cf8-0d2783c2b509",
   "metadata": {},
   "source": [
    "Parallel coordinates plot used to see distinguishability of clusters for each attribute."
   ]
  },
  {
   "cell_type": "code",
   "execution_count": null,
   "id": "9eab0c03-dc80-4b4a-8bd9-dc6dbfe3bc98",
   "metadata": {},
   "outputs": [],
   "source": [
    "centers = scaler.inverse_transform(kmeans.cluster_centers_)\n",
    "\n",
    "for i in range(0, len(centers)):\n",
    "    plt.plot(centers[i], marker='o', label=f'Cluster {i}')\n",
    "plt.xticks(range(0, len(users_num.columns)), users_num.columns, rotation=90)\n",
    "plt.legend(fontsize=10)\n",
    "plt.yscale('log')\n",
    "plt.show()"
   ]
  },
  {
   "cell_type": "markdown",
   "id": "38c240b0-541b-46be-a6b4-41683b858000",
   "metadata": {},
   "source": [
    "Scatter-plots for some attribute couples."
   ]
  },
  {
   "cell_type": "code",
   "execution_count": null,
   "id": "a4389819-bb1b-464f-a5a2-65dd1a8fa539",
   "metadata": {},
   "outputs": [],
   "source": [
    "scatter_plt_pairs = [\n",
    "    (0, 2),\n",
    "    (0, 8),\n",
    "    (2, 5),\n",
    "    (2, 8),\n",
    "]\n",
    "\n",
    "configs = [\n",
    "    {\n",
    "        'type': 'scatter',\n",
    "        'df': users_num,\n",
    "        'labels': kmeans.labels_,\n",
    "        'centers': centers,\n",
    "        'x_index': x_index,\n",
    "        'y_index': y_index,\n",
    "    } for x_index, y_index in scatter_plt_pairs\n",
    "]\n",
    "\n",
    "build_grid_plot(configs=configs)"
   ]
  },
  {
   "cell_type": "markdown",
   "id": "23059549-3a15-49d0-9a0b-dfb3bea55a63",
   "metadata": {},
   "source": [
    "Bar plot able to show categorical attribute distribution among clusters."
   ]
  },
  {
   "cell_type": "code",
   "execution_count": null,
   "id": "2f850674-5c1e-4f0b-b41a-041419971375",
   "metadata": {},
   "outputs": [],
   "source": [
    "users_pct = pd.crosstab(kmeans.labels_, users_num['bot'].map(lambda x: 'Bot' if x else 'User'))\n",
    "\n",
    "users_pct.plot(kind='bar', stacked=False, title='bot x cluster')\n",
    "plt.xlabel('cluster')\n",
    "plt.ylabel('bot')\n",
    "plt.show()"
   ]
  },
  {
   "cell_type": "markdown",
   "id": "9aacb65f-5a39-4a94-8983-044900ea4a3f",
   "metadata": {},
   "source": [
    "### DBSCAN"
   ]
  },
  {
   "cell_type": "markdown",
   "id": "0c1b61c7-7d22-4ef2-a637-40e2f5ce63e5",
   "metadata": {},
   "source": [
    "To choose a good model we start to scan with a gridsearch some values inside a DBSCAN model. We fix eps to 0.1 and take n values for test k. Using the silhouette metric we can understand the goodness of the model and choose the best."
   ]
  },
  {
   "cell_type": "code",
   "execution_count": null,
   "id": "b25dd62d",
   "metadata": {},
   "outputs": [],
   "source": [
    "best_k = None\n",
    "best_metric = 0\n",
    "\n",
    "for k in tqdm_notebook([10, 20, 50, 100, 150, 200, 500, 1000]):\n",
    "    dbscan = DBSCAN(eps=0.1, min_samples=k)\n",
    "    dbscan.fit(users_num_scaled)\n",
    "    metric = silhouette_score(users_num_scaled, dbscan.labels_)\n",
    "    if metric > best_metric:\n",
    "        best_metric = metric\n",
    "        best_k = k\n",
    "\n",
    "k = best_k\n",
    "\n",
    "lg.info(f'Best k is {best_k}')\n",
    "lg.info(f'Best silhouette is {best_metric}')"
   ]
  },
  {
   "cell_type": "markdown",
   "id": "9c6b4404",
   "metadata": {},
   "source": [
    "Here we compute the pairwise distances among `users_num_scaled` to use in knee method."
   ]
  },
  {
   "cell_type": "code",
   "execution_count": null,
   "id": "efd24ac7-1936-4cd5-89df-22361175fe76",
   "metadata": {},
   "outputs": [],
   "source": [
    "# pair wise distance\n",
    "dist = pdist(users_num_scaled, 'euclidean')\n",
    "# transformation of distance in square form\n",
    "dist = squareform(dist)\n",
    "\n",
    "lg.info(dist)"
   ]
  },
  {
   "cell_type": "markdown",
   "id": "1947404f",
   "metadata": {},
   "source": [
    "Now we apply the knee method to understand the best number to assign to the radius dimension (eps) given the number of minimum points (k). To do this we take the k-th distances."
   ]
  },
  {
   "cell_type": "code",
   "execution_count": null,
   "id": "015fd828-4b38-46b2-942a-c444716ad4d5",
   "metadata": {},
   "outputs": [],
   "source": [
    "kth_distances = [d[np.argsort(d)[k]] for d in dist]"
   ]
  },
  {
   "cell_type": "markdown",
   "id": "38dfac1f",
   "metadata": {},
   "source": [
    "Plot related to the distances from k-th neigbours sorted. We use log scale on y axis to understand better the knee."
   ]
  },
  {
   "cell_type": "code",
   "execution_count": null,
   "id": "f4b92a8d-ef57-40d4-b393-fafb5709148d",
   "metadata": {},
   "outputs": [],
   "source": [
    "plt.plot(range(0, len(kth_distances)), sorted(kth_distances))\n",
    "plt.ylabel(f'dist from {k}th neighbor')\n",
    "plt.xlabel('sorted distances')\n",
    "plt.grid(True)\n",
    "plt.yscale('log')\n",
    "plt.show()"
   ]
  },
  {
   "cell_type": "markdown",
   "id": "729a52ff",
   "metadata": {},
   "source": [
    "Construction of our DBSCAN model using fixed k and eps selected from the previous analysis."
   ]
  },
  {
   "cell_type": "code",
   "execution_count": null,
   "id": "21dd1c6e-e513-4fa4-9ceb-520f6bf4e847",
   "metadata": {},
   "outputs": [],
   "source": [
    "dbscan = DBSCAN(eps=0.11, min_samples=k)\n",
    "dbscan.fit(users_num_scaled)\n",
    "\n",
    "lg.info(f'Silhouette {silhouette_score(users_num_scaled, dbscan.labels_)}')\n",
    "lg.info(f'Separation {metrics.davies_bouldin_score(users_num_scaled, dbscan.labels_)}')"
   ]
  },
  {
   "cell_type": "markdown",
   "id": "97f26f2e",
   "metadata": {},
   "source": [
    "Here we show in a bar-plot the labels distribution. -1 is related to outliers."
   ]
  },
  {
   "cell_type": "code",
   "execution_count": null,
   "id": "cb60e0e2-8ac1-4d55-b2a2-d1c571a7efa7",
   "metadata": {},
   "outputs": [],
   "source": [
    "labels_distribution = np.unique(dbscan.labels_, return_counts=True)\n",
    "plt.bar(labels_distribution[0], labels_distribution[1])\n",
    "plt.show()"
   ]
  },
  {
   "cell_type": "markdown",
   "id": "eb4b7ca0",
   "metadata": {},
   "source": [
    "Print the number of outliers detected from DBSCAN."
   ]
  },
  {
   "cell_type": "code",
   "execution_count": null,
   "id": "bf111714",
   "metadata": {},
   "outputs": [],
   "source": [
    "lg.info(f'Number of detected outliers: {labels_distribution[1][0]} ({labels_distribution[1][0] / len(users) * 100}%)')"
   ]
  },
  {
   "cell_type": "markdown",
   "id": "d324625a",
   "metadata": {},
   "source": [
    "The following scatter-plots represents some analysis between some pairs of attributes of users_num dataset."
   ]
  },
  {
   "cell_type": "code",
   "execution_count": null,
   "id": "3fbf2845-1fcf-4a9a-8f3b-c7f8cff02fd8",
   "metadata": {},
   "outputs": [],
   "source": [
    "configs = [\n",
    "    {\n",
    "        'type': 'scatter',\n",
    "        'df': users_num,\n",
    "        'labels': dbscan.labels_,\n",
    "        'x_index': x_index,\n",
    "        'y_index': y_index,\n",
    "    } for x_index, y_index in scatter_plt_pairs\n",
    "]\n",
    "\n",
    "build_grid_plot(configs=configs)"
   ]
  },
  {
   "cell_type": "markdown",
   "id": "e388c68c-b9ed-4d24-bd52-fb0cb37e4b47",
   "metadata": {},
   "source": [
    "## Hierarchical clustering"
   ]
  },
  {
   "cell_type": "markdown",
   "id": "be1cbe19",
   "metadata": {},
   "source": [
    "Hierarchical clustering technique is able to find dendograms that represents the division of different clusters according the eucledian distance. At the beginning we compute the distance matrix of `users_num_scaled` dataset."
   ]
  },
  {
   "cell_type": "code",
   "execution_count": null,
   "id": "57d61066",
   "metadata": {},
   "outputs": [],
   "source": [
    "data_dist = pdist(users_num_scaled, metric='euclidean')"
   ]
  },
  {
   "cell_type": "markdown",
   "id": "cbaf5448",
   "metadata": {},
   "source": [
    "Dendogram related to hierarchical clustering based on MIN link."
   ]
  },
  {
   "cell_type": "code",
   "execution_count": null,
   "id": "98809625-7c51-4f0c-ad44-4467a187f919",
   "metadata": {},
   "outputs": [],
   "source": [
    "data_link = linkage(data_dist, method='single', metric='euclidean')\n",
    "res = dendrogram(data_link, color_threshold=0.45, truncate_mode='lastp')"
   ]
  },
  {
   "cell_type": "markdown",
   "id": "b66f146a",
   "metadata": {},
   "source": [
    "Dendogram related to hierarchical clustering based on MAX link."
   ]
  },
  {
   "cell_type": "code",
   "execution_count": null,
   "id": "2ae6a25e-22f2-41b8-b94f-6c94322960c1",
   "metadata": {},
   "outputs": [],
   "source": [
    "data_link = linkage(data_dist, method='complete', metric='euclidean')\n",
    "res = dendrogram(data_link, color_threshold=1.25, truncate_mode='lastp')"
   ]
  },
  {
   "cell_type": "markdown",
   "id": "2574cdcb",
   "metadata": {},
   "source": [
    "Dendogram related to hierarchical clustering based on average group link."
   ]
  },
  {
   "cell_type": "code",
   "execution_count": null,
   "id": "f433c8fb-f8da-410f-a4d3-bd4bf763b345",
   "metadata": {},
   "outputs": [],
   "source": [
    "data_link = linkage(data_dist, method='average', metric='euclidean')\n",
    "res = dendrogram(data_link, color_threshold=1, truncate_mode='lastp')"
   ]
  },
  {
   "cell_type": "markdown",
   "id": "8aad3fa5",
   "metadata": {},
   "source": [
    "Dendogram related to hierarchical clustering based on clusters link."
   ]
  },
  {
   "cell_type": "code",
   "execution_count": null,
   "id": "a8898b9c-68ef-4a87-a26e-77078695f76f",
   "metadata": {},
   "outputs": [],
   "source": [
    "data_link = linkage(data_dist, method='centroid', metric='euclidean')\n",
    "res = dendrogram(data_link, color_threshold=0.9, truncate_mode='lastp')"
   ]
  },
  {
   "cell_type": "markdown",
   "id": "6c384bf8-087b-4571-ac62-17bbed5b99ed",
   "metadata": {},
   "source": [
    "## Advance clustering"
   ]
  },
  {
   "cell_type": "markdown",
   "id": "72294648-b19b-4960-bb3e-1550a9e36b7f",
   "metadata": {},
   "source": [
    "### XMeans"
   ]
  },
  {
   "cell_type": "markdown",
   "id": "9be7e4c7-c395-4586-9588-13ff12e5e87b",
   "metadata": {},
   "source": [
    "X-means initializatioon and process."
   ]
  },
  {
   "cell_type": "code",
   "execution_count": null,
   "id": "ea6c0f3b",
   "metadata": {},
   "outputs": [],
   "source": [
    "# amount of initial centers defines amount of clusters from which X-Means will start analysis\n",
    "amount_initial_centers = 2\n",
    "initial_centers = kmeans_plusplus_initializer(users_num_scaled, amount_initial_centers).initialize()\n",
    "\n",
    "# create instance of X-Means algorithm. The algorithm will start analysis from 2 clusters to the assigned max\n",
    "xmeans_instance = xmeans(users_num_scaled, initial_centers, 20)\n",
    "xmeans_instance.process()\n",
    "\n",
    "# extract clustering results: clusters and their centers\n",
    "clusters = xmeans_instance.get_clusters()\n",
    "centers = xmeans_instance.get_centers()\n",
    "\n",
    "lg.info(f'Number of clusters: {len(clusters)}')"
   ]
  },
  {
   "cell_type": "markdown",
   "id": "a35c0f1a-ea15-4bed-8383-3d43e765e7b6",
   "metadata": {},
   "source": [
    "Some metrics calculations."
   ]
  },
  {
   "cell_type": "code",
   "execution_count": null,
   "id": "078c0721-607e-42ed-883d-c86e0cfddb8c",
   "metadata": {},
   "outputs": [],
   "source": [
    "lg.info(f'SSE: {xmeans_instance.get_total_wce()}')\n",
    "lg.info(f'Silhouette: {np.mean(silhouette(users_num_scaled, clusters).process().get_score())}')"
   ]
  },
  {
   "cell_type": "markdown",
   "id": "2b6a4dd2-3c63-4ca8-996d-cacb7e795993",
   "metadata": {},
   "source": [
    "Bar-plot used to understand the distribution among clusters."
   ]
  },
  {
   "cell_type": "code",
   "execution_count": null,
   "id": "b19b65c0-311e-4e6f-910c-6d9796481d0c",
   "metadata": {},
   "outputs": [],
   "source": [
    "np_clusters = [len(c) for c in clusters]\n",
    "plt.bar(list(range(len(np_clusters))), np_clusters)\n",
    "plt.show()"
   ]
  },
  {
   "cell_type": "markdown",
   "id": "72c82e1b-9168-4687-820e-27aeae43a20a",
   "metadata": {},
   "source": [
    "Some scatter-plot to visualize clusters and centroids."
   ]
  },
  {
   "cell_type": "code",
   "execution_count": null,
   "id": "a8b1f775-83aa-44d9-bf1f-dd3aa1660063",
   "metadata": {},
   "outputs": [],
   "source": [
    "visualizer = cluster_visualizer_multidim()\n",
    "visualizer.append_clusters(clusters, users_num_scaled.tolist())\n",
    "visualizer.append_cluster(centers, None, marker='*', markersize=10, color='r')\n",
    "\n",
    "for dim in scatter_plt_pairs:\n",
    "    visualizer.show(pair_filter=[dim])"
   ]
  }
 ],
 "metadata": {
  "kernelspec": {
   "display_name": "Python 3 (ipykernel)",
   "language": "python",
   "name": "python3"
  },
  "language_info": {
   "codemirror_mode": {
    "name": "ipython",
    "version": 3
   },
   "file_extension": ".py",
   "mimetype": "text/x-python",
   "name": "python",
   "nbconvert_exporter": "python",
   "pygments_lexer": "ipython3",
   "version": "3.10.6"
  }
 },
 "nbformat": 4,
 "nbformat_minor": 5
}
