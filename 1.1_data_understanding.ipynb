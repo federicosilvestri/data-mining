{
 "cells": [
  {
   "cell_type": "markdown",
   "metadata": {},
   "source": [
    "# DM - Data understanding [TASK 1.1]\n",
    "\n",
    "Exploring the dataset with analytical tool."
   ]
  },
  {
   "cell_type": "markdown",
   "metadata": {},
   "source": [
    "Library imports and initial settings."
   ]
  },
  {
   "cell_type": "code",
   "execution_count": 1,
   "metadata": {},
   "outputs": [
    {
     "name": "stdout",
     "output_type": "stream",
     "text": [
      "INFO: Pandarallel will run on 5 workers.\n",
      "INFO: Pandarallel will use Memory file system to transfer data between the main process and workers.\n"
     ]
    }
   ],
   "source": [
    "import numpy as np\n",
    "import pandas as pd\n",
    "import matplotlib.pyplot as plt\n",
    "from pandarallel import pandarallel\n",
    "from sklearn.decomposition import PCA\n",
    "\n",
    "import sys\n",
    "import logging as lg\n",
    "import os\n",
    "\n",
    "from utils import store_preprocessed_dataset, fetch_preprocessed_dataset, build_grid_plot\n",
    "from utils.validators import check_bot, check_date, check_int, check_positive_int, check_text, MAX_DATE, MIN_DATE\n",
    "\n",
    "\n",
    "root = lg.getLogger()\n",
    "root.setLevel(lg.INFO)\n",
    "\n",
    "\n",
    "nb_workers = int(os.cpu_count() / 2 + 1)\n",
    "\n",
    "handler = lg.StreamHandler(sys.stdout)\n",
    "handler.setLevel(lg.DEBUG)\n",
    "formatter = lg.Formatter(\"%(asctime)s - %(name)s - %(levelname)s - %(message)s\")\n",
    "handler.setFormatter(formatter)\n",
    "root.addHandler(handler)\n",
    "pandarallel.initialize(\n",
    "    progress_bar=True,\n",
    "    nb_workers=nb_workers,\n",
    ")"
   ]
  },
  {
   "cell_type": "markdown",
   "metadata": {},
   "source": [
    "Fetching the dataset using our native python functions."
   ]
  },
  {
   "cell_type": "code",
   "execution_count": 2,
   "metadata": {},
   "outputs": [
    {
     "name": "stdout",
     "output_type": "stream",
     "text": [
      "2022-11-05 10:57:17,632 - root - INFO - Pandas reading dataset tweets.csv...\n",
      "2022-11-05 10:57:50,483 - root - INFO - Pandas reading dataset users.csv...\n"
     ]
    }
   ],
   "source": [
    "from utils import fetch_dataset\n",
    "\n",
    "dataset = fetch_dataset()"
   ]
  },
  {
   "cell_type": "markdown",
   "metadata": {
    "tags": []
   },
   "source": [
    "## Overview"
   ]
  },
  {
   "cell_type": "markdown",
   "metadata": {},
   "source": [
    "### Users\n",
    "\n",
    "Show `users.csv` information: types of data and columns."
   ]
  },
  {
   "cell_type": "code",
   "execution_count": 3,
   "metadata": {},
   "outputs": [
    {
     "name": "stdout",
     "output_type": "stream",
     "text": [
      "<class 'pandas.core.frame.DataFrame'>\n",
      "RangeIndex: 11508 entries, 0 to 11507\n",
      "Data columns (total 6 columns):\n",
      " #   Column          Non-Null Count  Dtype  \n",
      "---  ------          --------------  -----  \n",
      " 0   id              11508 non-null  int64  \n",
      " 1   name            11507 non-null  object \n",
      " 2   lang            11508 non-null  object \n",
      " 3   bot             11508 non-null  int64  \n",
      " 4   created_at      11508 non-null  object \n",
      " 5   statuses_count  11109 non-null  float64\n",
      "dtypes: float64(1), int64(2), object(3)\n",
      "memory usage: 539.6+ KB\n"
     ]
    }
   ],
   "source": [
    "users = dataset['users.csv'].copy() # make a copy\n",
    "\n",
    "users.info()"
   ]
  },
  {
   "cell_type": "markdown",
   "metadata": {},
   "source": [
    "Display lang values."
   ]
  },
  {
   "cell_type": "code",
   "execution_count": 4,
   "metadata": {},
   "outputs": [
    {
     "data": {
      "text/plain": [
       "en                    9970\n",
       "it                     906\n",
       "es                     319\n",
       "pt                      65\n",
       "en-gb                   50\n",
       "ru                      42\n",
       "fr                      36\n",
       "ja                      33\n",
       "zh-tw                   17\n",
       "tr                      14\n",
       "id                      12\n",
       "ko                       9\n",
       "de                       8\n",
       "nl                       6\n",
       "en-GB                    4\n",
       "ar                       3\n",
       "zh-TW                    3\n",
       "da                       2\n",
       "Select Language...       2\n",
       "en-AU                    1\n",
       "zh-cn                    1\n",
       "pl                       1\n",
       "el                       1\n",
       "fil                      1\n",
       "sv                       1\n",
       "xx-lc                    1\n",
       "Name: lang, dtype: int64"
      ]
     },
     "execution_count": 4,
     "metadata": {},
     "output_type": "execute_result"
    }
   ],
   "source": [
    "users['lang'].value_counts()"
   ]
  },
  {
   "cell_type": "markdown",
   "metadata": {},
   "source": [
    "As we can see, we have:\n",
    "\n",
    "1. `xx-lc`\n",
    "2. `Select Language...`\n",
    "\n",
    "That are not a valid language.\n",
    "We have decided to use iso639-1 Python library to detect valid languages."
   ]
  },
  {
   "cell_type": "markdown",
   "metadata": {},
   "source": [
    "Display BOT values\n",
    "- 0 -> it's a user (human)!\n",
    "- 1 -> it's a bot!"
   ]
  },
  {
   "cell_type": "code",
   "execution_count": 5,
   "metadata": {},
   "outputs": [
    {
     "data": {
      "text/plain": [
       "1    6116\n",
       "0    5392\n",
       "Name: bot, dtype: int64"
      ]
     },
     "execution_count": 5,
     "metadata": {},
     "output_type": "execute_result"
    }
   ],
   "source": [
    "users['bot'].value_counts()"
   ]
  },
  {
   "cell_type": "markdown",
   "metadata": {},
   "source": [
    "As we can see we have clean data for `bot` column."
   ]
  },
  {
   "cell_type": "markdown",
   "metadata": {},
   "source": [
    "### Tweets\n",
    "\n",
    "Show `tweets.csv` information: types of data and columns."
   ]
  },
  {
   "cell_type": "code",
   "execution_count": 6,
   "metadata": {},
   "outputs": [
    {
     "name": "stdout",
     "output_type": "stream",
     "text": [
      "<class 'pandas.core.frame.DataFrame'>\n",
      "RangeIndex: 13664696 entries, 0 to 13664695\n",
      "Data columns (total 10 columns):\n",
      " #   Column          Dtype \n",
      "---  ------          ----- \n",
      " 0   id              object\n",
      " 1   user_id         object\n",
      " 2   retweet_count   object\n",
      " 3   reply_count     object\n",
      " 4   favorite_count  object\n",
      " 5   num_hashtags    object\n",
      " 6   num_urls        object\n",
      " 7   num_mentions    object\n",
      " 8   created_at      object\n",
      " 9   text            object\n",
      "dtypes: object(10)\n",
      "memory usage: 1.0+ GB\n"
     ]
    }
   ],
   "source": [
    "tweets = dataset['tweets.csv'].copy()\n",
    "\n",
    "tweets.info()"
   ]
  },
  {
   "cell_type": "markdown",
   "metadata": {},
   "source": [
    "## Quality assessment and data cleaning\n",
    "\n",
    "In these cells we are going to understand and clean the data of two datasets.\n",
    "The analysis performs:\n",
    "1. Deletion of rows that has a ratio between valid values and invalid values `> k` where `k` is a param with default value 30%.\n",
    "2. Replacement of null values with median if type is numerical, mode if type is categorical and **outlier** timestamp value if type is datetime. \n",
    "3. Understand and replace categorical value based on their domain. For example, the language column contains invalid language codes, and we replace them with the mode value."
   ]
  },
  {
   "cell_type": "markdown",
   "metadata": {
    "tags": []
   },
   "source": [
    "### Users"
   ]
  },
  {
   "cell_type": "markdown",
   "metadata": {},
   "source": [
    "OUTLIER_TIMESTAMP constant declaration. After this will be used to replace invalid dates."
   ]
  },
  {
   "cell_type": "code",
   "execution_count": 7,
   "metadata": {},
   "outputs": [],
   "source": [
    "# OUTLIER constant\n",
    "OUTLIER_TIMESTAMP = pd.Timestamp('1800-01-01')"
   ]
  },
  {
   "cell_type": "markdown",
   "metadata": {},
   "source": [
    "This is a generic function, that performs check of rows that are invalid.\n",
    "We define row as invalid if the ratio between valid and invalid attributes is greater than `ratio` parameter.\n",
    "The validation of single attribute is entrusted to the combination of lambda function named `validator`."
   ]
  },
  {
   "cell_type": "code",
   "execution_count": 8,
   "metadata": {},
   "outputs": [],
   "source": [
    "def check_invalid_rows(df, column_validators, ratio=0.3):\n",
    "    def check_invalid_rows_callback(row) -> bool:\n",
    "        # this function must return True if record is to be deleted.\n",
    "        invalid_count = 0\n",
    "        \n",
    "        for head, validator in column_validators:\n",
    "            value = row[head]\n",
    "            if validator is not None and not validator(value):\n",
    "                    invalid_count += 1\n",
    "        return float(invalid_count / len(column_validators)) > ratio\n",
    "\n",
    "    trash = df.parallel_apply(check_invalid_rows_callback, axis=1)\n",
    "    return df[~trash], sum(trash)"
   ]
  },
  {
   "cell_type": "markdown",
   "metadata": {},
   "source": [
    "Here is called `check_invalid_rows` function on users dataset passing different validators:\n",
    "- check_positive_int: for id and statuses_count to check if they are integer values and positives\n",
    "- check_text: for users names to ensure that they're not null\n",
    "- tag_is_valid: imported from `langcodes` library checks if a language code comply with ISO639-1\n",
    "- check_bot: checks if value is not null and if is 1 or 0\n",
    "- check_date: used for created_at attribute checks if values are formatted as pd.Timestamp and if they are inside the interval of tweetter creation and dataset delivery"
   ]
  },
  {
   "cell_type": "code",
   "execution_count": 9,
   "metadata": {},
   "outputs": [
    {
     "data": {
      "application/vnd.jupyter.widget-view+json": {
       "model_id": "e9fd7d1e4d0449458d1cabe3aabb1007",
       "version_major": 2,
       "version_minor": 0
      },
      "text/plain": [
       "VBox(children=(HBox(children=(IntProgress(value=0, description='0.00%', max=2302), Label(value='0 / 2302'))), …"
      ]
     },
     "metadata": {},
     "output_type": "display_data"
    },
    {
     "name": "stdout",
     "output_type": "stream",
     "text": [
      "2022-11-05 10:57:52,939 - root - INFO - Deleted rows 0 (0.0%)\n"
     ]
    }
   ],
   "source": [
    "from langcodes import tag_is_valid # import the library for ISO639-1 codes\n",
    "\n",
    "# For each column define a validator.\n",
    "column_validators = [\n",
    "    ('id', check_positive_int),\n",
    "    ('name', check_text),\n",
    "    ('lang', tag_is_valid),\n",
    "    ('bot', check_bot),\n",
    "    ('statuses_count', check_positive_int),\n",
    "    ('created_at', check_date),\n",
    "]\n",
    "\n",
    "#\n",
    "# Execute the cleaning.\n",
    "#\n",
    "users, deleted_rows = check_invalid_rows(users, column_validators)\n",
    "lg.info(f\"Deleted rows {deleted_rows} ({deleted_rows / len(users)}%)\")"
   ]
  },
  {
   "cell_type": "markdown",
   "metadata": {},
   "source": [
    "Replacement of invalid names with empty string."
   ]
  },
  {
   "cell_type": "code",
   "execution_count": 10,
   "metadata": {},
   "outputs": [
    {
     "name": "stdout",
     "output_type": "stream",
     "text": [
      "2022-11-05 10:57:52,963 - root - INFO - Found 1 records, i.e. 0.008689607229753215% of dataset\n"
     ]
    },
    {
     "data": {
      "application/vnd.jupyter.widget-view+json": {
       "model_id": "b56148fd8d3c4f65a352d71dc326a885",
       "version_major": 2,
       "version_minor": 0
      },
      "text/plain": [
       "VBox(children=(HBox(children=(IntProgress(value=0, description='0.00%', max=2302), Label(value='0 / 2302'))), …"
      ]
     },
     "metadata": {},
     "output_type": "display_data"
    }
   ],
   "source": [
    "invalid_names = users['name'].map(pd.isnull)\n",
    "lg.info(f\"Found {sum(invalid_names)} records, i.e. {sum(invalid_names) / len(invalid_names) * 100}% of dataset\")\n",
    "# to optize the memory\n",
    "del invalid_names\n",
    "\n",
    "users['name'] = users['name'].parallel_map(lambda t: '' if pd.isnull(t) else t)"
   ]
  },
  {
   "cell_type": "markdown",
   "metadata": {},
   "source": [
    "Explore bot column."
   ]
  },
  {
   "cell_type": "code",
   "execution_count": 11,
   "metadata": {},
   "outputs": [
    {
     "data": {
      "text/plain": [
       "1    6116\n",
       "0    5392\n",
       "Name: bot, dtype: int64"
      ]
     },
     "execution_count": 11,
     "metadata": {},
     "output_type": "execute_result"
    }
   ],
   "source": [
    "users['bot'].value_counts()"
   ]
  },
  {
   "cell_type": "markdown",
   "metadata": {},
   "source": [
    "As we can see all values of column bot are 0,1 so we can convert it into boolean field."
   ]
  },
  {
   "cell_type": "markdown",
   "metadata": {},
   "source": [
    "First we normalize languages codes and then we cut off invalid ones."
   ]
  },
  {
   "cell_type": "code",
   "execution_count": 12,
   "metadata": {},
   "outputs": [
    {
     "name": "stdout",
     "output_type": "stream",
     "text": [
      "2022-11-05 10:57:54,059 - root - INFO - Found 0.026068821689259645 % invalid languages.\n",
      "2022-11-05 10:57:54,063 - root - INFO - Computed user_lang_mode=en\n"
     ]
    },
    {
     "data": {
      "text/plain": [
       "en       9973\n",
       "it        906\n",
       "es        319\n",
       "pt         65\n",
       "en-gb      54\n",
       "ru         42\n",
       "fr         36\n",
       "ja         33\n",
       "zh-tw      20\n",
       "tr         14\n",
       "id         12\n",
       "ko          9\n",
       "de          8\n",
       "nl          6\n",
       "ar          3\n",
       "da          2\n",
       "en-au       1\n",
       "zh-cn       1\n",
       "pl          1\n",
       "el          1\n",
       "fil         1\n",
       "sv          1\n",
       "Name: lang, dtype: int64"
      ]
     },
     "execution_count": 12,
     "metadata": {},
     "output_type": "execute_result"
    }
   ],
   "source": [
    "# first normalize to lower case all langs\n",
    "users['lang'] = users['lang'].str.lower()\n",
    "# check the rows with invalid language\n",
    "affected_rows = users['lang'].map(tag_is_valid)\n",
    "\n",
    "lg.info(f\"Found {sum(~affected_rows) / len(affected_rows) * 100} % invalid languages.\")\n",
    "\n",
    "# compute the mode for the clean values\n",
    "user_lang_mode = users[affected_rows == True]['lang'].mode()[0]\n",
    "\n",
    "lg.info(f\"Computed user_lang_mode={user_lang_mode}\")\n",
    "\n",
    "# lambda function for substition\n",
    "lang_subst_lambda = lambda x: x if tag_is_valid(x) else user_lang_mode\n",
    "\n",
    "# execute substitution\n",
    "users['lang'] = users['lang'].map(lang_subst_lambda)\n",
    "\n",
    "users['lang'].value_counts()"
   ]
  },
  {
   "cell_type": "markdown",
   "metadata": {},
   "source": [
    "Function that replace invalid datetime with OUTLIER_TIMESTAMP value."
   ]
  },
  {
   "cell_type": "code",
   "execution_count": 13,
   "metadata": {},
   "outputs": [],
   "source": [
    "def replacement_outliers_datetime(df, att):\n",
    "    def parse_and_check_datetime(el):\n",
    "        try:\n",
    "            datetime = pd.Timestamp(el) # parse datetime as Timestamp\n",
    "            # checks validity\n",
    "            if datetime < MIN_DATE or datetime > MAX_DATE:\n",
    "                # is an outlier\n",
    "                return OUTLIER_TIMESTAMP\n",
    "            else:\n",
    "                # is not an outlier\n",
    "                return datetime\n",
    "        except ValueError:\n",
    "            # cannot parse as timestamp, it's an outlier\n",
    "            return OUTLIER_TIMESTAMP\n",
    "    df[att] = df[att].parallel_map(parse_and_check_datetime)\n",
    "\n",
    "    return df"
   ]
  },
  {
   "cell_type": "markdown",
   "metadata": {},
   "source": [
    "Users `created_at` datetime replacement."
   ]
  },
  {
   "cell_type": "code",
   "execution_count": 14,
   "metadata": {},
   "outputs": [
    {
     "data": {
      "application/vnd.jupyter.widget-view+json": {
       "model_id": "e75d1a7a92054f87b12bb700f471a142",
       "version_major": 2,
       "version_minor": 0
      },
      "text/plain": [
       "VBox(children=(HBox(children=(IntProgress(value=0, description='0.00%', max=2302), Label(value='0 / 2302'))), …"
      ]
     },
     "metadata": {},
     "output_type": "display_data"
    },
    {
     "name": "stdout",
     "output_type": "stream",
     "text": [
      "2022-11-05 10:57:55,129 - root - INFO - Found 0.0 % invalid created_at datetime.\n",
      "2022-11-05 10:57:55,130 - root - INFO - OUTLIER_TIMESTAMP=1800-01-01 00:00:00\n"
     ]
    }
   ],
   "source": [
    "users = replacement_outliers_datetime(users, 'created_at')\n",
    "\n",
    "outlier_timestamp_count = sum(users['created_at'].map(lambda x: x == OUTLIER_TIMESTAMP))\n",
    "\n",
    "lg.info(f\"Found {outlier_timestamp_count / len(users) * 100} % invalid created_at datetime.\")\n",
    "lg.info(f\"OUTLIER_TIMESTAMP={OUTLIER_TIMESTAMP}\")"
   ]
  },
  {
   "cell_type": "markdown",
   "metadata": {},
   "source": [
    "Handling the `statuses_count` column replacing invalid values with median."
   ]
  },
  {
   "cell_type": "code",
   "execution_count": 15,
   "metadata": {},
   "outputs": [
    {
     "name": "stdout",
     "output_type": "stream",
     "text": [
      "2022-11-05 10:57:55,176 - root - INFO - Found 3.4671532846715327 % invalid statuses_count\n",
      "2022-11-05 10:57:55,180 - root - INFO - status_count_median=68.0\n"
     ]
    }
   ],
   "source": [
    "valid_rows = users['statuses_count'].map(check_positive_int)\n",
    "\n",
    "lg.info(f\"Found {sum(~valid_rows) / len(users) * 100} % invalid statuses_count\")\n",
    "\n",
    "# compute the median value\n",
    "status_count_median = users[valid_rows == True]['statuses_count'].median()\n",
    "\n",
    "lg.info(f\"status_count_median={status_count_median}\")\n",
    "\n",
    "# replace the null values with median\n",
    "users['statuses_count'] = users['statuses_count'].map(lambda x: x if check_positive_int(x) else status_count_median)"
   ]
  },
  {
   "cell_type": "markdown",
   "metadata": {},
   "source": [
    "Casting all users dataset columns with their own types."
   ]
  },
  {
   "cell_type": "code",
   "execution_count": 16,
   "metadata": {},
   "outputs": [],
   "source": [
    "users = users.astype({\n",
    "    'id': 'int64',\n",
    "    'name': 'string',\n",
    "    'lang': 'string',\n",
    "    'bot': 'bool',\n",
    "    'statuses_count': 'int64',\n",
    "    'created_at': 'datetime64[ns]'\n",
    "})"
   ]
  },
  {
   "cell_type": "markdown",
   "metadata": {},
   "source": [
    "Removing duplicate records."
   ]
  },
  {
   "cell_type": "code",
   "execution_count": 17,
   "metadata": {},
   "outputs": [
    {
     "name": "stdout",
     "output_type": "stream",
     "text": [
      "2022-11-05 10:57:55,243 - root - INFO - Removed 0 duplicates record that are 0.0% of dataset.\n"
     ]
    }
   ],
   "source": [
    "initial_ds_len = len(users)\n",
    "users = users.drop_duplicates()\n",
    "lg.info(f'Removed {initial_ds_len - len(users)} duplicates record that are {(initial_ds_len - len(users)) / initial_ds_len * 100}% of dataset.')\n",
    "del initial_ds_len"
   ]
  },
  {
   "cell_type": "code",
   "execution_count": 18,
   "metadata": {},
   "outputs": [
    {
     "name": "stdout",
     "output_type": "stream",
     "text": [
      "<class 'pandas.core.frame.DataFrame'>\n",
      "Int64Index: 11508 entries, 0 to 11507\n",
      "Data columns (total 6 columns):\n",
      " #   Column          Non-Null Count  Dtype         \n",
      "---  ------          --------------  -----         \n",
      " 0   id              11508 non-null  int64         \n",
      " 1   name            11508 non-null  string        \n",
      " 2   lang            11508 non-null  string        \n",
      " 3   bot             11508 non-null  bool          \n",
      " 4   created_at      11508 non-null  datetime64[ns]\n",
      " 5   statuses_count  11508 non-null  int64         \n",
      "dtypes: bool(1), datetime64[ns](1), int64(2), string(2)\n",
      "memory usage: 550.7 KB\n"
     ]
    }
   ],
   "source": [
    "users.info()"
   ]
  },
  {
   "cell_type": "markdown",
   "metadata": {},
   "source": [
    "As we can see all the columns are now validated."
   ]
  },
  {
   "cell_type": "markdown",
   "metadata": {},
   "source": [
    "Describe the pre-processed dataset with all columns."
   ]
  },
  {
   "cell_type": "code",
   "execution_count": 19,
   "metadata": {},
   "outputs": [
    {
     "data": {
      "text/html": [
       "<div>\n",
       "<style scoped>\n",
       "    .dataframe tbody tr th:only-of-type {\n",
       "        vertical-align: middle;\n",
       "    }\n",
       "\n",
       "    .dataframe tbody tr th {\n",
       "        vertical-align: top;\n",
       "    }\n",
       "\n",
       "    .dataframe thead th {\n",
       "        text-align: right;\n",
       "    }\n",
       "</style>\n",
       "<table border=\"1\" class=\"dataframe\">\n",
       "  <thead>\n",
       "    <tr style=\"text-align: right;\">\n",
       "      <th></th>\n",
       "      <th>name</th>\n",
       "      <th>lang</th>\n",
       "      <th>bot</th>\n",
       "      <th>statuses_count</th>\n",
       "      <th>created_at</th>\n",
       "    </tr>\n",
       "  </thead>\n",
       "  <tbody>\n",
       "    <tr>\n",
       "      <th>count</th>\n",
       "      <td>11508</td>\n",
       "      <td>11508</td>\n",
       "      <td>11508</td>\n",
       "      <td>11508.000000</td>\n",
       "      <td>11508</td>\n",
       "    </tr>\n",
       "    <tr>\n",
       "      <th>unique</th>\n",
       "      <td>11361</td>\n",
       "      <td>22</td>\n",
       "      <td>2</td>\n",
       "      <td>NaN</td>\n",
       "      <td>NaN</td>\n",
       "    </tr>\n",
       "    <tr>\n",
       "      <th>top</th>\n",
       "      <td>Sara</td>\n",
       "      <td>en</td>\n",
       "      <td>True</td>\n",
       "      <td>NaN</td>\n",
       "      <td>NaN</td>\n",
       "    </tr>\n",
       "    <tr>\n",
       "      <th>freq</th>\n",
       "      <td>7</td>\n",
       "      <td>9973</td>\n",
       "      <td>6116</td>\n",
       "      <td>NaN</td>\n",
       "      <td>NaN</td>\n",
       "    </tr>\n",
       "    <tr>\n",
       "      <th>mean</th>\n",
       "      <td>NaN</td>\n",
       "      <td>NaN</td>\n",
       "      <td>NaN</td>\n",
       "      <td>5681.686566</td>\n",
       "      <td>2017-10-03 21:23:16.013121280</td>\n",
       "    </tr>\n",
       "    <tr>\n",
       "      <th>min</th>\n",
       "      <td>NaN</td>\n",
       "      <td>NaN</td>\n",
       "      <td>NaN</td>\n",
       "      <td>0.000000</td>\n",
       "      <td>2012-01-24 01:57:38</td>\n",
       "    </tr>\n",
       "    <tr>\n",
       "      <th>25%</th>\n",
       "      <td>NaN</td>\n",
       "      <td>NaN</td>\n",
       "      <td>NaN</td>\n",
       "      <td>42.000000</td>\n",
       "      <td>2017-01-18 09:50:16.500000</td>\n",
       "    </tr>\n",
       "    <tr>\n",
       "      <th>50%</th>\n",
       "      <td>NaN</td>\n",
       "      <td>NaN</td>\n",
       "      <td>NaN</td>\n",
       "      <td>68.000000</td>\n",
       "      <td>2018-01-30 17:20:36</td>\n",
       "    </tr>\n",
       "    <tr>\n",
       "      <th>75%</th>\n",
       "      <td>NaN</td>\n",
       "      <td>NaN</td>\n",
       "      <td>NaN</td>\n",
       "      <td>2520.250000</td>\n",
       "      <td>2019-02-25 00:17:30</td>\n",
       "    </tr>\n",
       "    <tr>\n",
       "      <th>max</th>\n",
       "      <td>NaN</td>\n",
       "      <td>NaN</td>\n",
       "      <td>NaN</td>\n",
       "      <td>399555.000000</td>\n",
       "      <td>2020-04-21 07:28:31</td>\n",
       "    </tr>\n",
       "    <tr>\n",
       "      <th>std</th>\n",
       "      <td>NaN</td>\n",
       "      <td>NaN</td>\n",
       "      <td>NaN</td>\n",
       "      <td>18769.594489</td>\n",
       "      <td>NaN</td>\n",
       "    </tr>\n",
       "  </tbody>\n",
       "</table>\n",
       "</div>"
      ],
      "text/plain": [
       "         name   lang    bot  statuses_count                     created_at\n",
       "count   11508  11508  11508    11508.000000                          11508\n",
       "unique  11361     22      2             NaN                            NaN\n",
       "top      Sara     en   True             NaN                            NaN\n",
       "freq        7   9973   6116             NaN                            NaN\n",
       "mean      NaN    NaN    NaN     5681.686566  2017-10-03 21:23:16.013121280\n",
       "min       NaN    NaN    NaN        0.000000            2012-01-24 01:57:38\n",
       "25%       NaN    NaN    NaN       42.000000     2017-01-18 09:50:16.500000\n",
       "50%       NaN    NaN    NaN       68.000000            2018-01-30 17:20:36\n",
       "75%       NaN    NaN    NaN     2520.250000            2019-02-25 00:17:30\n",
       "max       NaN    NaN    NaN   399555.000000            2020-04-21 07:28:31\n",
       "std       NaN    NaN    NaN    18769.594489                            NaN"
      ]
     },
     "execution_count": 19,
     "metadata": {},
     "output_type": "execute_result"
    }
   ],
   "source": [
    "users[['name', 'lang', 'bot', 'statuses_count', 'created_at']].describe(include='all', datetime_is_numeric=True)"
   ]
  },
  {
   "cell_type": "markdown",
   "metadata": {},
   "source": [
    "### Tweets"
   ]
  },
  {
   "cell_type": "markdown",
   "metadata": {},
   "source": [
    "Here is called `check_invalid_rows` function on tweets dataset passing different validators:\n",
    "- check_positive_int: for all numerical attributes to check if they are integer values and positives\n",
    "- check_text: for users texts to ensure that they're not null\n",
    "- check_date: used for created_at attribute checks if values are formatted as pd.Timestamp and if they are inside the interval of tweetter creation and dataset delivery"
   ]
  },
  {
   "cell_type": "code",
   "execution_count": 20,
   "metadata": {
    "pycharm": {
     "is_executing": true
    }
   },
   "outputs": [
    {
     "name": "stdout",
     "output_type": "stream",
     "text": [
      "2022-11-05 10:57:55,294 - root - INFO - Starting dataset cleaning with validators...\n"
     ]
    },
    {
     "data": {
      "application/vnd.jupyter.widget-view+json": {
       "model_id": "392d597005fc44e78e08bc4e794d76ed",
       "version_major": 2,
       "version_minor": 0
      },
      "text/plain": [
       "VBox(children=(HBox(children=(IntProgress(value=0, description='0.00%', max=2732940), Label(value='0 / 2732940…"
      ]
     },
     "metadata": {},
     "output_type": "display_data"
    },
    {
     "name": "stdout",
     "output_type": "stream",
     "text": [
      "2022-11-05 11:04:07,093 - root - INFO - Deleted rows 950040 (0.07472007107388513%)\n"
     ]
    }
   ],
   "source": [
    "column_validators = [\n",
    "    ('id', check_positive_int),\n",
    "    ('user_id', check_positive_int),\n",
    "    ('retweet_count', check_positive_int),\n",
    "    ('reply_count', check_positive_int),\n",
    "    ('favorite_count', check_positive_int),\n",
    "    ('num_hashtags', check_positive_int),\n",
    "    ('num_urls', check_positive_int),\n",
    "    ('num_mentions', check_positive_int),\n",
    "    ('created_at', check_date),\n",
    "    ('text', check_text),\n",
    "]\n",
    "\n",
    "# clean the dataset using validators ratio function.\n",
    "lg.info(\"Starting dataset cleaning with validators...\")\n",
    "tweets, trash = check_invalid_rows(tweets, column_validators)\n",
    "lg.info(f\"Deleted rows {trash} ({trash / len(tweets)}%)\")"
   ]
  },
  {
   "cell_type": "markdown",
   "metadata": {},
   "source": [
    "We have decided to remove the `id` column because it's not relevant to our analysis."
   ]
  },
  {
   "cell_type": "code",
   "execution_count": 21,
   "metadata": {},
   "outputs": [],
   "source": [
    "tweets = tweets.drop('id', axis=1)"
   ]
  },
  {
   "cell_type": "markdown",
   "metadata": {},
   "source": [
    "The followings cells perform analysis on type and convert invalid type in an OUTLIER_VALUE."
   ]
  },
  {
   "cell_type": "markdown",
   "metadata": {},
   "source": [
    "As we can see we have a lot of invalid values, hence we need to replace them."
   ]
  },
  {
   "cell_type": "code",
   "execution_count": 22,
   "metadata": {},
   "outputs": [
    {
     "name": "stdout",
     "output_type": "stream",
     "text": [
      "2022-11-05 11:04:09,554 - root - INFO - 497404180     4600\n",
      "7004532       4580\n",
      "157029836     4578\n",
      "1693274954    4572\n",
      "491630583     4570\n",
      "              ... \n",
      "141bb            1\n",
      "r0my9w           1\n",
      "d1vl1f           1\n",
      "6zuw4z9          1\n",
      "fig6             1\n",
      "Name: user_id, Length: 116688, dtype: int64\n",
      "2022-11-05 11:04:10,125 - root - INFO - 0             9028918\n",
      "1             1123270\n",
      "2              342332\n",
      "3              172850\n",
      "4              106992\n",
      "               ...   \n",
      "qheviow             1\n",
      "dsmh                1\n",
      "ztqdk               1\n",
      "7174ogaxjr          1\n",
      "rf24duucpb          1\n",
      "Name: retweet_count, Length: 150718, dtype: int64\n",
      "2022-11-05 11:04:10,599 - root - INFO - 0             11790440\n",
      "0.0             688411\n",
      "1                15670\n",
      "2                 1454\n",
      "1.0                946\n",
      "                ...   \n",
      "nk4hbe25gv           1\n",
      "p6rhyb3zdd           1\n",
      "mdc1z1l6i            1\n",
      "aicmqt0qo            1\n",
      "otsduzr              1\n",
      "Name: reply_count, Length: 106304, dtype: int64\n",
      "2022-11-05 11:04:11,075 - root - INFO - 0             9467209\n",
      "1             1408466\n",
      "0.0            552471\n",
      "2              407252\n",
      "3              183342\n",
      "               ...   \n",
      "bf6wmj2             1\n",
      "m4vh                1\n",
      "hkyahl              1\n",
      "rvck                1\n",
      "09vtlcms9k          1\n",
      "Name: favorite_count, Length: 106590, dtype: int64\n",
      "2022-11-05 11:04:11,547 - root - INFO - 0             10470209\n",
      "1               911568\n",
      "0.0             613593\n",
      "2               270666\n",
      "3                88101\n",
      "                ...   \n",
      "q5r                  1\n",
      "gdvfamvz             1\n",
      "kvo4ljv              1\n",
      "pwrziwmqjt           1\n",
      "kmmt7p21sf           1\n",
      "Name: num_hashtags, Length: 104779, dtype: int64\n",
      "2022-11-05 11:04:12,019 - root - INFO - 0           9894198\n",
      "1           1890891\n",
      "0.0          578761\n",
      "1.0          109826\n",
      "2             23770\n",
      "             ...   \n",
      "i1eau             1\n",
      "i7qde838          1\n",
      "56lsi8cq          1\n",
      "qlsgjvc           1\n",
      "ix0n              1\n",
      "Name: num_urls, Length: 104779, dtype: int64\n",
      "2022-11-05 11:04:12,473 - root - INFO - 0          7454712\n",
      "1          4051312\n",
      "2           708611\n",
      "3           172330\n",
      "4            54824\n",
      "            ...   \n",
      "q1de             1\n",
      "p7x5v            1\n",
      "jpi2krb          1\n",
      "1zc              1\n",
      "8155oi           1\n",
      "Name: num_mentions, Length: 105627, dtype: int64\n",
      "2022-11-05 11:04:20,437 - root - INFO - 2020-04-04 03:43:02    124\n",
      "2020-04-04 03:43:01     90\n",
      "2020-04-04 05:01:46     78\n",
      "2020-04-04 05:01:47     68\n",
      "2020-04-04 03:23:46     48\n",
      "                      ... \n",
      "2019-06-18 16:39:19      1\n",
      "2020-03-25 19:41:31      1\n",
      "2020-02-15 19:23:23      1\n",
      "2019-07-09 17:08:07      1\n",
      "2019-07-10 12:00:00      1\n",
      "Name: created_at, Length: 8127084, dtype: int64\n"
     ]
    }
   ],
   "source": [
    "#\n",
    "# Examine the columns domain.\n",
    "#\n",
    "for col in tweets.columns:\n",
    "    if col == 'text':\n",
    "        #\n",
    "        # skip the text column\n",
    "        #\n",
    "        continue\n",
    "    lg.info(tweets[col].value_counts())"
   ]
  },
  {
   "cell_type": "markdown",
   "metadata": {},
   "source": [
    "Define a simple function that replaces invalid values with an outlier value."
   ]
  },
  {
   "cell_type": "code",
   "execution_count": 23,
   "metadata": {},
   "outputs": [],
   "source": [
    "def replace_with_outlier(dataset, col_name, check_function, outlier_value):\n",
    "    df = dataset.copy()\n",
    "    v = df[col_name].parallel_map(check_function)\n",
    "    record_touched = len(v) - sum(v)\n",
    "    \n",
    "    df[col_name] = df[col_name].parallel_map(lambda x: x if check_function(x) else outlier_value)\n",
    "    return df, record_touched"
   ]
  },
  {
   "cell_type": "markdown",
   "metadata": {},
   "source": [
    "Replace invalid integer columns with OUTLIER_VALUE."
   ]
  },
  {
   "cell_type": "code",
   "execution_count": 24,
   "metadata": {},
   "outputs": [
    {
     "name": "stderr",
     "output_type": "stream",
     "text": [
      "/usr/local/lib/python3.10/dist-packages/pandarallel/data_types/series.py:42: FutureWarning: The behavior of `series[i:j]` with an integer-dtype index is deprecated. In a future version, this will be treated as *label-based* indexing, consistent with e.g. `series[i]` lookups. To retain the old behavior, use `series.iloc[i:j]`. To get the future behavior, use `series.loc[i:j]`.\n",
      "  yield data[chunk_]\n"
     ]
    },
    {
     "data": {
      "application/vnd.jupyter.widget-view+json": {
       "model_id": "be274a0390114292833a30f103422f37",
       "version_major": 2,
       "version_minor": 0
      },
      "text/plain": [
       "VBox(children=(HBox(children=(IntProgress(value=0, description='0.00%', max=2542932), Label(value='0 / 2542932…"
      ]
     },
     "metadata": {},
     "output_type": "display_data"
    },
    {
     "name": "stderr",
     "output_type": "stream",
     "text": [
      "/usr/local/lib/python3.10/dist-packages/pandarallel/data_types/series.py:42: FutureWarning: The behavior of `series[i:j]` with an integer-dtype index is deprecated. In a future version, this will be treated as *label-based* indexing, consistent with e.g. `series[i]` lookups. To retain the old behavior, use `series.iloc[i:j]`. To get the future behavior, use `series.loc[i:j]`.\n",
      "  yield data[chunk_]\n"
     ]
    },
    {
     "data": {
      "application/vnd.jupyter.widget-view+json": {
       "model_id": "e7da9fe2adcd4094b8f38d815e670a37",
       "version_major": 2,
       "version_minor": 0
      },
      "text/plain": [
       "VBox(children=(HBox(children=(IntProgress(value=0, description='0.00%', max=2542932), Label(value='0 / 2542932…"
      ]
     },
     "metadata": {},
     "output_type": "display_data"
    },
    {
     "name": "stdout",
     "output_type": "stream",
     "text": [
      "2022-11-05 11:04:52,473 - root - INFO - Detected 213878 retweet_count with invalid value, i.e. 1.6821375269610126% of dataset\n"
     ]
    },
    {
     "name": "stderr",
     "output_type": "stream",
     "text": [
      "/usr/local/lib/python3.10/dist-packages/pandarallel/data_types/series.py:42: FutureWarning: The behavior of `series[i:j]` with an integer-dtype index is deprecated. In a future version, this will be treated as *label-based* indexing, consistent with e.g. `series[i]` lookups. To retain the old behavior, use `series.iloc[i:j]`. To get the future behavior, use `series.loc[i:j]`.\n",
      "  yield data[chunk_]\n"
     ]
    },
    {
     "data": {
      "application/vnd.jupyter.widget-view+json": {
       "model_id": "f6319c6eeff543f6944e2c9619119d2d",
       "version_major": 2,
       "version_minor": 0
      },
      "text/plain": [
       "VBox(children=(HBox(children=(IntProgress(value=0, description='0.00%', max=2542932), Label(value='0 / 2542932…"
      ]
     },
     "metadata": {},
     "output_type": "display_data"
    },
    {
     "name": "stderr",
     "output_type": "stream",
     "text": [
      "/usr/local/lib/python3.10/dist-packages/pandarallel/data_types/series.py:42: FutureWarning: The behavior of `series[i:j]` with an integer-dtype index is deprecated. In a future version, this will be treated as *label-based* indexing, consistent with e.g. `series[i]` lookups. To retain the old behavior, use `series.iloc[i:j]`. To get the future behavior, use `series.loc[i:j]`.\n",
      "  yield data[chunk_]\n"
     ]
    },
    {
     "data": {
      "application/vnd.jupyter.widget-view+json": {
       "model_id": "d8212dbf8aa64ca98cf6b79aa430047e",
       "version_major": 2,
       "version_minor": 0
      },
      "text/plain": [
       "VBox(children=(HBox(children=(IntProgress(value=0, description='0.00%', max=2542932), Label(value='0 / 2542932…"
      ]
     },
     "metadata": {},
     "output_type": "display_data"
    },
    {
     "name": "stdout",
     "output_type": "stream",
     "text": [
      "2022-11-05 11:05:24,795 - root - INFO - Detected 214442 reply_count with invalid value, i.e. 1.686573352829994% of dataset\n"
     ]
    },
    {
     "name": "stderr",
     "output_type": "stream",
     "text": [
      "/usr/local/lib/python3.10/dist-packages/pandarallel/data_types/series.py:42: FutureWarning: The behavior of `series[i:j]` with an integer-dtype index is deprecated. In a future version, this will be treated as *label-based* indexing, consistent with e.g. `series[i]` lookups. To retain the old behavior, use `series.iloc[i:j]`. To get the future behavior, use `series.loc[i:j]`.\n",
      "  yield data[chunk_]\n"
     ]
    },
    {
     "data": {
      "application/vnd.jupyter.widget-view+json": {
       "model_id": "ab576553c08543eea0754cced3970a32",
       "version_major": 2,
       "version_minor": 0
      },
      "text/plain": [
       "VBox(children=(HBox(children=(IntProgress(value=0, description='0.00%', max=2542932), Label(value='0 / 2542932…"
      ]
     },
     "metadata": {},
     "output_type": "display_data"
    },
    {
     "name": "stderr",
     "output_type": "stream",
     "text": [
      "/usr/local/lib/python3.10/dist-packages/pandarallel/data_types/series.py:42: FutureWarning: The behavior of `series[i:j]` with an integer-dtype index is deprecated. In a future version, this will be treated as *label-based* indexing, consistent with e.g. `series[i]` lookups. To retain the old behavior, use `series.iloc[i:j]`. To get the future behavior, use `series.loc[i:j]`.\n",
      "  yield data[chunk_]\n"
     ]
    },
    {
     "data": {
      "application/vnd.jupyter.widget-view+json": {
       "model_id": "52e6c119e52e4d7dbf98195a6626ca33",
       "version_major": 2,
       "version_minor": 0
      },
      "text/plain": [
       "VBox(children=(HBox(children=(IntProgress(value=0, description='0.00%', max=2542932), Label(value='0 / 2542932…"
      ]
     },
     "metadata": {},
     "output_type": "display_data"
    },
    {
     "name": "stdout",
     "output_type": "stream",
     "text": [
      "2022-11-05 11:05:57,366 - root - INFO - Detected 213415 favorite_count with invalid value, i.e. 1.678496059979916% of dataset\n"
     ]
    },
    {
     "name": "stderr",
     "output_type": "stream",
     "text": [
      "/usr/local/lib/python3.10/dist-packages/pandarallel/data_types/series.py:42: FutureWarning: The behavior of `series[i:j]` with an integer-dtype index is deprecated. In a future version, this will be treated as *label-based* indexing, consistent with e.g. `series[i]` lookups. To retain the old behavior, use `series.iloc[i:j]`. To get the future behavior, use `series.loc[i:j]`.\n",
      "  yield data[chunk_]\n"
     ]
    },
    {
     "data": {
      "application/vnd.jupyter.widget-view+json": {
       "model_id": "83b8911054474031a0960bf97c644c10",
       "version_major": 2,
       "version_minor": 0
      },
      "text/plain": [
       "VBox(children=(HBox(children=(IntProgress(value=0, description='0.00%', max=2542932), Label(value='0 / 2542932…"
      ]
     },
     "metadata": {},
     "output_type": "display_data"
    },
    {
     "name": "stderr",
     "output_type": "stream",
     "text": [
      "/usr/local/lib/python3.10/dist-packages/pandarallel/data_types/series.py:42: FutureWarning: The behavior of `series[i:j]` with an integer-dtype index is deprecated. In a future version, this will be treated as *label-based* indexing, consistent with e.g. `series[i]` lookups. To retain the old behavior, use `series.iloc[i:j]`. To get the future behavior, use `series.loc[i:j]`.\n",
      "  yield data[chunk_]\n"
     ]
    },
    {
     "data": {
      "application/vnd.jupyter.widget-view+json": {
       "model_id": "f0313856b508466eb2f266ea51099a15",
       "version_major": 2,
       "version_minor": 0
      },
      "text/plain": [
       "VBox(children=(HBox(children=(IntProgress(value=0, description='0.00%', max=2542932), Label(value='0 / 2542932…"
      ]
     },
     "metadata": {},
     "output_type": "display_data"
    },
    {
     "name": "stdout",
     "output_type": "stream",
     "text": [
      "2022-11-05 11:06:30,569 - root - INFO - Detected 213690 num_hashtags with invalid value, i.e. 1.6806589183380187% of dataset\n"
     ]
    },
    {
     "name": "stderr",
     "output_type": "stream",
     "text": [
      "/usr/local/lib/python3.10/dist-packages/pandarallel/data_types/series.py:42: FutureWarning: The behavior of `series[i:j]` with an integer-dtype index is deprecated. In a future version, this will be treated as *label-based* indexing, consistent with e.g. `series[i]` lookups. To retain the old behavior, use `series.iloc[i:j]`. To get the future behavior, use `series.loc[i:j]`.\n",
      "  yield data[chunk_]\n"
     ]
    },
    {
     "data": {
      "application/vnd.jupyter.widget-view+json": {
       "model_id": "f1e526447c6b4ecb93cf2c2cc4c9776e",
       "version_major": 2,
       "version_minor": 0
      },
      "text/plain": [
       "VBox(children=(HBox(children=(IntProgress(value=0, description='0.00%', max=2542932), Label(value='0 / 2542932…"
      ]
     },
     "metadata": {},
     "output_type": "display_data"
    },
    {
     "name": "stderr",
     "output_type": "stream",
     "text": [
      "/usr/local/lib/python3.10/dist-packages/pandarallel/data_types/series.py:42: FutureWarning: The behavior of `series[i:j]` with an integer-dtype index is deprecated. In a future version, this will be treated as *label-based* indexing, consistent with e.g. `series[i]` lookups. To retain the old behavior, use `series.iloc[i:j]`. To get the future behavior, use `series.loc[i:j]`.\n",
      "  yield data[chunk_]\n"
     ]
    },
    {
     "data": {
      "application/vnd.jupyter.widget-view+json": {
       "model_id": "9af60165405247c486024228d4e55801",
       "version_major": 2,
       "version_minor": 0
      },
      "text/plain": [
       "VBox(children=(HBox(children=(IntProgress(value=0, description='0.00%', max=2542932), Label(value='0 / 2542932…"
      ]
     },
     "metadata": {},
     "output_type": "display_data"
    },
    {
     "name": "stdout",
     "output_type": "stream",
     "text": [
      "2022-11-05 11:07:03,265 - root - INFO - Detected 214028 num_urls with invalid value, i.e. 1.6833172678836141% of dataset\n"
     ]
    },
    {
     "name": "stderr",
     "output_type": "stream",
     "text": [
      "/usr/local/lib/python3.10/dist-packages/pandarallel/data_types/series.py:42: FutureWarning: The behavior of `series[i:j]` with an integer-dtype index is deprecated. In a future version, this will be treated as *label-based* indexing, consistent with e.g. `series[i]` lookups. To retain the old behavior, use `series.iloc[i:j]`. To get the future behavior, use `series.loc[i:j]`.\n",
      "  yield data[chunk_]\n"
     ]
    },
    {
     "data": {
      "application/vnd.jupyter.widget-view+json": {
       "model_id": "1f2c93cb045e4a3298656b2a42e032be",
       "version_major": 2,
       "version_minor": 0
      },
      "text/plain": [
       "VBox(children=(HBox(children=(IntProgress(value=0, description='0.00%', max=2542932), Label(value='0 / 2542932…"
      ]
     },
     "metadata": {},
     "output_type": "display_data"
    },
    {
     "name": "stderr",
     "output_type": "stream",
     "text": [
      "/usr/local/lib/python3.10/dist-packages/pandarallel/data_types/series.py:42: FutureWarning: The behavior of `series[i:j]` with an integer-dtype index is deprecated. In a future version, this will be treated as *label-based* indexing, consistent with e.g. `series[i]` lookups. To retain the old behavior, use `series.iloc[i:j]`. To get the future behavior, use `series.loc[i:j]`.\n",
      "  yield data[chunk_]\n"
     ]
    },
    {
     "data": {
      "application/vnd.jupyter.widget-view+json": {
       "model_id": "c4d60a9afd3d4de1957c64e588e03511",
       "version_major": 2,
       "version_minor": 0
      },
      "text/plain": [
       "VBox(children=(HBox(children=(IntProgress(value=0, description='0.00%', max=2542932), Label(value='0 / 2542932…"
      ]
     },
     "metadata": {},
     "output_type": "display_data"
    },
    {
     "name": "stdout",
     "output_type": "stream",
     "text": [
      "2022-11-05 11:07:37,182 - root - INFO - Detected 214130 num_mentions with invalid value, i.e. 1.684119491710983% of dataset\n"
     ]
    }
   ],
   "source": [
    "# define all columns to be checked\n",
    "INTEGER_COLUMNS = [\n",
    "    'retweet_count',\n",
    "    'reply_count',\n",
    "    'favorite_count',\n",
    "    'num_hashtags',\n",
    "    'num_urls',\n",
    "    'num_mentions',\n",
    "]\n",
    "\n",
    "# outlier value\n",
    "OUTLIER_VALUE = -1\n",
    "\n",
    "# Replace invalid integer columns with OUTLIER_VALUE\n",
    "for col in INTEGER_COLUMNS:\n",
    "    tweets, removed = replace_with_outlier(\n",
    "        tweets,\n",
    "        col,\n",
    "        check_positive_int,\n",
    "        OUTLIER_VALUE,\n",
    "    )\n",
    "    lg.info(f\"Detected {removed} {col} with invalid value, i.e. {removed / len(tweets) * 100}% of dataset\")"
   ]
  },
  {
   "cell_type": "markdown",
   "metadata": {},
   "source": [
    "For numerical columns, replace with median."
   ]
  },
  {
   "cell_type": "code",
   "execution_count": 25,
   "metadata": {
    "pycharm": {
     "is_executing": true
    }
   },
   "outputs": [
    {
     "name": "stderr",
     "output_type": "stream",
     "text": [
      "/usr/local/lib/python3.10/dist-packages/pandarallel/data_types/series.py:42: FutureWarning: The behavior of `series[i:j]` with an integer-dtype index is deprecated. In a future version, this will be treated as *label-based* indexing, consistent with e.g. `series[i]` lookups. To retain the old behavior, use `series.iloc[i:j]`. To get the future behavior, use `series.loc[i:j]`.\n",
      "  yield data[chunk_]\n"
     ]
    },
    {
     "data": {
      "application/vnd.jupyter.widget-view+json": {
       "model_id": "660b576e55ab4be9b7489c23a47ff2bc",
       "version_major": 2,
       "version_minor": 0
      },
      "text/plain": [
       "VBox(children=(HBox(children=(IntProgress(value=0, description='0.00%', max=2542932), Label(value='0 / 2542932…"
      ]
     },
     "metadata": {},
     "output_type": "display_data"
    },
    {
     "name": "stderr",
     "output_type": "stream",
     "text": [
      "/usr/local/lib/python3.10/dist-packages/pandarallel/data_types/series.py:42: FutureWarning: The behavior of `series[i:j]` with an integer-dtype index is deprecated. In a future version, this will be treated as *label-based* indexing, consistent with e.g. `series[i]` lookups. To retain the old behavior, use `series.iloc[i:j]`. To get the future behavior, use `series.loc[i:j]`.\n",
      "  yield data[chunk_]\n"
     ]
    },
    {
     "data": {
      "application/vnd.jupyter.widget-view+json": {
       "model_id": "d6b3707eb28a47dbbd4bf0dca947b4d8",
       "version_major": 2,
       "version_minor": 0
      },
      "text/plain": [
       "VBox(children=(HBox(children=(IntProgress(value=0, description='0.00%', max=2542932), Label(value='0 / 2542932…"
      ]
     },
     "metadata": {},
     "output_type": "display_data"
    },
    {
     "name": "stdout",
     "output_type": "stream",
     "text": [
      "2022-11-05 11:07:54,957 - root - INFO - Detected 213878 rows of retweet_count with outlier value i.e. 1.6821375269610126% of dataset\n",
      "2022-11-05 11:07:54,959 - root - INFO - Median value = 0.0\n"
     ]
    },
    {
     "name": "stderr",
     "output_type": "stream",
     "text": [
      "/usr/local/lib/python3.10/dist-packages/pandarallel/data_types/series.py:42: FutureWarning: The behavior of `series[i:j]` with an integer-dtype index is deprecated. In a future version, this will be treated as *label-based* indexing, consistent with e.g. `series[i]` lookups. To retain the old behavior, use `series.iloc[i:j]`. To get the future behavior, use `series.loc[i:j]`.\n",
      "  yield data[chunk_]\n"
     ]
    },
    {
     "data": {
      "application/vnd.jupyter.widget-view+json": {
       "model_id": "46e5412cb05b47cf9e6f544b6d03cfb9",
       "version_major": 2,
       "version_minor": 0
      },
      "text/plain": [
       "VBox(children=(HBox(children=(IntProgress(value=0, description='0.00%', max=2542932), Label(value='0 / 2542932…"
      ]
     },
     "metadata": {},
     "output_type": "display_data"
    },
    {
     "name": "stderr",
     "output_type": "stream",
     "text": [
      "/usr/local/lib/python3.10/dist-packages/pandarallel/data_types/series.py:42: FutureWarning: The behavior of `series[i:j]` with an integer-dtype index is deprecated. In a future version, this will be treated as *label-based* indexing, consistent with e.g. `series[i]` lookups. To retain the old behavior, use `series.iloc[i:j]`. To get the future behavior, use `series.loc[i:j]`.\n",
      "  yield data[chunk_]\n"
     ]
    },
    {
     "data": {
      "application/vnd.jupyter.widget-view+json": {
       "model_id": "26ea204be02f49068c1089ddba131a1b",
       "version_major": 2,
       "version_minor": 0
      },
      "text/plain": [
       "VBox(children=(HBox(children=(IntProgress(value=0, description='0.00%', max=2542932), Label(value='0 / 2542932…"
      ]
     },
     "metadata": {},
     "output_type": "display_data"
    },
    {
     "name": "stdout",
     "output_type": "stream",
     "text": [
      "2022-11-05 11:08:09,855 - root - INFO - Detected 214442 rows of reply_count with outlier value i.e. 1.686573352829994% of dataset\n",
      "2022-11-05 11:08:09,856 - root - INFO - Median value = 0.0\n"
     ]
    },
    {
     "name": "stderr",
     "output_type": "stream",
     "text": [
      "/usr/local/lib/python3.10/dist-packages/pandarallel/data_types/series.py:42: FutureWarning: The behavior of `series[i:j]` with an integer-dtype index is deprecated. In a future version, this will be treated as *label-based* indexing, consistent with e.g. `series[i]` lookups. To retain the old behavior, use `series.iloc[i:j]`. To get the future behavior, use `series.loc[i:j]`.\n",
      "  yield data[chunk_]\n"
     ]
    },
    {
     "data": {
      "application/vnd.jupyter.widget-view+json": {
       "model_id": "7ad6145ab1234b4aa8bfa12861892737",
       "version_major": 2,
       "version_minor": 0
      },
      "text/plain": [
       "VBox(children=(HBox(children=(IntProgress(value=0, description='0.00%', max=2542932), Label(value='0 / 2542932…"
      ]
     },
     "metadata": {},
     "output_type": "display_data"
    },
    {
     "name": "stderr",
     "output_type": "stream",
     "text": [
      "/usr/local/lib/python3.10/dist-packages/pandarallel/data_types/series.py:42: FutureWarning: The behavior of `series[i:j]` with an integer-dtype index is deprecated. In a future version, this will be treated as *label-based* indexing, consistent with e.g. `series[i]` lookups. To retain the old behavior, use `series.iloc[i:j]`. To get the future behavior, use `series.loc[i:j]`.\n",
      "  yield data[chunk_]\n"
     ]
    },
    {
     "data": {
      "application/vnd.jupyter.widget-view+json": {
       "model_id": "c7cf4fb929414f5795fd55fbffee60d7",
       "version_major": 2,
       "version_minor": 0
      },
      "text/plain": [
       "VBox(children=(HBox(children=(IntProgress(value=0, description='0.00%', max=2542932), Label(value='0 / 2542932…"
      ]
     },
     "metadata": {},
     "output_type": "display_data"
    },
    {
     "name": "stdout",
     "output_type": "stream",
     "text": [
      "2022-11-05 11:08:24,801 - root - INFO - Detected 213415 rows of favorite_count with outlier value i.e. 1.678496059979916% of dataset\n",
      "2022-11-05 11:08:24,802 - root - INFO - Median value = 0.0\n"
     ]
    },
    {
     "name": "stderr",
     "output_type": "stream",
     "text": [
      "/usr/local/lib/python3.10/dist-packages/pandarallel/data_types/series.py:42: FutureWarning: The behavior of `series[i:j]` with an integer-dtype index is deprecated. In a future version, this will be treated as *label-based* indexing, consistent with e.g. `series[i]` lookups. To retain the old behavior, use `series.iloc[i:j]`. To get the future behavior, use `series.loc[i:j]`.\n",
      "  yield data[chunk_]\n"
     ]
    },
    {
     "data": {
      "application/vnd.jupyter.widget-view+json": {
       "model_id": "22ffc1bdf1ca4c4d8978212531676634",
       "version_major": 2,
       "version_minor": 0
      },
      "text/plain": [
       "VBox(children=(HBox(children=(IntProgress(value=0, description='0.00%', max=2542932), Label(value='0 / 2542932…"
      ]
     },
     "metadata": {},
     "output_type": "display_data"
    },
    {
     "name": "stderr",
     "output_type": "stream",
     "text": [
      "/usr/local/lib/python3.10/dist-packages/pandarallel/data_types/series.py:42: FutureWarning: The behavior of `series[i:j]` with an integer-dtype index is deprecated. In a future version, this will be treated as *label-based* indexing, consistent with e.g. `series[i]` lookups. To retain the old behavior, use `series.iloc[i:j]`. To get the future behavior, use `series.loc[i:j]`.\n",
      "  yield data[chunk_]\n"
     ]
    },
    {
     "data": {
      "application/vnd.jupyter.widget-view+json": {
       "model_id": "a235a1426c924f7ea3900ca66fe89d27",
       "version_major": 2,
       "version_minor": 0
      },
      "text/plain": [
       "VBox(children=(HBox(children=(IntProgress(value=0, description='0.00%', max=2542932), Label(value='0 / 2542932…"
      ]
     },
     "metadata": {},
     "output_type": "display_data"
    },
    {
     "name": "stdout",
     "output_type": "stream",
     "text": [
      "2022-11-05 11:08:39,395 - root - INFO - Detected 213690 rows of num_hashtags with outlier value i.e. 1.6806589183380187% of dataset\n",
      "2022-11-05 11:08:39,397 - root - INFO - Median value = 0.0\n"
     ]
    },
    {
     "name": "stderr",
     "output_type": "stream",
     "text": [
      "/usr/local/lib/python3.10/dist-packages/pandarallel/data_types/series.py:42: FutureWarning: The behavior of `series[i:j]` with an integer-dtype index is deprecated. In a future version, this will be treated as *label-based* indexing, consistent with e.g. `series[i]` lookups. To retain the old behavior, use `series.iloc[i:j]`. To get the future behavior, use `series.loc[i:j]`.\n",
      "  yield data[chunk_]\n"
     ]
    },
    {
     "data": {
      "application/vnd.jupyter.widget-view+json": {
       "model_id": "ff23c3e9754140bf8fed9948ff921a11",
       "version_major": 2,
       "version_minor": 0
      },
      "text/plain": [
       "VBox(children=(HBox(children=(IntProgress(value=0, description='0.00%', max=2542932), Label(value='0 / 2542932…"
      ]
     },
     "metadata": {},
     "output_type": "display_data"
    },
    {
     "name": "stderr",
     "output_type": "stream",
     "text": [
      "/usr/local/lib/python3.10/dist-packages/pandarallel/data_types/series.py:42: FutureWarning: The behavior of `series[i:j]` with an integer-dtype index is deprecated. In a future version, this will be treated as *label-based* indexing, consistent with e.g. `series[i]` lookups. To retain the old behavior, use `series.iloc[i:j]`. To get the future behavior, use `series.loc[i:j]`.\n",
      "  yield data[chunk_]\n"
     ]
    },
    {
     "data": {
      "application/vnd.jupyter.widget-view+json": {
       "model_id": "0acc20ac6e16481d9b6eb5442ebb77da",
       "version_major": 2,
       "version_minor": 0
      },
      "text/plain": [
       "VBox(children=(HBox(children=(IntProgress(value=0, description='0.00%', max=2542932), Label(value='0 / 2542932…"
      ]
     },
     "metadata": {},
     "output_type": "display_data"
    },
    {
     "name": "stdout",
     "output_type": "stream",
     "text": [
      "2022-11-05 11:08:54,107 - root - INFO - Detected 214028 rows of num_urls with outlier value i.e. 1.6833172678836141% of dataset\n",
      "2022-11-05 11:08:54,109 - root - INFO - Median value = 0.0\n"
     ]
    },
    {
     "name": "stderr",
     "output_type": "stream",
     "text": [
      "/usr/local/lib/python3.10/dist-packages/pandarallel/data_types/series.py:42: FutureWarning: The behavior of `series[i:j]` with an integer-dtype index is deprecated. In a future version, this will be treated as *label-based* indexing, consistent with e.g. `series[i]` lookups. To retain the old behavior, use `series.iloc[i:j]`. To get the future behavior, use `series.loc[i:j]`.\n",
      "  yield data[chunk_]\n"
     ]
    },
    {
     "data": {
      "application/vnd.jupyter.widget-view+json": {
       "model_id": "35071cb2768d4a18a8a30884e9d5b5e0",
       "version_major": 2,
       "version_minor": 0
      },
      "text/plain": [
       "VBox(children=(HBox(children=(IntProgress(value=0, description='0.00%', max=2542932), Label(value='0 / 2542932…"
      ]
     },
     "metadata": {},
     "output_type": "display_data"
    },
    {
     "name": "stderr",
     "output_type": "stream",
     "text": [
      "/usr/local/lib/python3.10/dist-packages/pandarallel/data_types/series.py:42: FutureWarning: The behavior of `series[i:j]` with an integer-dtype index is deprecated. In a future version, this will be treated as *label-based* indexing, consistent with e.g. `series[i]` lookups. To retain the old behavior, use `series.iloc[i:j]`. To get the future behavior, use `series.loc[i:j]`.\n",
      "  yield data[chunk_]\n"
     ]
    },
    {
     "data": {
      "application/vnd.jupyter.widget-view+json": {
       "model_id": "c4d16279f0ae4802ad1fd1477d1c5381",
       "version_major": 2,
       "version_minor": 0
      },
      "text/plain": [
       "VBox(children=(HBox(children=(IntProgress(value=0, description='0.00%', max=2542932), Label(value='0 / 2542932…"
      ]
     },
     "metadata": {},
     "output_type": "display_data"
    },
    {
     "name": "stdout",
     "output_type": "stream",
     "text": [
      "2022-11-05 11:09:08,817 - root - INFO - Detected 214130 rows of num_mentions with outlier value i.e. 1.684119491710983% of dataset\n",
      "2022-11-05 11:09:08,819 - root - INFO - Median value = 0.0\n"
     ]
    }
   ],
   "source": [
    "# Define a simple function that replaces missing values with the median (only numerical)\n",
    "def clean_with_median(dataset, col_name):\n",
    "    df = dataset.copy()\n",
    "    v = df[col_name].parallel_map(lambda x: x != OUTLIER_VALUE)\n",
    "    median = df[v == True][col_name].median()\n",
    "    df[col_name] = df[col_name].parallel_map(lambda x: int(float(x)) if x != OUTLIER_VALUE else median)\n",
    "    return df, sum(~v), median\n",
    "\n",
    "# Replacing missing data with median\n",
    "for col in INTEGER_COLUMNS:\n",
    "    tweets, affected, median = clean_with_median(tweets, col)\n",
    "    lg.info(f'Detected {affected} rows of {col} with outlier value i.e. {affected / len(tweets) * 100}% of dataset')\n",
    "    lg.info(f'Median value = {median}')"
   ]
  },
  {
   "cell_type": "markdown",
   "metadata": {},
   "source": [
    "Managing the text column, we want to make the column a string type and replace null values with empty string."
   ]
  },
  {
   "cell_type": "code",
   "execution_count": 26,
   "metadata": {},
   "outputs": [
    {
     "name": "stderr",
     "output_type": "stream",
     "text": [
      "/usr/local/lib/python3.10/dist-packages/pandarallel/data_types/series.py:42: FutureWarning: The behavior of `series[i:j]` with an integer-dtype index is deprecated. In a future version, this will be treated as *label-based* indexing, consistent with e.g. `series[i]` lookups. To retain the old behavior, use `series.iloc[i:j]`. To get the future behavior, use `series.loc[i:j]`.\n",
      "  yield data[chunk_]\n"
     ]
    },
    {
     "data": {
      "application/vnd.jupyter.widget-view+json": {
       "model_id": "c66403bfb7a24629abb67faaeedbee37",
       "version_major": 2,
       "version_minor": 0
      },
      "text/plain": [
       "VBox(children=(HBox(children=(IntProgress(value=0, description='0.00%', max=2542932), Label(value='0 / 2542932…"
      ]
     },
     "metadata": {},
     "output_type": "display_data"
    },
    {
     "name": "stdout",
     "output_type": "stream",
     "text": [
      "2022-11-05 11:09:19,467 - root - INFO - Found 49420 records, i.e. 0.3886853092997561% of dataset\n"
     ]
    },
    {
     "name": "stderr",
     "output_type": "stream",
     "text": [
      "/usr/local/lib/python3.10/dist-packages/pandarallel/data_types/series.py:42: FutureWarning: The behavior of `series[i:j]` with an integer-dtype index is deprecated. In a future version, this will be treated as *label-based* indexing, consistent with e.g. `series[i]` lookups. To retain the old behavior, use `series.iloc[i:j]`. To get the future behavior, use `series.loc[i:j]`.\n",
      "  yield data[chunk_]\n"
     ]
    },
    {
     "data": {
      "application/vnd.jupyter.widget-view+json": {
       "model_id": "b488e7736f394f7daf57d94e710f0f2d",
       "version_major": 2,
       "version_minor": 0
      },
      "text/plain": [
       "VBox(children=(HBox(children=(IntProgress(value=0, description='0.00%', max=2542932), Label(value='0 / 2542932…"
      ]
     },
     "metadata": {},
     "output_type": "display_data"
    }
   ],
   "source": [
    "#\n",
    "# Compute statistics\n",
    "#\n",
    "invalid_texts = tweets['text'].parallel_map(pd.isnull)\n",
    "lg.info(f\"Found {sum(invalid_texts)} records, i.e. {sum(invalid_texts) / len(invalid_texts) * 100}% of dataset\")\n",
    "# to optize the memory\n",
    "del invalid_texts\n",
    "\n",
    "# Handle the text record\n",
    "def handle_text_record(x):\n",
    "    if pd.isnull(x):\n",
    "        return ''\n",
    "    else:\n",
    "        return str(x)\n",
    "\n",
    "# Execute the function\n",
    "tweets['text'] = tweets['text'].parallel_map(handle_text_record)"
   ]
  },
  {
   "cell_type": "markdown",
   "metadata": {},
   "source": [
    "Managing the `created_at` column."
   ]
  },
  {
   "cell_type": "code",
   "execution_count": 27,
   "metadata": {
    "pycharm": {
     "is_executing": true
    }
   },
   "outputs": [
    {
     "name": "stderr",
     "output_type": "stream",
     "text": [
      "/usr/local/lib/python3.10/dist-packages/pandarallel/data_types/series.py:42: FutureWarning: The behavior of `series[i:j]` with an integer-dtype index is deprecated. In a future version, this will be treated as *label-based* indexing, consistent with e.g. `series[i]` lookups. To retain the old behavior, use `series.iloc[i:j]`. To get the future behavior, use `series.loc[i:j]`.\n",
      "  yield data[chunk_]\n"
     ]
    },
    {
     "data": {
      "application/vnd.jupyter.widget-view+json": {
       "model_id": "5ac433b556df4c5590204180203f7393",
       "version_major": 2,
       "version_minor": 0
      },
      "text/plain": [
       "VBox(children=(HBox(children=(IntProgress(value=0, description='0.00%', max=2542932), Label(value='0 / 2542932…"
      ]
     },
     "metadata": {},
     "output_type": "display_data"
    },
    {
     "name": "stdout",
     "output_type": "stream",
     "text": [
      "2022-11-05 11:10:19,387 - root - INFO - Found 0.7676574183367604 % invalid created_at datetime.\n",
      "2022-11-05 11:10:19,388 - root - INFO - OUTLIER_TIMESTAMP=1800-01-01 00:00:00\n"
     ]
    }
   ],
   "source": [
    "tweets = replacement_outliers_datetime(tweets, 'created_at')\n",
    "\n",
    "outlier_timestamp_count = sum(tweets['created_at'].map(lambda x: x == OUTLIER_TIMESTAMP))\n",
    "\n",
    "lg.info(f\"Found {outlier_timestamp_count / len(tweets) * 100} % invalid created_at datetime.\")\n",
    "lg.info(f\"OUTLIER_TIMESTAMP={OUTLIER_TIMESTAMP}\")"
   ]
  },
  {
   "cell_type": "markdown",
   "metadata": {},
   "source": [
    "Tweets dataset type conversions."
   ]
  },
  {
   "cell_type": "code",
   "execution_count": 28,
   "metadata": {},
   "outputs": [],
   "source": [
    "tweets = tweets.astype({\n",
    "    'retweet_count': 'int64',\n",
    "    'reply_count': 'int64',\n",
    "    'favorite_count': 'int64',\n",
    "    'num_hashtags': 'int64',\n",
    "    'num_urls': 'int64',\n",
    "    'num_mentions': 'int64',\n",
    "    'created_at': 'datetime64[ns]',\n",
    "    'text': 'string',\n",
    "})"
   ]
  },
  {
   "cell_type": "markdown",
   "metadata": {},
   "source": [
    "Dropping duplicated values."
   ]
  },
  {
   "cell_type": "code",
   "execution_count": 29,
   "metadata": {
    "pycharm": {
     "is_executing": true
    }
   },
   "outputs": [
    {
     "name": "stdout",
     "output_type": "stream",
     "text": [
      "2022-11-05 11:10:39,988 - root - INFO - Removed 2447877 duplicates record that are 19.25240446929905% of dataset.\n"
     ]
    }
   ],
   "source": [
    "initial_ds_len = len(tweets)\n",
    "tweets = tweets.drop_duplicates()\n",
    "lg.info(f'Removed {initial_ds_len - len(tweets)} duplicates record that are {(initial_ds_len - len(tweets)) / initial_ds_len * 100}% of dataset.')\n",
    "del initial_ds_len"
   ]
  },
  {
   "cell_type": "code",
   "execution_count": 30,
   "metadata": {
    "pycharm": {
     "is_executing": true
    }
   },
   "outputs": [
    {
     "name": "stdout",
     "output_type": "stream",
     "text": [
      "<class 'pandas.core.frame.DataFrame'>\n",
      "Int64Index: 10266779 entries, 0 to 13664695\n",
      "Data columns (total 9 columns):\n",
      " #   Column          Dtype         \n",
      "---  ------          -----         \n",
      " 0   user_id         object        \n",
      " 1   retweet_count   int64         \n",
      " 2   reply_count     int64         \n",
      " 3   favorite_count  int64         \n",
      " 4   num_hashtags    int64         \n",
      " 5   num_urls        int64         \n",
      " 6   num_mentions    int64         \n",
      " 7   created_at      datetime64[ns]\n",
      " 8   text            string        \n",
      "dtypes: datetime64[ns](1), int64(6), object(1), string(1)\n",
      "memory usage: 783.3+ MB\n"
     ]
    }
   ],
   "source": [
    "tweets.info()"
   ]
  },
  {
   "cell_type": "markdown",
   "metadata": {},
   "source": [
    "Describe the pre-processed dataset with all columns."
   ]
  },
  {
   "cell_type": "code",
   "execution_count": 31,
   "metadata": {
    "pycharm": {
     "is_executing": true
    }
   },
   "outputs": [
    {
     "data": {
      "text/html": [
       "<div>\n",
       "<style scoped>\n",
       "    .dataframe tbody tr th:only-of-type {\n",
       "        vertical-align: middle;\n",
       "    }\n",
       "\n",
       "    .dataframe tbody tr th {\n",
       "        vertical-align: top;\n",
       "    }\n",
       "\n",
       "    .dataframe thead th {\n",
       "        text-align: right;\n",
       "    }\n",
       "</style>\n",
       "<table border=\"1\" class=\"dataframe\">\n",
       "  <thead>\n",
       "    <tr style=\"text-align: right;\">\n",
       "      <th></th>\n",
       "      <th>retweet_count</th>\n",
       "      <th>reply_count</th>\n",
       "      <th>favorite_count</th>\n",
       "      <th>num_hashtags</th>\n",
       "      <th>num_urls</th>\n",
       "      <th>num_mentions</th>\n",
       "      <th>created_at</th>\n",
       "    </tr>\n",
       "  </thead>\n",
       "  <tbody>\n",
       "    <tr>\n",
       "      <th>count</th>\n",
       "      <td>1.026678e+07</td>\n",
       "      <td>1.026678e+07</td>\n",
       "      <td>1.026678e+07</td>\n",
       "      <td>1.026678e+07</td>\n",
       "      <td>1.026678e+07</td>\n",
       "      <td>1.026678e+07</td>\n",
       "      <td>10266779</td>\n",
       "    </tr>\n",
       "    <tr>\n",
       "      <th>mean</th>\n",
       "      <td>5.799943e+02</td>\n",
       "      <td>6.366065e-01</td>\n",
       "      <td>4.956520e+01</td>\n",
       "      <td>1.305477e+00</td>\n",
       "      <td>7.055411e+00</td>\n",
       "      <td>9.975808e-01</td>\n",
       "      <td>2017-08-24 10:15:34.006892288</td>\n",
       "    </tr>\n",
       "    <tr>\n",
       "      <th>min</th>\n",
       "      <td>0.000000e+00</td>\n",
       "      <td>0.000000e+00</td>\n",
       "      <td>0.000000e+00</td>\n",
       "      <td>0.000000e+00</td>\n",
       "      <td>0.000000e+00</td>\n",
       "      <td>0.000000e+00</td>\n",
       "      <td>1800-01-01 00:00:00</td>\n",
       "    </tr>\n",
       "    <tr>\n",
       "      <th>25%</th>\n",
       "      <td>0.000000e+00</td>\n",
       "      <td>0.000000e+00</td>\n",
       "      <td>0.000000e+00</td>\n",
       "      <td>0.000000e+00</td>\n",
       "      <td>0.000000e+00</td>\n",
       "      <td>0.000000e+00</td>\n",
       "      <td>2019-06-27 19:27:56.500000</td>\n",
       "    </tr>\n",
       "    <tr>\n",
       "      <th>50%</th>\n",
       "      <td>0.000000e+00</td>\n",
       "      <td>0.000000e+00</td>\n",
       "      <td>0.000000e+00</td>\n",
       "      <td>0.000000e+00</td>\n",
       "      <td>0.000000e+00</td>\n",
       "      <td>0.000000e+00</td>\n",
       "      <td>2019-11-01 17:05:25</td>\n",
       "    </tr>\n",
       "    <tr>\n",
       "      <th>75%</th>\n",
       "      <td>1.000000e+00</td>\n",
       "      <td>0.000000e+00</td>\n",
       "      <td>0.000000e+00</td>\n",
       "      <td>0.000000e+00</td>\n",
       "      <td>0.000000e+00</td>\n",
       "      <td>1.000000e+00</td>\n",
       "      <td>2020-03-22 00:50:47</td>\n",
       "    </tr>\n",
       "    <tr>\n",
       "      <th>max</th>\n",
       "      <td>3.906940e+07</td>\n",
       "      <td>9.120950e+05</td>\n",
       "      <td>4.810824e+08</td>\n",
       "      <td>6.747961e+06</td>\n",
       "      <td>5.859340e+07</td>\n",
       "      <td>9.174080e+05</td>\n",
       "      <td>2020-05-03 10:36:12</td>\n",
       "    </tr>\n",
       "    <tr>\n",
       "      <th>std</th>\n",
       "      <td>1.923331e+04</td>\n",
       "      <td>5.852091e+02</td>\n",
       "      <td>1.501517e+05</td>\n",
       "      <td>2.155351e+03</td>\n",
       "      <td>1.836858e+04</td>\n",
       "      <td>4.632851e+02</td>\n",
       "      <td>NaN</td>\n",
       "    </tr>\n",
       "  </tbody>\n",
       "</table>\n",
       "</div>"
      ],
      "text/plain": [
       "       retweet_count   reply_count  favorite_count  num_hashtags  \\\n",
       "count   1.026678e+07  1.026678e+07    1.026678e+07  1.026678e+07   \n",
       "mean    5.799943e+02  6.366065e-01    4.956520e+01  1.305477e+00   \n",
       "min     0.000000e+00  0.000000e+00    0.000000e+00  0.000000e+00   \n",
       "25%     0.000000e+00  0.000000e+00    0.000000e+00  0.000000e+00   \n",
       "50%     0.000000e+00  0.000000e+00    0.000000e+00  0.000000e+00   \n",
       "75%     1.000000e+00  0.000000e+00    0.000000e+00  0.000000e+00   \n",
       "max     3.906940e+07  9.120950e+05    4.810824e+08  6.747961e+06   \n",
       "std     1.923331e+04  5.852091e+02    1.501517e+05  2.155351e+03   \n",
       "\n",
       "           num_urls  num_mentions                     created_at  \n",
       "count  1.026678e+07  1.026678e+07                       10266779  \n",
       "mean   7.055411e+00  9.975808e-01  2017-08-24 10:15:34.006892288  \n",
       "min    0.000000e+00  0.000000e+00            1800-01-01 00:00:00  \n",
       "25%    0.000000e+00  0.000000e+00     2019-06-27 19:27:56.500000  \n",
       "50%    0.000000e+00  0.000000e+00            2019-11-01 17:05:25  \n",
       "75%    0.000000e+00  1.000000e+00            2020-03-22 00:50:47  \n",
       "max    5.859340e+07  9.174080e+05            2020-05-03 10:36:12  \n",
       "std    1.836858e+04  4.632851e+02                            NaN  "
      ]
     },
     "execution_count": 31,
     "metadata": {},
     "output_type": "execute_result"
    }
   ],
   "source": [
    "tweets[['retweet_count', 'reply_count', 'favorite_count', 'num_hashtags', 'num_urls', 'num_mentions', 'created_at']].describe(include='all', datetime_is_numeric=True)"
   ]
  },
  {
   "cell_type": "code",
   "execution_count": 32,
   "metadata": {},
   "outputs": [],
   "source": [
    "# save preprocessed tweets and users as pickle\n",
    "store_preprocessed_dataset(step_name=\"preprocess\", file_name=\"tweets.pickle\", df=tweets)\n",
    "store_preprocessed_dataset(step_name=\"preprocess\", file_name=\"users.pickle\", df=users)"
   ]
  },
  {
   "cell_type": "markdown",
   "metadata": {},
   "source": [
    "## Distribution analysis\n",
    "\n",
    "In the following cells we plot statistics according to see data distribution behavior and detect outliers."
   ]
  },
  {
   "cell_type": "code",
   "execution_count": 33,
   "metadata": {},
   "outputs": [],
   "source": [
    "# load preprocessed tweets and users\n",
    "dataset = fetch_preprocessed_dataset(step_name=\"preprocess\")\n",
    "tweets = dataset['tweets.pickle']\n",
    "users = dataset['users.pickle']"
   ]
  },
  {
   "cell_type": "markdown",
   "metadata": {},
   "source": [
    "Users dataset histograms and bar-charts."
   ]
  },
  {
   "cell_type": "code",
   "execution_count": 34,
   "metadata": {
    "pycharm": {
     "is_executing": true
    }
   },
   "outputs": [
    {
     "data": {
      "image/png": "[encoded data removed]",
      "text/plain": [
       "<Figure size 2000x1000 with 4 Axes>"
      ]
     },
     "metadata": {},
     "output_type": "display_data"
    }
   ],
   "source": [
    "configs = [\n",
    "    {\n",
    "        'type': 'hist',\n",
    "        'column': users['statuses_count'],\n",
    "        'title': 'Statues Counts',\n",
    "        'yscale': 'log',\n",
    "    },\n",
    "    {\n",
    "        'type': 'bar',\n",
    "        'column': users['bot'].map(lambda v: 'Bot' if v else 'User'),\n",
    "        'title': 'Bot and User Counts',\n",
    "        'rotation': True,\n",
    "    },\n",
    "    {\n",
    "        'type': 'bar',\n",
    "        'column': users['lang'],\n",
    "        'title': 'Languages Counts',\n",
    "        'yscale': 'log',\n",
    "    },\n",
    "    {\n",
    "        'type': 'hist',\n",
    "        'column': users['created_at'][users['created_at'] > pd.Timestamp(OUTLIER_TIMESTAMP)],\n",
    "        'title': 'User Creation Date Distribution',\n",
    "        'yscale': 'log',\n",
    "    }\n",
    "]\n",
    "\n",
    "build_grid_plot(configs=configs)"
   ]
  },
  {
   "cell_type": "markdown",
   "metadata": {},
   "source": [
    "Pie-plots of `bot` and `lang` columns of users dataset."
   ]
  },
  {
   "cell_type": "code",
   "execution_count": 35,
   "metadata": {},
   "outputs": [
    {
     "data": {
      "image/png": "[encoded data removed]",
      "text/plain": [
       "<Figure size 2000x10000 with 2 Axes>"
      ]
     },
     "metadata": {},
     "output_type": "display_data"
    }
   ],
   "source": [
    "users_pie = users.copy()[['bot', 'lang']]\n",
    "users_pie['bot'] = users_pie['bot'].map(lambda x: 'Bot' if x else 'User')\n",
    "\n",
    "fig = plt.figure(figsize=(20, 100))\n",
    "ax1 = fig.add_subplot(121)\n",
    "users_pie['bot'].value_counts().plot.pie(legend=True, yticks=[])\n",
    "ax2 = fig.add_subplot(122)\n",
    "users_pie['lang'].value_counts().plot.pie(legend=True)\n",
    "plt.show()"
   ]
  },
  {
   "cell_type": "markdown",
   "metadata": {},
   "source": [
    "Tweets dataset histograms."
   ]
  },
  {
   "cell_type": "code",
   "execution_count": 36,
   "metadata": {
    "pycharm": {
     "is_executing": true
    }
   },
   "outputs": [
    {
     "data": {
      "image/png": "[encoded data removed]",
      "text/plain": [
       "<Figure size 2000x1500 with 7 Axes>"
      ]
     },
     "metadata": {},
     "output_type": "display_data"
    }
   ],
   "source": [
    "def plot_hist_tweets():\n",
    "    configs = [\n",
    "        {\n",
    "            'type': 'hist',\n",
    "            'column': tweets['retweet_count'],\n",
    "            'title': 'Retweet Counts',\n",
    "        },\n",
    "        {\n",
    "            'type': 'hist',\n",
    "            'column': tweets['reply_count'],\n",
    "            'title': 'Replay Counts',\n",
    "            'yscale': 'log',\n",
    "        },\n",
    "        {\n",
    "            'type': 'hist',\n",
    "            'column': tweets['favorite_count'],\n",
    "            'title': 'Favorite Counts',\n",
    "            'yscale': 'log',\n",
    "        },\n",
    "        {\n",
    "            'type': 'hist',\n",
    "            'column': tweets['num_hashtags'],\n",
    "            'title': 'Hashtag Counts',\n",
    "            'yscale': 'log',\n",
    "        },\n",
    "        {\n",
    "            'type': 'hist',\n",
    "            'column': tweets['num_urls'],\n",
    "            'title': 'Url Counts',\n",
    "            'yscale': 'log',\n",
    "        },\n",
    "        {\n",
    "            'type': 'hist',\n",
    "            'column': tweets['num_mentions'],\n",
    "            'title': 'Mentions Counts',\n",
    "            'yscale': 'log',\n",
    "        },\n",
    "        {\n",
    "            'type': 'hist',\n",
    "            'column': tweets['created_at'][tweets['created_at'] > pd.Timestamp(OUTLIER_TIMESTAMP)],\n",
    "            'title': 'Tweets Creation Date Distribution',\n",
    "            'yscale': 'log',\n",
    "        }\n",
    "    ]\n",
    "\n",
    "    build_grid_plot(configs=configs)\n",
    "\n",
    "plot_hist_tweets()"
   ]
  },
  {
   "cell_type": "markdown",
   "metadata": {},
   "source": [
    "In all numerical columns there are outliers to remove."
   ]
  },
  {
   "cell_type": "markdown",
   "metadata": {},
   "source": [
    "### Outlier detection\n",
    "\n",
    "We plot box-plots and cut replace huge outliers."
   ]
  },
  {
   "cell_type": "markdown",
   "metadata": {},
   "source": [
    "`boxplot_tweets_show` is a function used to plot box-plots of tweets columns."
   ]
  },
  {
   "cell_type": "code",
   "execution_count": 37,
   "metadata": {
    "pycharm": {
     "is_executing": true
    }
   },
   "outputs": [
    {
     "data": {
      "image/png": "[encoded data removed]",
      "text/plain": [
       "<Figure size 2000x1000 with 6 Axes>"
      ]
     },
     "metadata": {},
     "output_type": "display_data"
    }
   ],
   "source": [
    "def boxplot_tweets_show(yscale='linear'):\n",
    "    configs = [\n",
    "        {\n",
    "            'type': 'boxplot',\n",
    "            'df': tweets,\n",
    "            'columns': ['retweet_count'],\n",
    "            'yscale': yscale,\n",
    "        },\n",
    "        {\n",
    "            'type': 'boxplot',\n",
    "            'df': tweets,\n",
    "            'columns': ['reply_count'],\n",
    "            'yscale': yscale,\n",
    "        },\n",
    "        {\n",
    "            'type': 'boxplot',\n",
    "            'df': tweets,\n",
    "            'columns': ['favorite_count'],\n",
    "            'yscale': yscale,\n",
    "        },\n",
    "        {\n",
    "            'type': 'boxplot',\n",
    "            'df': tweets,\n",
    "            'columns': ['num_hashtags'],\n",
    "            'yscale': yscale,\n",
    "        },\n",
    "        {\n",
    "            'type': 'boxplot',\n",
    "            'df': tweets,\n",
    "            'columns': ['num_urls'],\n",
    "            'yscale': yscale,\n",
    "        },\n",
    "        {\n",
    "            'type': 'boxplot',\n",
    "            'df': tweets,\n",
    "            'columns': ['num_mentions'],\n",
    "            'yscale': yscale,\n",
    "        },\n",
    "    ]\n",
    "\n",
    "    build_grid_plot(configs=configs)\n",
    "\n",
    "boxplot_tweets_show()"
   ]
  },
  {
   "cell_type": "markdown",
   "metadata": {},
   "source": [
    "We show the percentage of outliers over the superior whisker of box-plot."
   ]
  },
  {
   "cell_type": "code",
   "execution_count": 38,
   "metadata": {},
   "outputs": [
    {
     "name": "stdout",
     "output_type": "stream",
     "text": [
      "2022-11-05 11:11:47,190 - root - INFO - 16.036753104357267 % of column retweet_count are over superior whisker that is 2.5\n",
      "2022-11-05 11:11:47,305 - root - INFO - 0.17113449115832727 % of column reply_count are over superior whisker that is 0.0\n",
      "2022-11-05 11:11:47,768 - root - INFO - 19.646249325129137 % of column favorite_count are over superior whisker that is 0.0\n",
      "2022-11-05 11:11:48,134 - root - INFO - 11.305687986465863 % of column num_hashtags are over superior whisker that is 0.0\n",
      "2022-11-05 11:11:48,555 - root - INFO - 16.03267198017996 % of column num_urls are over superior whisker that is 0.0\n",
      "2022-11-05 11:11:48,779 - root - INFO - 2.2799166126007 % of column num_mentions are over superior whisker that is 2.5\n"
     ]
    }
   ],
   "source": [
    "for col in ['retweet_count', 'reply_count', 'favorite_count', 'num_hashtags', 'num_urls', 'num_mentions']:\n",
    "    Q1 = np.quantile(tweets[col], 0.25)\n",
    "    Q3 = np.quantile(tweets[col], 0.75)\n",
    "    IQR = Q3 - Q1\n",
    "    superior_whisker = Q3 + 1.5 * IQR\n",
    "    outliers_perc = len(tweets[tweets[col] > superior_whisker]) / len(tweets) * 100\n",
    "    lg.info(f'{outliers_perc} % of column {col} are over superior whisker that is {superior_whisker}')"
   ]
  },
  {
   "cell_type": "markdown",
   "metadata": {},
   "source": [
    "Here we replace outlier values over a certain threshold with median."
   ]
  },
  {
   "cell_type": "code",
   "execution_count": 39,
   "metadata": {
    "pycharm": {
     "is_executing": true
    }
   },
   "outputs": [
    {
     "name": "stdout",
     "output_type": "stream",
     "text": [
      "2022-11-05 11:11:48,803 - root - INFO - 491 (0.004782415205392071%) element replaced for column retweet_count\n"
     ]
    },
    {
     "name": "stderr",
     "output_type": "stream",
     "text": [
      "/usr/local/lib/python3.10/dist-packages/pandarallel/data_types/series.py:42: FutureWarning: The behavior of `series[i:j]` with an integer-dtype index is deprecated. In a future version, this will be treated as *label-based* indexing, consistent with e.g. `series[i]` lookups. To retain the old behavior, use `series.iloc[i:j]`. To get the future behavior, use `series.loc[i:j]`.\n",
      "  yield data[chunk_]\n"
     ]
    },
    {
     "data": {
      "application/vnd.jupyter.widget-view+json": {
       "model_id": "cf2e9f54c53f454aa6b8b223dd4349ac",
       "version_major": 2,
       "version_minor": 0
      },
      "text/plain": [
       "VBox(children=(HBox(children=(IntProgress(value=0, description='0.00%', max=2053356), Label(value='0 / 2053356…"
      ]
     },
     "metadata": {},
     "output_type": "display_data"
    },
    {
     "name": "stdout",
     "output_type": "stream",
     "text": [
      "2022-11-05 11:11:53,868 - root - INFO - 31 (0.0003019447482019434%) element replaced for column reply_count\n"
     ]
    },
    {
     "name": "stderr",
     "output_type": "stream",
     "text": [
      "/usr/local/lib/python3.10/dist-packages/pandarallel/data_types/series.py:42: FutureWarning: The behavior of `series[i:j]` with an integer-dtype index is deprecated. In a future version, this will be treated as *label-based* indexing, consistent with e.g. `series[i]` lookups. To retain the old behavior, use `series.iloc[i:j]`. To get the future behavior, use `series.loc[i:j]`.\n",
      "  yield data[chunk_]\n"
     ]
    },
    {
     "data": {
      "application/vnd.jupyter.widget-view+json": {
       "model_id": "b551cc8f9ecf4aacb559fb30a97ad0f8",
       "version_major": 2,
       "version_minor": 0
      },
      "text/plain": [
       "VBox(children=(HBox(children=(IntProgress(value=0, description='0.00%', max=2053356), Label(value='0 / 2053356…"
      ]
     },
     "metadata": {},
     "output_type": "display_data"
    },
    {
     "name": "stdout",
     "output_type": "stream",
     "text": [
      "2022-11-05 11:11:58,031 - root - INFO - 49 (0.00047726750522242663%) element replaced for column favorite_count\n"
     ]
    },
    {
     "name": "stderr",
     "output_type": "stream",
     "text": [
      "/usr/local/lib/python3.10/dist-packages/pandarallel/data_types/series.py:42: FutureWarning: The behavior of `series[i:j]` with an integer-dtype index is deprecated. In a future version, this will be treated as *label-based* indexing, consistent with e.g. `series[i]` lookups. To retain the old behavior, use `series.iloc[i:j]`. To get the future behavior, use `series.loc[i:j]`.\n",
      "  yield data[chunk_]\n"
     ]
    },
    {
     "data": {
      "application/vnd.jupyter.widget-view+json": {
       "model_id": "b7539a430e4c44909bbe82568a069623",
       "version_major": 2,
       "version_minor": 0
      },
      "text/plain": [
       "VBox(children=(HBox(children=(IntProgress(value=0, description='0.00%', max=2053356), Label(value='0 / 2053356…"
      ]
     },
     "metadata": {},
     "output_type": "display_data"
    },
    {
     "name": "stdout",
     "output_type": "stream",
     "text": [
      "2022-11-05 11:12:02,973 - root - INFO - 22 (0.00021428336969170177%) element replaced for column num_hashtags\n"
     ]
    },
    {
     "name": "stderr",
     "output_type": "stream",
     "text": [
      "/usr/local/lib/python3.10/dist-packages/pandarallel/data_types/series.py:42: FutureWarning: The behavior of `series[i:j]` with an integer-dtype index is deprecated. In a future version, this will be treated as *label-based* indexing, consistent with e.g. `series[i]` lookups. To retain the old behavior, use `series.iloc[i:j]`. To get the future behavior, use `series.loc[i:j]`.\n",
      "  yield data[chunk_]\n"
     ]
    },
    {
     "data": {
      "application/vnd.jupyter.widget-view+json": {
       "model_id": "08ecdf44626c4d489dcfe693699b07c2",
       "version_major": 2,
       "version_minor": 0
      },
      "text/plain": [
       "VBox(children=(HBox(children=(IntProgress(value=0, description='0.00%', max=2053356), Label(value='0 / 2053356…"
      ]
     },
     "metadata": {},
     "output_type": "display_data"
    },
    {
     "name": "stdout",
     "output_type": "stream",
     "text": [
      "2022-11-05 11:12:06,971 - root - INFO - 21 (0.00020454321652389713%) element replaced for column num_urls\n"
     ]
    },
    {
     "name": "stderr",
     "output_type": "stream",
     "text": [
      "/usr/local/lib/python3.10/dist-packages/pandarallel/data_types/series.py:42: FutureWarning: The behavior of `series[i:j]` with an integer-dtype index is deprecated. In a future version, this will be treated as *label-based* indexing, consistent with e.g. `series[i]` lookups. To retain the old behavior, use `series.iloc[i:j]`. To get the future behavior, use `series.loc[i:j]`.\n",
      "  yield data[chunk_]\n"
     ]
    },
    {
     "data": {
      "application/vnd.jupyter.widget-view+json": {
       "model_id": "de686929dd254eaf991c728e13ca6969",
       "version_major": 2,
       "version_minor": 0
      },
      "text/plain": [
       "VBox(children=(HBox(children=(IntProgress(value=0, description='0.00%', max=2053356), Label(value='0 / 2053356…"
      ]
     },
     "metadata": {},
     "output_type": "display_data"
    },
    {
     "name": "stdout",
     "output_type": "stream",
     "text": [
      "2022-11-05 11:12:11,850 - root - INFO - 30 (0.0002922045950341387%) element replaced for column num_mentions\n"
     ]
    },
    {
     "name": "stderr",
     "output_type": "stream",
     "text": [
      "/usr/local/lib/python3.10/dist-packages/pandarallel/data_types/series.py:42: FutureWarning: The behavior of `series[i:j]` with an integer-dtype index is deprecated. In a future version, this will be treated as *label-based* indexing, consistent with e.g. `series[i]` lookups. To retain the old behavior, use `series.iloc[i:j]`. To get the future behavior, use `series.loc[i:j]`.\n",
      "  yield data[chunk_]\n"
     ]
    },
    {
     "data": {
      "application/vnd.jupyter.widget-view+json": {
       "model_id": "1e19a226f098402f99e737e9d20aa82b",
       "version_major": 2,
       "version_minor": 0
      },
      "text/plain": [
       "VBox(children=(HBox(children=(IntProgress(value=0, description='0.00%', max=2053356), Label(value='0 / 2053356…"
      ]
     },
     "metadata": {},
     "output_type": "display_data"
    },
    {
     "data": {
      "image/png": "[encoded data removed]",
      "text/plain": [
       "<Figure size 2000x1000 with 6 Axes>"
      ]
     },
     "metadata": {},
     "output_type": "display_data"
    }
   ],
   "source": [
    "def replace_outliers(df, column_name, threshold):\n",
    "    column = df[column_name]\n",
    "    to_replace = len(column[column > threshold])\n",
    "    perc_to_replace = to_replace / len(column) * 100\n",
    "    lg.info(f'{to_replace} ({perc_to_replace}%) element replaced for column {column_name}')\n",
    "    median = column.median()\n",
    "    df[column_name] = column.parallel_map(lambda x: median if x > threshold else x)\n",
    "\n",
    "replace_outliers(tweets, 'retweet_count', 4.5e5)\n",
    "replace_outliers(tweets, 'reply_count', 1e4)\n",
    "replace_outliers(tweets, 'favorite_count', 8.5e4)\n",
    "replace_outliers(tweets, 'num_hashtags', 1e4)\n",
    "replace_outliers(tweets, 'num_urls', 1e4)\n",
    "replace_outliers(tweets, 'num_mentions', 1e4)\n",
    "\n",
    "boxplot_tweets_show()"
   ]
  },
  {
   "cell_type": "markdown",
   "metadata": {},
   "source": [
    "### Correlation"
   ]
  },
  {
   "cell_type": "markdown",
   "metadata": {},
   "source": [
    "Users dataset correlation matrix."
   ]
  },
  {
   "cell_type": "code",
   "execution_count": 40,
   "metadata": {},
   "outputs": [
    {
     "data": {
      "text/html": [
       "<style type=\"text/css\">\n",
       "#T_770ba_row0_col0, #T_770ba_row1_col1 {\n",
       "  background-color: #b40426;\n",
       "  color: #f1f1f1;\n",
       "}\n",
       "#T_770ba_row0_col1, #T_770ba_row1_col0 {\n",
       "  background-color: #3b4cc0;\n",
       "  color: #f1f1f1;\n",
       "}\n",
       "</style>\n",
       "<table id=\"T_770ba\">\n",
       "  <thead>\n",
       "    <tr>\n",
       "      <th class=\"blank level0\" >&nbsp;</th>\n",
       "      <th id=\"T_770ba_level0_col0\" class=\"col_heading level0 col0\" >statuses_count</th>\n",
       "      <th id=\"T_770ba_level0_col1\" class=\"col_heading level0 col1\" >bot</th>\n",
       "    </tr>\n",
       "  </thead>\n",
       "  <tbody>\n",
       "    <tr>\n",
       "      <th id=\"T_770ba_level0_row0\" class=\"row_heading level0 row0\" >statuses_count</th>\n",
       "      <td id=\"T_770ba_row0_col0\" class=\"data row0 col0\" >1.000000</td>\n",
       "      <td id=\"T_770ba_row0_col1\" class=\"data row0 col1\" >-0.255156</td>\n",
       "    </tr>\n",
       "    <tr>\n",
       "      <th id=\"T_770ba_level0_row1\" class=\"row_heading level0 row1\" >bot</th>\n",
       "      <td id=\"T_770ba_row1_col0\" class=\"data row1 col0\" >-0.255156</td>\n",
       "      <td id=\"T_770ba_row1_col1\" class=\"data row1 col1\" >1.000000</td>\n",
       "    </tr>\n",
       "  </tbody>\n",
       "</table>\n"
      ],
      "text/plain": [
       "<pandas.io.formats.style.Styler at 0x7effadc0a950>"
      ]
     },
     "execution_count": 40,
     "metadata": {},
     "output_type": "execute_result"
    }
   ],
   "source": [
    "users_num_cols = ['statuses_count', 'bot']\n",
    "corr = users.corr(method='pearson', numeric_only=True).loc[users_num_cols, users_num_cols]\n",
    "corr.style.background_gradient(cmap='coolwarm')"
   ]
  },
  {
   "cell_type": "markdown",
   "metadata": {},
   "source": [
    "Tweets dataset correlation matrix."
   ]
  },
  {
   "cell_type": "code",
   "execution_count": 41,
   "metadata": {},
   "outputs": [
    {
     "data": {
      "text/html": [
       "<style type=\"text/css\">\n",
       "#T_78c26_row0_col0, #T_78c26_row1_col1, #T_78c26_row2_col2, #T_78c26_row3_col3, #T_78c26_row4_col4, #T_78c26_row5_col5 {\n",
       "  background-color: #b40426;\n",
       "  color: #f1f1f1;\n",
       "}\n",
       "#T_78c26_row0_col1, #T_78c26_row0_col3, #T_78c26_row0_col4, #T_78c26_row0_col5, #T_78c26_row1_col0, #T_78c26_row1_col3, #T_78c26_row1_col4, #T_78c26_row1_col5, #T_78c26_row2_col3, #T_78c26_row2_col4, #T_78c26_row2_col5, #T_78c26_row3_col0, #T_78c26_row3_col1, #T_78c26_row3_col2, #T_78c26_row3_col4, #T_78c26_row3_col5, #T_78c26_row4_col0, #T_78c26_row4_col1, #T_78c26_row4_col2, #T_78c26_row4_col3, #T_78c26_row4_col5, #T_78c26_row5_col0, #T_78c26_row5_col1, #T_78c26_row5_col2, #T_78c26_row5_col3, #T_78c26_row5_col4 {\n",
       "  background-color: #3b4cc0;\n",
       "  color: #f1f1f1;\n",
       "}\n",
       "#T_78c26_row0_col2, #T_78c26_row2_col0 {\n",
       "  background-color: #3d50c3;\n",
       "  color: #f1f1f1;\n",
       "}\n",
       "#T_78c26_row1_col2, #T_78c26_row2_col1 {\n",
       "  background-color: #3f53c6;\n",
       "  color: #f1f1f1;\n",
       "}\n",
       "</style>\n",
       "<table id=\"T_78c26\">\n",
       "  <thead>\n",
       "    <tr>\n",
       "      <th class=\"blank level0\" >&nbsp;</th>\n",
       "      <th id=\"T_78c26_level0_col0\" class=\"col_heading level0 col0\" >retweet_count</th>\n",
       "      <th id=\"T_78c26_level0_col1\" class=\"col_heading level0 col1\" >reply_count</th>\n",
       "      <th id=\"T_78c26_level0_col2\" class=\"col_heading level0 col2\" >favorite_count</th>\n",
       "      <th id=\"T_78c26_level0_col3\" class=\"col_heading level0 col3\" >num_hashtags</th>\n",
       "      <th id=\"T_78c26_level0_col4\" class=\"col_heading level0 col4\" >num_urls</th>\n",
       "      <th id=\"T_78c26_level0_col5\" class=\"col_heading level0 col5\" >num_mentions</th>\n",
       "    </tr>\n",
       "  </thead>\n",
       "  <tbody>\n",
       "    <tr>\n",
       "      <th id=\"T_78c26_level0_row0\" class=\"row_heading level0 row0\" >retweet_count</th>\n",
       "      <td id=\"T_78c26_row0_col0\" class=\"data row0 col0\" >1.000000</td>\n",
       "      <td id=\"T_78c26_row0_col1\" class=\"data row0 col1\" >0.001338</td>\n",
       "      <td id=\"T_78c26_row0_col2\" class=\"data row0 col2\" >0.010977</td>\n",
       "      <td id=\"T_78c26_row0_col3\" class=\"data row0 col3\" >0.000073</td>\n",
       "      <td id=\"T_78c26_row0_col4\" class=\"data row0 col4\" >-0.000374</td>\n",
       "      <td id=\"T_78c26_row0_col5\" class=\"data row0 col5\" >0.002544</td>\n",
       "    </tr>\n",
       "    <tr>\n",
       "      <th id=\"T_78c26_level0_row1\" class=\"row_heading level0 row1\" >reply_count</th>\n",
       "      <td id=\"T_78c26_row1_col0\" class=\"data row1 col0\" >0.001338</td>\n",
       "      <td id=\"T_78c26_row1_col1\" class=\"data row1 col1\" >1.000000</td>\n",
       "      <td id=\"T_78c26_row1_col2\" class=\"data row1 col2\" >0.017521</td>\n",
       "      <td id=\"T_78c26_row1_col3\" class=\"data row1 col3\" >-0.000023</td>\n",
       "      <td id=\"T_78c26_row1_col4\" class=\"data row1 col4\" >-0.000013</td>\n",
       "      <td id=\"T_78c26_row1_col5\" class=\"data row1 col5\" >0.000003</td>\n",
       "    </tr>\n",
       "    <tr>\n",
       "      <th id=\"T_78c26_level0_row2\" class=\"row_heading level0 row2\" >favorite_count</th>\n",
       "      <td id=\"T_78c26_row2_col0\" class=\"data row2 col0\" >0.010977</td>\n",
       "      <td id=\"T_78c26_row2_col1\" class=\"data row2 col1\" >0.017521</td>\n",
       "      <td id=\"T_78c26_row2_col2\" class=\"data row2 col2\" >1.000000</td>\n",
       "      <td id=\"T_78c26_row2_col3\" class=\"data row2 col3\" >0.000285</td>\n",
       "      <td id=\"T_78c26_row2_col4\" class=\"data row2 col4\" >0.000141</td>\n",
       "      <td id=\"T_78c26_row2_col5\" class=\"data row2 col5\" >0.000263</td>\n",
       "    </tr>\n",
       "    <tr>\n",
       "      <th id=\"T_78c26_level0_row3\" class=\"row_heading level0 row3\" >num_hashtags</th>\n",
       "      <td id=\"T_78c26_row3_col0\" class=\"data row3 col0\" >0.000073</td>\n",
       "      <td id=\"T_78c26_row3_col1\" class=\"data row3 col1\" >-0.000023</td>\n",
       "      <td id=\"T_78c26_row3_col2\" class=\"data row3 col2\" >0.000285</td>\n",
       "      <td id=\"T_78c26_row3_col3\" class=\"data row3 col3\" >1.000000</td>\n",
       "      <td id=\"T_78c26_row3_col4\" class=\"data row3 col4\" >0.000048</td>\n",
       "      <td id=\"T_78c26_row3_col5\" class=\"data row3 col5\" >0.000119</td>\n",
       "    </tr>\n",
       "    <tr>\n",
       "      <th id=\"T_78c26_level0_row4\" class=\"row_heading level0 row4\" >num_urls</th>\n",
       "      <td id=\"T_78c26_row4_col0\" class=\"data row4 col0\" >-0.000374</td>\n",
       "      <td id=\"T_78c26_row4_col1\" class=\"data row4 col1\" >-0.000013</td>\n",
       "      <td id=\"T_78c26_row4_col2\" class=\"data row4 col2\" >0.000141</td>\n",
       "      <td id=\"T_78c26_row4_col3\" class=\"data row4 col3\" >0.000048</td>\n",
       "      <td id=\"T_78c26_row4_col4\" class=\"data row4 col4\" >1.000000</td>\n",
       "      <td id=\"T_78c26_row4_col5\" class=\"data row4 col5\" >-0.000110</td>\n",
       "    </tr>\n",
       "    <tr>\n",
       "      <th id=\"T_78c26_level0_row5\" class=\"row_heading level0 row5\" >num_mentions</th>\n",
       "      <td id=\"T_78c26_row5_col0\" class=\"data row5 col0\" >0.002544</td>\n",
       "      <td id=\"T_78c26_row5_col1\" class=\"data row5 col1\" >0.000003</td>\n",
       "      <td id=\"T_78c26_row5_col2\" class=\"data row5 col2\" >0.000263</td>\n",
       "      <td id=\"T_78c26_row5_col3\" class=\"data row5 col3\" >0.000119</td>\n",
       "      <td id=\"T_78c26_row5_col4\" class=\"data row5 col4\" >-0.000110</td>\n",
       "      <td id=\"T_78c26_row5_col5\" class=\"data row5 col5\" >1.000000</td>\n",
       "    </tr>\n",
       "  </tbody>\n",
       "</table>\n"
      ],
      "text/plain": [
       "<pandas.io.formats.style.Styler at 0x7efebfdc3be0>"
      ]
     },
     "execution_count": 41,
     "metadata": {},
     "output_type": "execute_result"
    }
   ],
   "source": [
    "tweets_num_cols = ['retweet_count', 'reply_count', 'favorite_count', 'num_hashtags', 'num_urls', 'num_mentions']\n",
    "corr = tweets.corr(method='pearson', numeric_only=True).loc[tweets_num_cols, tweets_num_cols]\n",
    "corr.style.background_gradient(cmap='coolwarm')"
   ]
  },
  {
   "cell_type": "markdown",
   "metadata": {},
   "source": [
    "Scatterplot of tweets attributes with highest correlation to investigate their behavior."
   ]
  },
  {
   "cell_type": "code",
   "execution_count": 42,
   "metadata": {
    "pycharm": {
     "is_executing": true
    }
   },
   "outputs": [
    {
     "data": {
      "text/plain": [
       "<Figure size 2000x1000 with 0 Axes>"
      ]
     },
     "metadata": {},
     "output_type": "display_data"
    },
    {
     "data": {
      "image/png": "[encoded data removed]",
      "text/plain": [
       "<Figure size 640x480 with 1 Axes>"
      ]
     },
     "metadata": {},
     "output_type": "display_data"
    }
   ],
   "source": [
    "plt.figure(figsize=(20, 10))\n",
    "tweets.plot.scatter(x='reply_count', y='favorite_count')\n",
    "plt.show()"
   ]
  },
  {
   "cell_type": "markdown",
   "metadata": {},
   "source": [
    "Principal Component Analysis on tweets dataset to investigate correlation between firsts two eigenvector that identifies main variability of tweets."
   ]
  },
  {
   "cell_type": "code",
   "execution_count": 43,
   "metadata": {},
   "outputs": [
    {
     "data": {
      "image/png": "[encoded data removed]",
      "text/plain": [
       "<Figure size 640x480 with 1 Axes>"
      ]
     },
     "metadata": {},
     "output_type": "display_data"
    }
   ],
   "source": [
    "cat_tweets = tweets[tweets_num_cols]\n",
    "\n",
    "ranked_coveriance_matrix = PCA(n_components=2).fit_transform(cat_tweets)\n",
    "plt.scatter(ranked_coveriance_matrix[:, 0], ranked_coveriance_matrix[:, 1], s=20)\n",
    "plt.title(\"PCA\")\n",
    "plt.xlabel(\"1st eigenvector\")\n",
    "plt.ylabel(\"2nd eigenvector\")\n",
    "plt.show()"
   ]
  },
  {
   "cell_type": "code",
   "execution_count": 44,
   "metadata": {},
   "outputs": [],
   "source": [
    "# save outlier_detection tweets and users as pickle\n",
    "store_preprocessed_dataset(step_name=\"outlier_detection\", file_name=\"tweets.pickle\", df=tweets)\n",
    "store_preprocessed_dataset(step_name=\"outlier_detection\", file_name=\"users.pickle\", df=users)"
   ]
  }
 ],
 "metadata": {
  "kernelspec": {
   "display_name": "Python 3 (ipykernel)",
   "language": "python",
   "name": "python3"
  },
  "language_info": {
   "codemirror_mode": {
    "name": "ipython",
    "version": 3
   },
   "file_extension": ".py",
   "mimetype": "text/x-python",
   "name": "python",
   "nbconvert_exporter": "python",
   "pygments_lexer": "ipython3",
   "version": "3.10.6"
  },
  "toc-showmarkdowntxt": false
 },
 "nbformat": 4,
 "nbformat_minor": 4
}
