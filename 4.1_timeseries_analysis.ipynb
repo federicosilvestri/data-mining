{
 "cells": [
  {
   "cell_type": "markdown",
   "source": [
    "# DM - Timeseries analysis [TASK 4.1]"
   ],
   "metadata": {
    "collapsed": false
   }
  },
  {
   "cell_type": "markdown",
   "source": [
    "Library imports and initial settings."
   ],
   "metadata": {
    "collapsed": false
   }
  },
  {
   "cell_type": "code",
   "execution_count": 1,
   "outputs": [
    {
     "name": "stdout",
     "output_type": "stream",
     "text": [
      "INFO: Pandarallel will run on 5 workers.\n",
      "INFO: Pandarallel will use standard multiprocessing data transfer (pipe) to transfer data between the main process and workers.\n"
     ]
    }
   ],
   "source": [
    "import numpy as np\n",
    "import matplotlib.pyplot as plt\n",
    "import math\n",
    "from pandarallel import pandarallel\n",
    "import pandas as pd\n",
    "\n",
    "from utils import fetch_preprocessed_dataset, store_preprocessed_dataset, build_grid_plot\n",
    "\n",
    "import os\n",
    "import sys\n",
    "import logging as lg\n",
    "import warnings\n",
    "\n",
    "warnings.filterwarnings(\"ignore\")\n",
    "\n",
    "root = lg.getLogger()\n",
    "root.setLevel(lg.INFO)\n",
    "\n",
    "handler = lg.StreamHandler(sys.stdout)\n",
    "handler.setLevel(lg.DEBUG)\n",
    "formatter = lg.Formatter(\"%(asctime)s - %(name)s - %(levelname)s - %(message)s\")\n",
    "handler.setFormatter(formatter)\n",
    "root.addHandler(handler)\n",
    "\n",
    "nb_workers = int(os.cpu_count() / 2 + 1)\n",
    "\n",
    "pandarallel.initialize(\n",
    "    progress_bar=True,\n",
    "    nb_workers=nb_workers,\n",
    ")"
   ],
   "metadata": {
    "collapsed": false
   }
  },
  {
   "cell_type": "markdown",
   "source": [
    "Fetching users and tweets dataset saved."
   ],
   "metadata": {
    "collapsed": false
   }
  },
  {
   "cell_type": "code",
   "execution_count": 2,
   "outputs": [],
   "source": [
    "# Load the users_num dataset from csv\n",
    "dataset = fetch_preprocessed_dataset(step_name=\"outlier_detection\")\n",
    "users = dataset['users.pickle']\n",
    "tweets = dataset['tweets.pickle']"
   ],
   "metadata": {
    "collapsed": false
   }
  },
  {
   "cell_type": "code",
   "execution_count": 3,
   "outputs": [
    {
     "data": {
      "text/plain": "<bound method DataFrame.info of                id                name lang    bot          created_at  \\\n0      2353593986     Lamonica Raborn   en   True 2019-02-22 18:00:42   \n1      2358850842       Lourie Botton   en  False 2019-02-26 03:02:32   \n2       137959629    Dadan Syarifudin   en   True 2015-04-30 07:09:56   \n3       466124818      Carletto Focia   it   True 2017-01-18 02:49:18   \n4      2571493866           MBK Ebook   en  False 2019-06-18 19:30:21   \n...           ...                 ...  ...    ...                 ...   \n11503  2911861962  Madrid Lae Maika .   en  False 2019-11-29 13:16:02   \n11504  1378532629           Clau Sato   en  False 2018-04-27 03:01:58   \n11505   126984069  ALMA LETICIA NUÑO    es  False 2015-03-29 17:01:24   \n11506  2383025796     Minnie Guadagno   en   True 2019-03-13 02:44:13   \n11507   933183398           Corvanna    en  False 2017-11-09 23:24:16   \n\n       statuses_count  \n0                  76  \n1                  54  \n2                   3  \n3                  50  \n4                7085  \n...               ...  \n11503            1126  \n11504            3024  \n11505               6  \n11506              42  \n11507            5279  \n\n[11508 rows x 6 columns]>"
     },
     "execution_count": 3,
     "metadata": {},
     "output_type": "execute_result"
    }
   ],
   "source": [
    "users.info"
   ],
   "metadata": {
    "collapsed": false
   }
  },
  {
   "cell_type": "code",
   "execution_count": 4,
   "outputs": [
    {
     "data": {
      "text/plain": "<bound method DataFrame.info of              user_id  retweet_count  reply_count  favorite_count  \\\n0          327746321            0.0          0.0             0.0   \n1          333722906            1.0          0.0             0.0   \n2         2379755827            0.0          0.0             0.0   \n3          466226882            0.0          0.0             0.0   \n4         1355537995          114.0          0.0             0.0   \n...              ...            ...          ...             ...   \n13664687  2272611686            1.0          0.0             3.0   \n13664689     8657052            0.0          0.0             1.0   \n13664691   587491046            0.0          0.0             0.0   \n13664694   127895572            0.0          0.0             1.0   \n13664695   465421036            3.0          0.0             4.0   \n\n          num_hashtags  num_urls  num_mentions          created_at  \\\n0                  0.0       0.0           0.0 2019-09-11 14:53:55   \n1                  0.0       0.0           1.0 2020-04-01 20:27:04   \n2                  0.0       0.0           1.0 2019-05-02 13:34:31   \n3                  0.0       0.0           0.0 2019-11-04 07:17:37   \n4                  1.0       0.0           1.0 2020-03-11 16:45:31   \n...                ...       ...           ...                 ...   \n13664687           0.0       0.0           0.0 2019-01-27 16:01:54   \n13664689           0.0       0.0           1.0 2019-04-26 02:53:34   \n13664691           0.0       0.0           1.0 2020-04-17 02:51:53   \n13664694           1.0       0.0           0.0 2019-03-07 19:56:55   \n13664695           0.0       0.0           0.0 2019-07-10 12:00:00   \n\n                                                       text  \n0         If man is a little lower than angels, then ang...  \n1         \"@BestWSHHVids: how do you say these words wit...  \n2                                       @LOLatComedy awsome  \n3         Stephen Hawkins: i buchi neri non esistono se ...  \n4               RT @tibbs_montris: So ready for Wednesday!   \n...                                                     ...  \n13664687  C'Ã¨ un momento in cui sentire ed ascoltare si...  \n13664689                                @_victoriamm twoot.  \n13664691  @warriors Congrats, maybe I'll be able to get ...  \n13664694   Shooting crew of porn movies. #TheWorstJobToHave  \n13664695  Qualcuno dovrÃ  pur dire a quelli che \"Twitter...  \n\n[10266779 rows x 9 columns]>"
     },
     "execution_count": 4,
     "metadata": {},
     "output_type": "execute_result"
    }
   ],
   "source": [
    "tweets.info"
   ],
   "metadata": {
    "collapsed": false
   }
  },
  {
   "cell_type": "code",
   "execution_count": 5,
   "outputs": [
    {
     "data": {
      "text/plain": "<bound method DataFrame.info of              user_id  retweet_count  reply_count  favorite_count  \\\n0          327746321            0.0          0.0             0.0   \n1          333722906            1.0          0.0             0.0   \n2         2379755827            0.0          0.0             0.0   \n3          466226882            0.0          0.0             0.0   \n4         1355537995          114.0          0.0             0.0   \n...              ...            ...          ...             ...   \n13664687  2272611686            1.0          0.0             3.0   \n13664689     8657052            0.0          0.0             1.0   \n13664691   587491046            0.0          0.0             0.0   \n13664694   127895572            0.0          0.0             1.0   \n13664695   465421036            3.0          0.0             4.0   \n\n          num_hashtags  num_urls  num_mentions          created_at  \\\n0                  0.0       0.0           0.0 2019-09-11 14:53:55   \n1                  0.0       0.0           1.0 2020-04-01 20:27:04   \n2                  0.0       0.0           1.0 2019-05-02 13:34:31   \n3                  0.0       0.0           0.0 2019-11-04 07:17:37   \n4                  1.0       0.0           1.0 2020-03-11 16:45:31   \n...                ...       ...           ...                 ...   \n13664687           0.0       0.0           0.0 2019-01-27 16:01:54   \n13664689           0.0       0.0           1.0 2019-04-26 02:53:34   \n13664691           0.0       0.0           1.0 2020-04-17 02:51:53   \n13664694           1.0       0.0           0.0 2019-03-07 19:56:55   \n13664695           0.0       0.0           0.0 2019-07-10 12:00:00   \n\n                                                       text  \n0         If man is a little lower than angels, then ang...  \n1         \"@BestWSHHVids: how do you say these words wit...  \n2                                       @LOLatComedy awsome  \n3         Stephen Hawkins: i buchi neri non esistono se ...  \n4               RT @tibbs_montris: So ready for Wednesday!   \n...                                                     ...  \n13664687  C'Ã¨ un momento in cui sentire ed ascoltare si...  \n13664689                                @_victoriamm twoot.  \n13664691  @warriors Congrats, maybe I'll be able to get ...  \n13664694   Shooting crew of porn movies. #TheWorstJobToHave  \n13664695  Qualcuno dovrÃ  pur dire a quelli che \"Twitter...  \n\n[10266779 rows x 9 columns]>"
     },
     "execution_count": 5,
     "metadata": {},
     "output_type": "execute_result"
    }
   ],
   "source": [
    "tweets.info"
   ],
   "metadata": {
    "collapsed": false
   }
  },
  {
   "cell_type": "markdown",
   "source": [
    "## Preprocessing"
   ],
   "metadata": {
    "collapsed": false
   }
  },
  {
   "cell_type": "markdown",
   "source": [
    "Tweets filtering by date. Here are used tweets of year 2019."
   ],
   "metadata": {
    "collapsed": false
   }
  },
  {
   "cell_type": "code",
   "execution_count": 6,
   "outputs": [
    {
     "data": {
      "text/plain": "VBox(children=(HBox(children=(IntProgress(value=0, description='0.00%', max=2053356), Label(value='0 / 2053356…",
      "application/vnd.jupyter.widget-view+json": {
       "version_major": 2,
       "version_minor": 0,
       "model_id": "c17db9c26eaa471a85455006183f290d"
      }
     },
     "metadata": {},
     "output_type": "display_data"
    },
    {
     "data": {
      "text/plain": "             user_id  retweet_count  reply_count  favorite_count  \\\n0          327746321            0.0          0.0             0.0   \n2         2379755827            0.0          0.0             0.0   \n3          466226882            0.0          0.0             0.0   \n9            5812422            0.0          0.0             0.0   \n10        2599346388            1.0          0.0             1.0   \n...              ...            ...          ...             ...   \n13664685   466207205            0.0          0.0             0.0   \n13664687  2272611686            1.0          0.0             3.0   \n13664689     8657052            0.0          0.0             1.0   \n13664694   127895572            0.0          0.0             1.0   \n13664695   465421036            3.0          0.0             4.0   \n\n          num_hashtags  num_urls  num_mentions          created_at  \\\n0                  0.0       0.0           0.0 2019-09-11 14:53:55   \n2                  0.0       0.0           1.0 2019-05-02 13:34:31   \n3                  0.0       0.0           0.0 2019-11-04 07:17:37   \n9                  0.0       0.0           3.0 2019-01-20 16:13:04   \n10                 0.0       0.0           0.0 2019-07-28 09:38:49   \n...                ...       ...           ...                 ...   \n13664685           0.0       0.0           0.0 2019-11-03 16:59:57   \n13664687           0.0       0.0           0.0 2019-01-27 16:01:54   \n13664689           0.0       0.0           1.0 2019-04-26 02:53:34   \n13664694           1.0       0.0           0.0 2019-03-07 19:56:55   \n13664695           0.0       0.0           0.0 2019-07-10 12:00:00   \n\n                                                       text  \n0         If man is a little lower than angels, then ang...  \n2                                       @LOLatComedy awsome  \n3         Stephen Hawkins: i buchi neri non esistono se ...  \n9         “@darrenrovell: Denver businesses keep taking ...  \n10        Where df @Sassy_ileana at man. When she's awak...  \n...                                                     ...  \n13664685  A volte mi piacerebbe sdoppiarmi per potermi a...  \n13664687  C'Ã¨ un momento in cui sentire ed ascoltare si...  \n13664689                                @_victoriamm twoot.  \n13664694   Shooting crew of porn movies. #TheWorstJobToHave  \n13664695  Qualcuno dovrÃ  pur dire a quelli che \"Twitter...  \n\n[4574708 rows x 9 columns]",
      "text/html": "<div>\n<style scoped>\n    .dataframe tbody tr th:only-of-type {\n        vertical-align: middle;\n    }\n\n    .dataframe tbody tr th {\n        vertical-align: top;\n    }\n\n    .dataframe thead th {\n        text-align: right;\n    }\n</style>\n<table border=\"1\" class=\"dataframe\">\n  <thead>\n    <tr style=\"text-align: right;\">\n      <th></th>\n      <th>user_id</th>\n      <th>retweet_count</th>\n      <th>reply_count</th>\n      <th>favorite_count</th>\n      <th>num_hashtags</th>\n      <th>num_urls</th>\n      <th>num_mentions</th>\n      <th>created_at</th>\n      <th>text</th>\n    </tr>\n  </thead>\n  <tbody>\n    <tr>\n      <th>0</th>\n      <td>327746321</td>\n      <td>0.0</td>\n      <td>0.0</td>\n      <td>0.0</td>\n      <td>0.0</td>\n      <td>0.0</td>\n      <td>0.0</td>\n      <td>2019-09-11 14:53:55</td>\n      <td>If man is a little lower than angels, then ang...</td>\n    </tr>\n    <tr>\n      <th>2</th>\n      <td>2379755827</td>\n      <td>0.0</td>\n      <td>0.0</td>\n      <td>0.0</td>\n      <td>0.0</td>\n      <td>0.0</td>\n      <td>1.0</td>\n      <td>2019-05-02 13:34:31</td>\n      <td>@LOLatComedy awsome</td>\n    </tr>\n    <tr>\n      <th>3</th>\n      <td>466226882</td>\n      <td>0.0</td>\n      <td>0.0</td>\n      <td>0.0</td>\n      <td>0.0</td>\n      <td>0.0</td>\n      <td>0.0</td>\n      <td>2019-11-04 07:17:37</td>\n      <td>Stephen Hawkins: i buchi neri non esistono se ...</td>\n    </tr>\n    <tr>\n      <th>9</th>\n      <td>5812422</td>\n      <td>0.0</td>\n      <td>0.0</td>\n      <td>0.0</td>\n      <td>0.0</td>\n      <td>0.0</td>\n      <td>3.0</td>\n      <td>2019-01-20 16:13:04</td>\n      <td>“@darrenrovell: Denver businesses keep taking ...</td>\n    </tr>\n    <tr>\n      <th>10</th>\n      <td>2599346388</td>\n      <td>1.0</td>\n      <td>0.0</td>\n      <td>1.0</td>\n      <td>0.0</td>\n      <td>0.0</td>\n      <td>0.0</td>\n      <td>2019-07-28 09:38:49</td>\n      <td>Where df @Sassy_ileana at man. When she's awak...</td>\n    </tr>\n    <tr>\n      <th>...</th>\n      <td>...</td>\n      <td>...</td>\n      <td>...</td>\n      <td>...</td>\n      <td>...</td>\n      <td>...</td>\n      <td>...</td>\n      <td>...</td>\n      <td>...</td>\n    </tr>\n    <tr>\n      <th>13664685</th>\n      <td>466207205</td>\n      <td>0.0</td>\n      <td>0.0</td>\n      <td>0.0</td>\n      <td>0.0</td>\n      <td>0.0</td>\n      <td>0.0</td>\n      <td>2019-11-03 16:59:57</td>\n      <td>A volte mi piacerebbe sdoppiarmi per potermi a...</td>\n    </tr>\n    <tr>\n      <th>13664687</th>\n      <td>2272611686</td>\n      <td>1.0</td>\n      <td>0.0</td>\n      <td>3.0</td>\n      <td>0.0</td>\n      <td>0.0</td>\n      <td>0.0</td>\n      <td>2019-01-27 16:01:54</td>\n      <td>C'Ã¨ un momento in cui sentire ed ascoltare si...</td>\n    </tr>\n    <tr>\n      <th>13664689</th>\n      <td>8657052</td>\n      <td>0.0</td>\n      <td>0.0</td>\n      <td>1.0</td>\n      <td>0.0</td>\n      <td>0.0</td>\n      <td>1.0</td>\n      <td>2019-04-26 02:53:34</td>\n      <td>@_victoriamm twoot.</td>\n    </tr>\n    <tr>\n      <th>13664694</th>\n      <td>127895572</td>\n      <td>0.0</td>\n      <td>0.0</td>\n      <td>1.0</td>\n      <td>1.0</td>\n      <td>0.0</td>\n      <td>0.0</td>\n      <td>2019-03-07 19:56:55</td>\n      <td>Shooting crew of porn movies. #TheWorstJobToHave</td>\n    </tr>\n    <tr>\n      <th>13664695</th>\n      <td>465421036</td>\n      <td>3.0</td>\n      <td>0.0</td>\n      <td>4.0</td>\n      <td>0.0</td>\n      <td>0.0</td>\n      <td>0.0</td>\n      <td>2019-07-10 12:00:00</td>\n      <td>Qualcuno dovrÃ  pur dire a quelli che \"Twitter...</td>\n    </tr>\n  </tbody>\n</table>\n<p>4574708 rows × 9 columns</p>\n</div>"
     },
     "execution_count": 6,
     "metadata": {},
     "output_type": "execute_result"
    }
   ],
   "source": [
    "INIT_2019_TIMESTAMP = pd.Timestamp('2019-01-01')\n",
    "INIT_2020_TIMESTAMP = pd.Timestamp('2020-01-01')\n",
    "\n",
    "mask_tweets_2019 = tweets['created_at'].parallel_map(lambda t: INIT_2019_TIMESTAMP <= t < INIT_2020_TIMESTAMP)\n",
    "tweets2019 = tweets[mask_tweets_2019]\n",
    "\n",
    "tweets2019"
   ],
   "metadata": {
    "collapsed": false
   }
  },
  {
   "cell_type": "markdown",
   "source": [
    "Computation of indexes `acceptance_score` and `diffusion_score` to combine them in the `success_score`."
   ],
   "metadata": {
    "collapsed": false
   }
  },
  {
   "cell_type": "code",
   "execution_count": 7,
   "outputs": [
    {
     "data": {
      "text/plain": "0           -1.000000\n1            0.909091\n2           -1.000000\n3           -1.000000\n4           54.285714\n              ...    \n13664687    40.000000\n13664689     0.909091\n13664691    -1.000000\n13664694     0.909091\n13664695    70.000000\nLength: 10266779, dtype: float64"
     },
     "execution_count": 7,
     "metadata": {},
     "output_type": "execute_result"
    }
   ],
   "source": [
    "acceptance_score = tweets['retweet_count'] + tweets['reply_count'] + tweets['favorite_count']\n",
    "diffusion_score = tweets['num_hashtags'] + tweets['num_mentions'] + tweets['num_urls']\n",
    "\n",
    "success_score = acceptance_score / (diffusion_score + 0.1)\n",
    "\n",
    "success_score = success_score.map(lambda s: -1 if s == 0 else s)\n",
    "\n",
    "success_score"
   ],
   "metadata": {
    "collapsed": false
   }
  },
  {
   "cell_type": "markdown",
   "source": [
    "## Timeseries clustering"
   ],
   "metadata": {
    "collapsed": false
   }
  },
  {
   "cell_type": "code",
   "execution_count": null,
   "outputs": [],
   "source": [],
   "metadata": {
    "collapsed": false
   }
  },
  {
   "cell_type": "markdown",
   "source": [
    "## Shapelets discovery"
   ],
   "metadata": {
    "collapsed": false
   }
  },
  {
   "cell_type": "code",
   "execution_count": null,
   "outputs": [],
   "source": [],
   "metadata": {
    "collapsed": false
   }
  }
 ],
 "metadata": {
  "kernelspec": {
   "display_name": "Python 3",
   "language": "python",
   "name": "python3"
  },
  "language_info": {
   "codemirror_mode": {
    "name": "ipython",
    "version": 2
   },
   "file_extension": ".py",
   "mimetype": "text/x-python",
   "name": "python",
   "nbconvert_exporter": "python",
   "pygments_lexer": "ipython2",
   "version": "2.7.6"
  }
 },
 "nbformat": 4,
 "nbformat_minor": 0
}
