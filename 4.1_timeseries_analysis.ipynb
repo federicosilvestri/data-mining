{
 "cells": [
  {
   "cell_type": "markdown",
   "source": [
    "# DM - Timeseries analysis [TASK 4.1]"
   ],
   "metadata": {
    "collapsed": false
   }
  },
  {
   "cell_type": "markdown",
   "source": [
    "Library imports and initial settings."
   ],
   "metadata": {
    "collapsed": false
   }
  },
  {
   "cell_type": "code",
   "execution_count": 1,
   "outputs": [
    {
     "name": "stdout",
     "output_type": "stream",
     "text": [
      "INFO: Pandarallel will run on 5 workers.\n",
      "INFO: Pandarallel will use standard multiprocessing data transfer (pipe) to transfer data between the main process and workers.\n"
     ]
    }
   ],
   "source": [
    "import numpy as np\n",
    "import matplotlib.pyplot as plt\n",
    "import math\n",
    "from pandarallel import pandarallel\n",
    "import pandas as pd\n",
    "\n",
    "from utils import fetch_preprocessed_dataset, store_preprocessed_dataset, build_grid_plot\n",
    "\n",
    "import os\n",
    "import sys\n",
    "import logging as lg\n",
    "import warnings\n",
    "\n",
    "warnings.filterwarnings(\"ignore\")\n",
    "\n",
    "root = lg.getLogger()\n",
    "root.setLevel(lg.INFO)\n",
    "\n",
    "handler = lg.StreamHandler(sys.stdout)\n",
    "handler.setLevel(lg.DEBUG)\n",
    "formatter = lg.Formatter(\"%(asctime)s - %(name)s - %(levelname)s - %(message)s\")\n",
    "handler.setFormatter(formatter)\n",
    "root.addHandler(handler)\n",
    "\n",
    "nb_workers = int(os.cpu_count() / 2 + 1)\n",
    "\n",
    "pandarallel.initialize(\n",
    "    progress_bar=True,\n",
    "    nb_workers=nb_workers,\n",
    ")"
   ],
   "metadata": {
    "collapsed": false
   }
  },
  {
   "cell_type": "markdown",
   "source": [
    "Fetching users and tweets dataset saved."
   ],
   "metadata": {
    "collapsed": false
   }
  },
  {
   "cell_type": "code",
   "execution_count": 2,
   "outputs": [],
   "source": [
    "# Load the users_num dataset from csv\n",
    "dataset = fetch_preprocessed_dataset(step_name=\"outlier_detection\")\n",
    "users = dataset['users.pickle']\n",
    "tweets = dataset['tweets.pickle']"
   ],
   "metadata": {
    "collapsed": false
   }
  },
  {
   "cell_type": "code",
   "execution_count": 3,
   "outputs": [
    {
     "name": "stdout",
     "output_type": "stream",
     "text": [
      "<class 'pandas.core.frame.DataFrame'>\n",
      "Int64Index: 11508 entries, 0 to 11507\n",
      "Data columns (total 6 columns):\n",
      " #   Column          Non-Null Count  Dtype         \n",
      "---  ------          --------------  -----         \n",
      " 0   id              11508 non-null  int64         \n",
      " 1   name            11508 non-null  string        \n",
      " 2   lang            11508 non-null  string        \n",
      " 3   bot             11508 non-null  bool          \n",
      " 4   created_at      11508 non-null  datetime64[ns]\n",
      " 5   statuses_count  11508 non-null  int64         \n",
      "dtypes: bool(1), datetime64[ns](1), int64(2), string(2)\n",
      "memory usage: 550.7 KB\n"
     ]
    }
   ],
   "source": [
    "users.info()"
   ],
   "metadata": {
    "collapsed": false
   }
  },
  {
   "cell_type": "code",
   "execution_count": 4,
   "outputs": [
    {
     "name": "stdout",
     "output_type": "stream",
     "text": [
      "<class 'pandas.core.frame.DataFrame'>\n",
      "Int64Index: 10266779 entries, 0 to 13664695\n",
      "Data columns (total 9 columns):\n",
      " #   Column          Dtype         \n",
      "---  ------          -----         \n",
      " 0   user_id         object        \n",
      " 1   retweet_count   float64       \n",
      " 2   reply_count     float64       \n",
      " 3   favorite_count  float64       \n",
      " 4   num_hashtags    float64       \n",
      " 5   num_urls        float64       \n",
      " 6   num_mentions    float64       \n",
      " 7   created_at      datetime64[ns]\n",
      " 8   text            string        \n",
      "dtypes: datetime64[ns](1), float64(6), object(1), string(1)\n",
      "memory usage: 783.3+ MB\n"
     ]
    }
   ],
   "source": [
    "tweets.info()"
   ],
   "metadata": {
    "collapsed": false
   }
  },
  {
   "cell_type": "markdown",
   "source": [
    "## Preprocessing"
   ],
   "metadata": {
    "collapsed": false
   }
  },
  {
   "cell_type": "markdown",
   "source": [
    "Remove tweets with invalid `user_id`."
   ],
   "metadata": {
    "collapsed": false
   }
  },
  {
   "cell_type": "code",
   "execution_count": 5,
   "outputs": [],
   "source": [
    "user_ids = set([str(i) for i in users['id'].values.tolist()])\n",
    "\n",
    "tweets = tweets[tweets['user_id'].map(lambda i: i in user_ids)].astype({'user_id': 'int64'})"
   ],
   "metadata": {
    "collapsed": false
   }
  },
  {
   "cell_type": "markdown",
   "source": [
    "Tweets filtering by date. Here are used tweets of year 2019."
   ],
   "metadata": {
    "collapsed": false
   }
  },
  {
   "cell_type": "code",
   "execution_count": 6,
   "outputs": [
    {
     "data": {
      "text/plain": "VBox(children=(HBox(children=(IntProgress(value=0, description='0.00%', max=2010486), Label(value='0 / 2010486…",
      "application/vnd.jupyter.widget-view+json": {
       "version_major": 2,
       "version_minor": 0,
       "model_id": "49750fd6333641e784756a8e0c18eb2f"
      }
     },
     "metadata": {},
     "output_type": "display_data"
    },
    {
     "data": {
      "text/plain": "             user_id  retweet_count  reply_count  favorite_count  \\\n8384098   2240858066            0.0          0.0             0.0   \n6210422   2240858066            0.0          0.0             0.0   \n6852918   2240858066            4.0          0.0             0.0   \n192212     494302461            1.0          0.0             0.0   \n7159403    494302461            8.0          0.0             7.0   \n...              ...            ...          ...             ...   \n7460655   2275740517            1.0          0.0             1.0   \n12234385  2273349732            0.0          0.0             0.0   \n9099401   2275248397            0.0          0.0             0.0   \n9440580   2274254095            0.0          0.0             0.0   \n7783606   2287318956            0.0          0.0             3.0   \n\n          num_hashtags  num_urls  num_mentions          created_at  \\\n8384098            0.0       0.0           0.0 2019-01-01 00:21:18   \n6210422            0.0       0.0           0.0 2019-01-01 00:23:50   \n6852918            0.0       0.0           1.0 2019-01-01 00:24:30   \n192212             0.0       0.0           0.0 2019-01-01 00:47:32   \n7159403            0.0       0.0           0.0 2019-01-01 00:48:03   \n...                ...       ...           ...                 ...   \n7460655            0.0       0.0           0.0 2019-11-15 22:02:30   \n12234385           0.0       0.0           0.0 2019-11-15 22:03:55   \n9099401            0.0       0.0           0.0 2019-11-15 22:05:08   \n9440580            0.0       0.0           0.0 2019-11-15 22:10:43   \n7783606            0.0       0.0           0.0 2019-11-15 22:11:22   \n\n                                                       text  \n8384098               tava me sentindo super mal esses dias  \n6210422   Ãs vezes tudo o que a gente precisa pra se se...  \n6852918   RT @myh3ro: TO FAZENDO TODO MUNDO ASSISTIR SHE...  \n192212    Ã cosÃ¬, mente e cuore sono anarchici nella l...  \n7159403   Le cose piÃ¹ belle non sono perfette, sono spe...  \n...                                                     ...  \n7460655   Anche la mia mamma quando ero piccolo mi sgrid...  \n12234385  LE DIFFICOLTA' SONO COME LA CARTAIGIENICA... N...  \n9099401   Tra 20 anni sarai deluso per ciÃ² che non hai ...  \n9440580   Vuoi sapere chi sei? Non chiedertelo, agisci: ...  \n7783606   Prendi una donna e fai l'uomo. Rispettala semp...  \n\n[4474637 rows x 9 columns]",
      "text/html": "<div>\n<style scoped>\n    .dataframe tbody tr th:only-of-type {\n        vertical-align: middle;\n    }\n\n    .dataframe tbody tr th {\n        vertical-align: top;\n    }\n\n    .dataframe thead th {\n        text-align: right;\n    }\n</style>\n<table border=\"1\" class=\"dataframe\">\n  <thead>\n    <tr style=\"text-align: right;\">\n      <th></th>\n      <th>user_id</th>\n      <th>retweet_count</th>\n      <th>reply_count</th>\n      <th>favorite_count</th>\n      <th>num_hashtags</th>\n      <th>num_urls</th>\n      <th>num_mentions</th>\n      <th>created_at</th>\n      <th>text</th>\n    </tr>\n  </thead>\n  <tbody>\n    <tr>\n      <th>8384098</th>\n      <td>2240858066</td>\n      <td>0.0</td>\n      <td>0.0</td>\n      <td>0.0</td>\n      <td>0.0</td>\n      <td>0.0</td>\n      <td>0.0</td>\n      <td>2019-01-01 00:21:18</td>\n      <td>tava me sentindo super mal esses dias</td>\n    </tr>\n    <tr>\n      <th>6210422</th>\n      <td>2240858066</td>\n      <td>0.0</td>\n      <td>0.0</td>\n      <td>0.0</td>\n      <td>0.0</td>\n      <td>0.0</td>\n      <td>0.0</td>\n      <td>2019-01-01 00:23:50</td>\n      <td>Ãs vezes tudo o que a gente precisa pra se se...</td>\n    </tr>\n    <tr>\n      <th>6852918</th>\n      <td>2240858066</td>\n      <td>4.0</td>\n      <td>0.0</td>\n      <td>0.0</td>\n      <td>0.0</td>\n      <td>0.0</td>\n      <td>1.0</td>\n      <td>2019-01-01 00:24:30</td>\n      <td>RT @myh3ro: TO FAZENDO TODO MUNDO ASSISTIR SHE...</td>\n    </tr>\n    <tr>\n      <th>192212</th>\n      <td>494302461</td>\n      <td>1.0</td>\n      <td>0.0</td>\n      <td>0.0</td>\n      <td>0.0</td>\n      <td>0.0</td>\n      <td>0.0</td>\n      <td>2019-01-01 00:47:32</td>\n      <td>Ã cosÃ¬, mente e cuore sono anarchici nella l...</td>\n    </tr>\n    <tr>\n      <th>7159403</th>\n      <td>494302461</td>\n      <td>8.0</td>\n      <td>0.0</td>\n      <td>7.0</td>\n      <td>0.0</td>\n      <td>0.0</td>\n      <td>0.0</td>\n      <td>2019-01-01 00:48:03</td>\n      <td>Le cose piÃ¹ belle non sono perfette, sono spe...</td>\n    </tr>\n    <tr>\n      <th>...</th>\n      <td>...</td>\n      <td>...</td>\n      <td>...</td>\n      <td>...</td>\n      <td>...</td>\n      <td>...</td>\n      <td>...</td>\n      <td>...</td>\n      <td>...</td>\n    </tr>\n    <tr>\n      <th>7460655</th>\n      <td>2275740517</td>\n      <td>1.0</td>\n      <td>0.0</td>\n      <td>1.0</td>\n      <td>0.0</td>\n      <td>0.0</td>\n      <td>0.0</td>\n      <td>2019-11-15 22:02:30</td>\n      <td>Anche la mia mamma quando ero piccolo mi sgrid...</td>\n    </tr>\n    <tr>\n      <th>12234385</th>\n      <td>2273349732</td>\n      <td>0.0</td>\n      <td>0.0</td>\n      <td>0.0</td>\n      <td>0.0</td>\n      <td>0.0</td>\n      <td>0.0</td>\n      <td>2019-11-15 22:03:55</td>\n      <td>LE DIFFICOLTA' SONO COME LA CARTAIGIENICA... N...</td>\n    </tr>\n    <tr>\n      <th>9099401</th>\n      <td>2275248397</td>\n      <td>0.0</td>\n      <td>0.0</td>\n      <td>0.0</td>\n      <td>0.0</td>\n      <td>0.0</td>\n      <td>0.0</td>\n      <td>2019-11-15 22:05:08</td>\n      <td>Tra 20 anni sarai deluso per ciÃ² che non hai ...</td>\n    </tr>\n    <tr>\n      <th>9440580</th>\n      <td>2274254095</td>\n      <td>0.0</td>\n      <td>0.0</td>\n      <td>0.0</td>\n      <td>0.0</td>\n      <td>0.0</td>\n      <td>0.0</td>\n      <td>2019-11-15 22:10:43</td>\n      <td>Vuoi sapere chi sei? Non chiedertelo, agisci: ...</td>\n    </tr>\n    <tr>\n      <th>7783606</th>\n      <td>2287318956</td>\n      <td>0.0</td>\n      <td>0.0</td>\n      <td>3.0</td>\n      <td>0.0</td>\n      <td>0.0</td>\n      <td>0.0</td>\n      <td>2019-11-15 22:11:22</td>\n      <td>Prendi una donna e fai l'uomo. Rispettala semp...</td>\n    </tr>\n  </tbody>\n</table>\n<p>4474637 rows × 9 columns</p>\n</div>"
     },
     "execution_count": 6,
     "metadata": {},
     "output_type": "execute_result"
    }
   ],
   "source": [
    "INIT_2019_TIMESTAMP = pd.Timestamp('2019-01-01')\n",
    "INIT_2020_TIMESTAMP = pd.Timestamp('2020-01-01')\n",
    "\n",
    "mask_tweets_2019 = tweets['created_at'].parallel_map(lambda t: INIT_2019_TIMESTAMP <= t < INIT_2020_TIMESTAMP)\n",
    "tweets = tweets[mask_tweets_2019]\n",
    "tweets = tweets.sort_values(by=['created_at'])\n",
    "\n",
    "tweets"
   ],
   "metadata": {
    "collapsed": false
   }
  },
  {
   "cell_type": "markdown",
   "source": [
    "Computation of indexes `acceptance_score` and `diffusion_score` to combine them in the `success_score`."
   ],
   "metadata": {
    "collapsed": false
   }
  },
  {
   "cell_type": "code",
   "execution_count": 7,
   "outputs": [
    {
     "data": {
      "text/plain": "count    4.474637e+06\nmean     1.330052e+02\nstd      4.083036e+03\nmin     -1.000000e+00\n25%     -1.000000e+00\n50%     -1.000000e+00\n75%      9.090909e-01\nmax      1.823150e+06\nName: success_score, dtype: float64"
     },
     "execution_count": 7,
     "metadata": {},
     "output_type": "execute_result"
    }
   ],
   "source": [
    "acceptance_score = tweets['retweet_count'] + tweets['reply_count'] + tweets['favorite_count']\n",
    "diffusion_score = tweets['num_hashtags'] + tweets['num_mentions'] + tweets['num_urls']\n",
    "\n",
    "success_score = acceptance_score / (diffusion_score + 0.1)\n",
    "\n",
    "tweets[\"success_score\"] = success_score.map(lambda s: -1 if s == 0 else s)\n",
    "\n",
    "tweets[\"success_score\"].describe()"
   ],
   "metadata": {
    "collapsed": false
   }
  },
  {
   "cell_type": "markdown",
   "source": [
    "Useless columns removal."
   ],
   "metadata": {
    "collapsed": false
   }
  },
  {
   "cell_type": "code",
   "execution_count": 8,
   "outputs": [],
   "source": [
    "users = users[[\"id\", \"bot\"]]\n",
    "tweets = tweets[[\"user_id\", \"success_score\"]]"
   ],
   "metadata": {
    "collapsed": false
   }
  },
  {
   "cell_type": "markdown",
   "source": [
    "Success score timeseries column addition. Here it's created a new column for each users with the list of `success_score` ordered by `created_at` date."
   ],
   "metadata": {
    "collapsed": false
   }
  },
  {
   "cell_type": "code",
   "execution_count": 13,
   "outputs": [],
   "source": [
    "tweets_grouped_by_users = tweets.groupby(['user_id'])['success_score'].apply(list)\n",
    "\n",
    "users = users.merge(tweets_grouped_by_users.to_frame('success_score'), left_on='id', right_index=True)"
   ],
   "metadata": {
    "collapsed": false
   }
  },
  {
   "cell_type": "markdown",
   "source": [
    "`users` preprocessed dataframe."
   ],
   "metadata": {
    "collapsed": false
   }
  },
  {
   "cell_type": "code",
   "execution_count": 15,
   "outputs": [
    {
     "name": "stdout",
     "output_type": "stream",
     "text": [
      "<class 'pandas.core.frame.DataFrame'>\n",
      "Int64Index: 6787 entries, 0 to 11506\n",
      "Data columns (total 3 columns):\n",
      " #   Column         Non-Null Count  Dtype \n",
      "---  ------         --------------  ----- \n",
      " 0   id             6787 non-null   int64 \n",
      " 1   bot            6787 non-null   bool  \n",
      " 2   success_score  6787 non-null   object\n",
      "dtypes: bool(1), int64(1), object(1)\n",
      "memory usage: 165.7+ KB\n"
     ]
    }
   ],
   "source": [
    "users.info()"
   ],
   "metadata": {
    "collapsed": false
   }
  },
  {
   "cell_type": "code",
   "execution_count": 14,
   "outputs": [
    {
     "data": {
      "text/plain": "               id    bot                                      success_score\n0      2353593986   True  [-1.0, -1.0, -1.0, -1.0, -1.0, -1.0, -1.0, -1....\n1      2358850842  False  [-1.0, -1.0, -1.0, -1.0, -1.0, -1.0, -1.0, -1....\n3       466124818   True  [-1.0, 70.0, -1.0, -1.0, -1.0, -1.0, -1.0, -1....\n5      2199062688  False  [72.72727272727272, -1.0, 60.0, 10.0, 14499.99...\n9      2357425536   True  [-1.0, -1.0, -1.0, -1.0, -1.0, -1.0, -1.0, -1....\n...           ...    ...                                                ...\n11496    39220893  False  [1.8181818181818181, 0.9090909090909091, 17.09...\n11497  2364069194   True  [-1.0, -1.0, -1.0, -1.0, -1.0, -1.0, -1.0, -1....\n11501  2364683192   True  [-1.0, -1.0, -1.0, -1.0, -1.0, -1.0, -1.0, -1....\n11504  1378532629  False  [-1.0, 20.0, -1.0, -1.0, -1.0, -1.0, -1.0, -1....\n11506  2383025796   True  [-1.0, -1.0, -1.0, -1.0, -1.0, 10.0, -1.0, -1....\n\n[6787 rows x 3 columns]",
      "text/html": "<div>\n<style scoped>\n    .dataframe tbody tr th:only-of-type {\n        vertical-align: middle;\n    }\n\n    .dataframe tbody tr th {\n        vertical-align: top;\n    }\n\n    .dataframe thead th {\n        text-align: right;\n    }\n</style>\n<table border=\"1\" class=\"dataframe\">\n  <thead>\n    <tr style=\"text-align: right;\">\n      <th></th>\n      <th>id</th>\n      <th>bot</th>\n      <th>success_score</th>\n    </tr>\n  </thead>\n  <tbody>\n    <tr>\n      <th>0</th>\n      <td>2353593986</td>\n      <td>True</td>\n      <td>[-1.0, -1.0, -1.0, -1.0, -1.0, -1.0, -1.0, -1....</td>\n    </tr>\n    <tr>\n      <th>1</th>\n      <td>2358850842</td>\n      <td>False</td>\n      <td>[-1.0, -1.0, -1.0, -1.0, -1.0, -1.0, -1.0, -1....</td>\n    </tr>\n    <tr>\n      <th>3</th>\n      <td>466124818</td>\n      <td>True</td>\n      <td>[-1.0, 70.0, -1.0, -1.0, -1.0, -1.0, -1.0, -1....</td>\n    </tr>\n    <tr>\n      <th>5</th>\n      <td>2199062688</td>\n      <td>False</td>\n      <td>[72.72727272727272, -1.0, 60.0, 10.0, 14499.99...</td>\n    </tr>\n    <tr>\n      <th>9</th>\n      <td>2357425536</td>\n      <td>True</td>\n      <td>[-1.0, -1.0, -1.0, -1.0, -1.0, -1.0, -1.0, -1....</td>\n    </tr>\n    <tr>\n      <th>...</th>\n      <td>...</td>\n      <td>...</td>\n      <td>...</td>\n    </tr>\n    <tr>\n      <th>11496</th>\n      <td>39220893</td>\n      <td>False</td>\n      <td>[1.8181818181818181, 0.9090909090909091, 17.09...</td>\n    </tr>\n    <tr>\n      <th>11497</th>\n      <td>2364069194</td>\n      <td>True</td>\n      <td>[-1.0, -1.0, -1.0, -1.0, -1.0, -1.0, -1.0, -1....</td>\n    </tr>\n    <tr>\n      <th>11501</th>\n      <td>2364683192</td>\n      <td>True</td>\n      <td>[-1.0, -1.0, -1.0, -1.0, -1.0, -1.0, -1.0, -1....</td>\n    </tr>\n    <tr>\n      <th>11504</th>\n      <td>1378532629</td>\n      <td>False</td>\n      <td>[-1.0, 20.0, -1.0, -1.0, -1.0, -1.0, -1.0, -1....</td>\n    </tr>\n    <tr>\n      <th>11506</th>\n      <td>2383025796</td>\n      <td>True</td>\n      <td>[-1.0, -1.0, -1.0, -1.0, -1.0, 10.0, -1.0, -1....</td>\n    </tr>\n  </tbody>\n</table>\n<p>6787 rows × 3 columns</p>\n</div>"
     },
     "execution_count": 14,
     "metadata": {},
     "output_type": "execute_result"
    }
   ],
   "source": [
    "users"
   ],
   "metadata": {
    "collapsed": false
   }
  },
  {
   "cell_type": "markdown",
   "source": [
    "## Timeseries clustering"
   ],
   "metadata": {
    "collapsed": false
   }
  },
  {
   "cell_type": "code",
   "execution_count": 12,
   "outputs": [],
   "source": [],
   "metadata": {
    "collapsed": false
   }
  },
  {
   "cell_type": "markdown",
   "source": [
    "## Shapelets discovery"
   ],
   "metadata": {
    "collapsed": false
   }
  },
  {
   "cell_type": "code",
   "execution_count": 12,
   "outputs": [],
   "source": [],
   "metadata": {
    "collapsed": false
   }
  }
 ],
 "metadata": {
  "kernelspec": {
   "display_name": "Python 3",
   "language": "python",
   "name": "python3"
  },
  "language_info": {
   "codemirror_mode": {
    "name": "ipython",
    "version": 2
   },
   "file_extension": ".py",
   "mimetype": "text/x-python",
   "name": "python",
   "nbconvert_exporter": "python",
   "pygments_lexer": "ipython2",
   "version": "2.7.6"
  }
 },
 "nbformat": 4,
 "nbformat_minor": 0
}
